{
  "nbformat": 4,
  "nbformat_minor": 0,
  "metadata": {
    "colab": {
      "provenance": [],
      "authorship_tag": "ABX9TyOFCAnNUzAYHcSMmMHnU6iR",
      "include_colab_link": true
    },
    "kernelspec": {
      "name": "python3",
      "display_name": "Python 3"
    },
    "language_info": {
      "name": "python"
    }
  },
  "cells": [
    {
      "cell_type": "markdown",
      "metadata": {
        "id": "view-in-github",
        "colab_type": "text"
      },
      "source": [
        "<a href=\"https://colab.research.google.com/github/leejeongeun97/dataAnalysis/blob/main/ex0403.ipynb\" target=\"_parent\"><img src=\"https://colab.research.google.com/assets/colab-badge.svg\" alt=\"Open In Colab\"/></a>"
      ]
    },
    {
      "cell_type": "markdown",
      "source": [
        "#조건문, 반복문"
      ],
      "metadata": {
        "id": "yBMORVj3bGpb"
      }
    },
    {
      "cell_type": "markdown",
      "source": [
        "## 1. if 조건문(if만 사용)"
      ],
      "metadata": {
        "id": "mDJR8YVjcx-j"
      }
    },
    {
      "cell_type": "code",
      "source": [
        "a=99\n",
        "if a<100 :\n",
        "  print(f\"{a}는 100보다 작군요\")"
      ],
      "metadata": {
        "colab": {
          "base_uri": "https://localhost:8080/"
        },
        "id": "173PIpYdcoIB",
        "outputId": "32dc4e4f-1401-4369-cf98-b868a0007ebe"
      },
      "execution_count": 1,
      "outputs": [
        {
          "output_type": "stream",
          "name": "stdout",
          "text": [
            "99는 100보다 작군요\n"
          ]
        }
      ]
    },
    {
      "cell_type": "markdown",
      "source": [
        "## 2. if ~else 조건문"
      ],
      "metadata": {
        "id": "ocj5BPC2czkh"
      }
    },
    {
      "cell_type": "code",
      "execution_count": 2,
      "metadata": {
        "colab": {
          "base_uri": "https://localhost:8080/"
        },
        "id": "bW9pzSEIV-hQ",
        "outputId": "1ade4d06-4e0e-47f5-d639-05161b8bf810"
      },
      "outputs": [
        {
          "output_type": "stream",
          "name": "stdout",
          "text": [
            "숫자를 입력하세요55\n",
            "55는 100보다 작군요\n"
          ]
        }
      ],
      "source": [
        "a=int(input(\"숫자를 입력하세요\"))\n",
        "if a<100 :\n",
        "    print(f\"{a}는 100보다 작군요\")\n",
        "else:\n",
        "    print(f\"{a}는 100보다 작지 않군요\")\n"
      ]
    },
    {
      "cell_type": "markdown",
      "source": [
        "## 3. 중첩 if 조건문"
      ],
      "metadata": {
        "id": "MaSW1_Jac4iw"
      }
    },
    {
      "cell_type": "code",
      "source": [
        "a=int(input(\"숫자를 입력하세요\"))\n",
        "if a<100 :\n",
        "    if a<50:\n",
        "        print(f\"{a}는 50보다 작군요\")\n",
        "    else:\n",
        "        print(f\"{a}는 50과 100의 사이군요\")\n",
        "else:\n",
        "    if a==100:\n",
        "      print(f\"{a}는 100과 같군요\")\n",
        "    else:\n",
        "        print(f\"{a}는 100보다 작지 않군요\")\n"
      ],
      "metadata": {
        "colab": {
          "base_uri": "https://localhost:8080/"
        },
        "id": "0OYljr9zfAIc",
        "outputId": "42211b51-a28b-458b-fcb7-438df1f26931"
      },
      "execution_count": 5,
      "outputs": [
        {
          "output_type": "stream",
          "name": "stdout",
          "text": [
            "숫자를 입력하세요56\n",
            "56는 50과 100의 사이군요\n"
          ]
        }
      ]
    },
    {
      "cell_type": "code",
      "source": [
        "x=int(input('숫자를 입력해 주세요:'))\n",
        "\n",
        "if( x%2==0):\n",
        "    print(f\"입력된 수: {x} ==> 짝수\")\n",
        "else:\n",
        "    print(f\"입력된 수: {x} ==> 홀수\")\n",
        "\n",
        "\n"
      ],
      "metadata": {
        "colab": {
          "base_uri": "https://localhost:8080/"
        },
        "id": "0_zfzPrQgHIb",
        "outputId": "22dd7dfb-9247-45cb-ead2-712016479270"
      },
      "execution_count": 8,
      "outputs": [
        {
          "output_type": "stream",
          "name": "stdout",
          "text": [
            "숫자를 입력해 주세요:35\n",
            "입력된 수: 35 ==> 홀수\n"
          ]
        }
      ]
    },
    {
      "cell_type": "code",
      "source": [
        "##한문장으로 if else\n",
        "\n",
        "x=int(input('숫자를 입력해 주세요:'))\n",
        "\n",
        "print(f\"입력된 수: {x} ==> 짝수\") if x%2==0 else print(f\"입력된 수: {x} ==> 홀수\")"
      ],
      "metadata": {
        "colab": {
          "base_uri": "https://localhost:8080/"
        },
        "id": "A6J58gQMhoPp",
        "outputId": "a2325cd6-508b-4d08-8739-386da9cb1e7b"
      },
      "execution_count": 9,
      "outputs": [
        {
          "output_type": "stream",
          "name": "stdout",
          "text": [
            "숫자를 입력해 주세요:33\n",
            "입력된 수: 33 ==> 홀수\n"
          ]
        }
      ]
    },
    {
      "cell_type": "code",
      "source": [
        "import random\n",
        "print(\"가위바위보 게임을 시작합니다\")\n",
        "print(\"-\"*10)\n",
        "\n",
        "com = random.choice(['가위', '바위', '보'])\n",
        "random.choices\n",
        "\n",
        "print(com)\n",
        "print(\"컴퓨터는 정했습니다!\")\n",
        "my=input(\"가위,바위,보 중 하나 입력:\")\n",
        "\n",
        "print(f'컴퓨터는 {com}입니다')\n",
        "\n",
        "if com==my :\n",
        "    print(\"비겼습니다\")\n",
        "else:\n",
        "    if (com=='가위' and my=='바위') or \\\n",
        "     (com=='바위' and my=='보') or \\\n",
        "      (com=='보' and my=='가위') :\n",
        "        print(\"이겼습니다\")\n",
        "    else:\n",
        "        print(\"졌습니다\")\n"
      ],
      "metadata": {
        "colab": {
          "base_uri": "https://localhost:8080/"
        },
        "id": "na3VAHTFiA_o",
        "outputId": "bfb1875b-e83d-4878-c51d-44cf8fbff36f"
      },
      "execution_count": 30,
      "outputs": [
        {
          "output_type": "stream",
          "name": "stdout",
          "text": [
            "가위바위보 게임을 시작합니다\n",
            "----------\n",
            "바위\n",
            "컴퓨터는 정했습니다!\n",
            "가위,바위,보 중 하나 입력:보\n",
            "컴퓨터는 바위입니다\n",
            "이겼습니다\n"
          ]
        }
      ]
    },
    {
      "cell_type": "code",
      "source": [
        "a=int(input(\"변 a의 길이 입력:\"))\n",
        "b=int(input(\"변 b의 길이 입력:\"))\n",
        "c=int(input(\"변 c의 길이 입력:\"))\n",
        "\n",
        "if a*a+b*b == c*c :\n",
        "    print(\"직각삼각형입니다\")\n",
        "else:\n",
        "    print(\"직각삼각형이 아닙니다\")\n"
      ],
      "metadata": {
        "colab": {
          "base_uri": "https://localhost:8080/"
        },
        "id": "CTiEaS6vpQ9K",
        "outputId": "d1c15dca-61e6-4833-afaa-d36d9f97cc75"
      },
      "execution_count": 33,
      "outputs": [
        {
          "output_type": "stream",
          "name": "stdout",
          "text": [
            "변 a의 길이 입력:3\n",
            "변 b의 길이 입력:4\n",
            "변 c의 길이 입력:5\n",
            "직각삼각형입니다\n"
          ]
        }
      ]
    },
    {
      "cell_type": "code",
      "source": [
        "age=int(input('나이:'))\n",
        "\n",
        "if age < 8 :\n",
        "    print('미취학 아동입니다')\n",
        "elif age < 14 :\n",
        "    print('초등학생니다')\n",
        "elif age < 17 :\n",
        "    print('중학생입니다')\n",
        "elif age < 20 :\n",
        "    print('고등학생입니다')\n",
        "else:\n",
        "    print('성인입니다.')\n",
        "\n",
        "print(f'당신은 {age}살 입니다.')"
      ],
      "metadata": {
        "colab": {
          "base_uri": "https://localhost:8080/"
        },
        "id": "PoUSj2QoiA9w",
        "outputId": "fe580069-af19-41f4-e4d1-0ead489ae0d3"
      },
      "execution_count": 36,
      "outputs": [
        {
          "output_type": "stream",
          "name": "stdout",
          "text": [
            "나이:19\n",
            "고등학생입니다\n",
            "당신은 19살 입니다.\n"
          ]
        }
      ]
    },
    {
      "cell_type": "code",
      "source": [
        "score = int(input('점수를 입력하세요:'))\n",
        "message ='success' if score>=60 else  \"failure\"\n",
        "\n",
        "print(f\"시험에 {message} 하셨습니다\")"
      ],
      "metadata": {
        "colab": {
          "base_uri": "https://localhost:8080/"
        },
        "id": "HIfJw4nszztF",
        "outputId": "1a02bd9f-a736-4838-b0cd-052cd90f5be3"
      },
      "execution_count": 38,
      "outputs": [
        {
          "output_type": "stream",
          "name": "stdout",
          "text": [
            "점수를 입력하세요:77\n",
            "시험에 success 하셨습니다\n"
          ]
        }
      ]
    },
    {
      "cell_type": "code",
      "source": [
        "temp = int(input('온도를 입력하세요:'))\n",
        "\n",
        "if temp >= 30 :\n",
        "    print(\"에어컨을 켜세요\")\n",
        "else:\n",
        "    if temp < 20 :\n",
        "        print(\"내복을 입으세요\")\n",
        "        if temp <= 10 :\n",
        "            print(\"난방기를 켜세요\")\n",
        "    else:\n",
        "        print(\"온도가 좋습니다\")\n",
        "\n"
      ],
      "metadata": {
        "colab": {
          "base_uri": "https://localhost:8080/"
        },
        "id": "p0WnyfM410hV",
        "outputId": "b18e5b7a-5ca2-496b-94bf-256572ee8f79"
      },
      "execution_count": 47,
      "outputs": [
        {
          "output_type": "stream",
          "name": "stdout",
          "text": [
            "온도를 입력하세요:5\n",
            "내복을 입으세요\n",
            "난방기를 켜세요\n"
          ]
        }
      ]
    },
    {
      "cell_type": "code",
      "source": [
        "\n"
      ],
      "metadata": {
        "id": "JTi2oTVo8a_9"
      },
      "execution_count": null,
      "outputs": []
    },
    {
      "cell_type": "code",
      "source": [
        "\n",
        "from gtts import gTTS\n",
        "from IPython.display import Audio\n",
        "import time\n",
        "\n",
        "def Speaker(stmt):\n",
        "    kor_wav = gTTS(stmt, lang ='ko')\n",
        "    kor_wav.save('kor.wav')\n",
        "    display(Audio('kor.wav', autoplay=True))\n",
        "\n",
        "print_menu= '''[커피 주문 머신 메뉴]\n",
        "-------------------------------------\n",
        "- 아메리카노 : 2500원\n",
        "- 카페라떼 : 3000원\n",
        "- 카페모카 : 3000원\n",
        "-------------------------------------\n",
        "원하시는 커피종류와 잔수를 입력하세요.'''\n",
        "\n",
        "Speaker(print_menu)\n",
        "time.sleep(3)\n",
        "\n",
        "print(print_menu)\n",
        "coffee1 = int(input('아메리카노 몇잔:'))\n",
        "coffee2 = int(input('카페라떼  몇잔:'))\n",
        "coffee3 = int(input('카페모카  몇잔:'))\n",
        "\n",
        "total = 2500*coffee1+ 3000*coffee2+ 3000*coffee3\n",
        "print(f'지불하실 총 금액은 {total:,}원 입니다')\n",
        "\n",
        "money= int(input('돈을 넣어주세요:'))\n",
        "change= total-money\n",
        "if total > money :\n",
        "    print(f'돈이 부족합니다. {change:,}를 더 넣어주세요')\n",
        "else:\n",
        "    print(f\"거스름돈은 {abs(change):,}입니다. 커피 맛있게 드세요\")\n",
        "\n",
        "\n",
        "\n"
      ],
      "metadata": {
        "colab": {
          "base_uri": "https://localhost:8080/",
          "height": 313
        },
        "id": "5mOQ1Q5N2qmG",
        "outputId": "21c8a640-2eca-4b0b-995c-f5a8c7a0f6cd"
      },
      "execution_count": 71,
      "outputs": [
        {
          "output_type": "display_data",
          "data": {
            "text/plain": [
              "<IPython.lib.display.Audio object>"
            ],
            "text/html": [
              "\n",
              "                <audio  controls=\"controls\" autoplay=\"autoplay\">\n",
              "                    <source src=\"data:audio/x-wav;base64,//NExAAQUFI0AHhEJC2ISCnGOr5wAgAocWcOLEAAIAgCAJg+D4Pg+CAIAgc+7lwfP//8u/ghlAGfE4Ph9wIBinB+UBAMCBy3ly4IAhOF1TkyOAuXKXO07Uaypqspqy2W//NExBEReGI8AVkYAOM3S45VqlqtUIioIuAAIlkFxePF2rselZctrJsOBFY1aCIoeDocmGjbHjkUVuov/9n/9q/SOrFYscwoLlMPbV9Ri5Cnyk0qp72FaXuWk8hBMseK//NExB4YiQpAAZswASHlThkMTtKVu+/qY1+7zGfXfWj062slDC74PePv/KmS/mfkQL1NM/KAyfe5Lir35/d/dOUKb3Wp/s+t/u0T/6aI51uM1WLJoKFPDVjwC2CRFqXV//NExA4U0w6YAY9oAJNExLsSplGDdxNi6aDJAoYSDy10kR2F1zH60G0DNdf/6KS1/7/Urqel/zr/////+t3U2upBmNknWn//9TKW1v9SZ1aB+lU+RSoqdb5rPmxmfqYm//NExA0USoqcAc8oAO+rZWw46nVdjrOc93GQNHgCKjkMTbSVqJWyX99rXq922z20Ip3etdy///V+l+klEkECM6n86IlGshil+UReVCRFL6P1qoZn2dhUZpOt9W9pyEhB//NExA4VijKcAMNEuPLxrKQALodBfa62JgcAVsLMW4lwXQaTcfSQLUi8bGR9JXrs9Xr731WXZGg4RlUjlZd3c6KVHcrXX/t///+/eqwUJPQVmU9/9VWpUbqYXo8O7L5A//NExAoSqWqwAMzKlMibx/msmGUlzQM8BEw1NiHAKsD3h3g0cChThiQEbClF0/mTfV1L1fTk4m8YHXwdqCedKBw2Mag51HP///+KNhtCmtu0YARN1RPWaKa3aiMx3XyD//NExBIVqXKsAM0OlGVAAsbIsVwwYDgJEh9AYBgFxy+aBbgqush2oneezB85zefoupLAwPOMBYL6CM9Bbigfa4toFLuPu/TZddO/66Kw0QIw1bnG6EsBOKo+gcxcfgWC//NExA4QqWasANTKlBzQ0PUqOwEpGxeBqAaCy4B/EMwX2G+faQVpx9baW69H0fTo9B5mCrwkK52w8bFdxXf///yK3TCgR66ipiNTPzDOBzQ6YceAKyazSQY20VjXICY2//NExB4R+WKMAM4ElGI5oaGJqV3Zh61jWpsq1Nf7+P444/jl+jGoZ6lqVsMKdAIVLo/5S3CgLR0CpegkxGIbAYZDICChjkYAYjAkBLgAoKQ1dltXKyrOjNxqsIxIlUtl//NExCkSORpYAOYEcOzfd491aV1dV8y9b7bLVmYsKyiWeLlcKpBVbkIiXWMWFBiAjGYpFZw8mGlBlAiOI8A51gKQsUl85QyCzMyrO84ThQ8/0PUwqkoDobJjg0o2kcWE//NExDMSCH5EAVwwAKITpoloDws4csspq0X1P3ps/6K99FUyAkyeWBiIN2E8zWZDSJHBQcliKD8gIJPNDs5K7kDQ2gimUVLYfCpcqNhqE4lFgX/LJStueKAvEN+2ltYe//NExD0gavo8AZxAASpPH3I2qt3l9o5qOEPBuxlNT9ddV9+9TtkCgwcYkK9TVfExNJ3UqOeCiDEh5PFxcPzxSqu//j7/R6Tm+fvnxRB6dGWx0lZGHulgkU0eisnl1rf1//NExA4UkdKkAY9oAG309qfT6a2OGqmU0yLjoScXDcd4Ub9TD0HAMAboMCvAUgVEvC2Hp/TepDRL5sIwO1Jf/W71r6CTnUzYc9/8pp///ucEqiBjVOwBYISJm3OMZXyR//NExA4SqWKkAc9AAH7194/rrOP/P1/31w2rsNGmw3r2SKmhyIqSawgCodHpN+VGNW9bKBcHRwsLgkAzCO0jULP/62oYy3up+LV6W1bEJDBtD/M6CqYs/arVQBWQRkPh//NExBYRGUasAMiQcBtX1f9P06B8NnGArEesu/Srrh4Ilhyhwtg3CDq0ehceaBRp////qo+v9K8GEjVqxvYjoo3blKSGMoqguzAdn9k9smJVmzbPoc5qMWmAyVpDEDL///NExCQTAVawAMtSlDQb1I56Q/zaa5QDJLyOs+illNG7Z6zhf//6L3MWjsdeMcqM3qg2FxSOtvFQvONc3XSEkSa9647AN/9kpfH/HG308toXxGHhpg+DTJnYy8s/X/6G//NExCsSiVKwAMqSlBNEFVZIUoVY47UJuosp4LJ//9HJb2s1A0BSRn+w+gdVmZdHSWWLDaGACCILApn3wv/4/clOW9XfUjqP2KjQzJo8wlYlU9Gn8HLZJOuyDB0+YJva//NExDMSUWKsANNWlA+2WQrXlZl2w9///6Ps49/0PUMEDQbV/4bEF8H2ZWBll+U0Wjd/8CtTF1bT++r5htiYASNUQ6/v29lnOCFVi/2v1STA9CZb4go///uW4+IjliH6//NExDwP6UqwAMqQlGQOGkrumflQzlyFhqgLisDYFx3DNcX//+huyBgISNGeuIRhX4aDglGIEb0iwVQzTGfr/VAoGeGgaW63EsO63KJFnoOkqmexYwSs5U13m4LDM2fV//NExE8QELqoAMIETP6/jjj5MX//5PzQjVf3y12S6KjXCM5tWSFIEHR7yySRdKuhk7aeY1GhUVbPijVPdw+cAjpClAtJiNCmmVPQDH//////8f+fgWP5v45c+E9Je5eK//NExGESgWJwANBElHqfe+btKd3e///f/hP+4//ev4Sn5uXeBQyUrm+YMcOwbiODgQFi58vcCgohZ8ChiChmKGMKGCgoKGWAVcyck9w80sL7ZyE+f/ibv/7qjKjVdnXY//NExGoUixasADhQueZACEyjgmaNK8rF7S7xVPwotB9VwmnNR2jxKx60LxDwWxiKZTCjiiuIlmsNpiuaHCtUzqg8XNNID8aEIpJgdB4PQaJTEc4Qyg/HCh7hYaLQJHFD//NExGoa4xq4ABlQvZJFgccQHasiLRsvs8/REu8iooZVyAhEPYtflRgEBDGltb9V3dHt9vTt/lYrJR5TdVChfOeJ0/X/vFzZj3YolsjooqgF+2L2HmNASlpGNKRxTWAg//NExFEQ+ja8ABhEuQcRwFJX/59TlqX28afYrpFwwVSIIyYbyUcqpLLCcPg+tIpltSggBhKl//9P+DQBbsljwFKqY8UN71tEq70VmYaClwafPEYx4LMn0Ci4HJr71vXM//NExGASmLKoAM4STNShn7xUNSsIBiehYAVc/PvtCw9Cs5SuUqGEjxhyCC5PTLqkuAwm4sGGf////37Nv69SoWQGBxAGJEOZr4cuMkGjHCdGOWK+neOch9R9FerxInUB//NExGgRqTakANMKcPqGkSN3D3LPmq5rlF1Z1DgqKgIHlR1f/1xIPMeT////oU0j7v+glXeUBNZkwdMl5w84cUQjgGl2apbNDwezzY/3aSCejxVip2zbLnHujNQdtTbM//NExHQR6TacANvKcGXPloWplH5ImEwGKcAqPGnW9P////lT4uGjJtWAkPzCt8y0LHAADUSEEDmAlDQ48t/a6dbJiPOKbnpH8FWRG1STdw1L2rs/IxIZGpTTxY88WDIj//NExH8R0PaQANvScLB+ONhDF3pT////zaaUqrEHmOLZy4PITBnNSt+xglDBfcBixuQswYCJBGANMuRe4bGhjJiWIwpq8LNvu1bvseOaxh2FseYDDQUUNBQip3Wxv/////NExIoRSP6UANvQcPTpamr4ICo+Rm7ZwoFmpEDuzgKnoTFS9kgmiwV+6B5RY9OlqmvPSqKY/SapqfpUZHqTWpXxSYPsHgwWAZRZ3d/7VD5w24/////7iA3/0rqlgoqx//NExJcR0PaUANvMcM3Y5uZYEGeawEocTeHlhalcI+GG/5WZtKmigwTLJZAdHL69v6n11Mz3mPMZD6iioCjKF7v/pU09B0gzf////WOC3/Wxc3WA3GAgc8RZkrbm1QT7//NExKISoTacAN4KcEsGoigTLxpzZjC/iXTkbq5kZ0iFkbbpirGfnKpCxmXuOMiNGpcwERyLx+bf/3zTSaE7f///+phz/8lrelTUcYPiOAGFncOxJ5i840xRiyoREayc//NExKoSWUagANYOcEWpVz5Uu+vkJd0MFVXXI/Uzzbk19jPHZIeTAOj1HC+R+sBiQmEnGrv///XVD87/6p3rla1QSDHvjpETJqGgkClTqmAF4OCYwSkUlx5z4en6heru//NExLMSAUKoANPOcBXEfUqhVdYJJSolUCI6UGXjrocYcKiRopDhbGhPv/TuqEpK3////lYicFbQojm8WiqrYzGnty34HBNRmH4jTbY+Y2UiR/xD1mJWrW5V4E5Qyzzm//NExL4SgPaoAMvQcP6Degl6Z9osiTTtQNR7WtkZZbnXoYm7////9aqcUzMEEg5UpRIQIPGJkYRB5ahCF0Yndf0+w/n8BDCHTPn2cuXw9jdqR9jV7Jtmh7uI5uvd9D7m//NExMcSgUKYANvOcAdYrih5Tqjci5irJ4MlgktzU/f///pFszVnRc0wiWjsYvAweHAaZ9H40DWehgNFgU8x/wdn4Epiq8DWWojBvb+v0zdjP5FhTIyJWCBW8QLKIb6O//NExNARSQaMANvScK3E6yZsbRozw8Okv2TZwu9F3q//X+1m0WmVn3EMIo852OiYBBcqmFhY0VKgHIZpzWR2bhkniNYYqNgnWy6dRrvI11O40MAOOEyYTwmDHFpRCFOB//NExN0T2P6EAOPYcOECJILAZBMLG6Cl2EUSY1xoAGT03//81+leyRQqlOhmAhG2eUwWkzPgHfQRC4oLUtTTDJse8ZrRZYsj7rVEOW1PC2u/qdTVh3jiOyHWuW19mix5//NExOAU4P6AAOPScPTri8aHFhpKEJ8BjeEfGpYvu//rou/YSqeHQ1WKvmY5JnQgCE0G2phQGzEx0NCA6HC3JZXm/nAHbldRRhVN5pz121salctuEqizsfDcTSNEoLEA//NExN8VSQJ8AOPMcHwcUBRCvX06P//86vvX2J1oWFBIMbR7HNiC0DkpAOInFEqx718Dxs1kZS0M03BgF7FhRb6cp16kNejXq83PfVup+8ys6iJYEzJwjuWPqOZ3eeUh//NExNwUWPp4AOPYcHZHJXZ/qVU9CAdKPC4bMe/kIvSqn0xDU74IEENzkVVCocFg41Z8FA5f0fgLs3YwFxCpjrcxKShkE2tvLf++Pn/ubs8YlBKQvr6v///////////k//NExN0SAPJ8ANsScNbyFg8r/6ZaaFKaGQCBY+LCEwmnTTZaLhmKwiTAFBgSBcytN3YkzWCX7VVTQCCPQwx5uvXKft9t71SUukVe67/NKkDRFBqA4SDxMiDhYhaxhdc3//NExOgVSQJwANvScGidff//4isAITSVimj/pLuFqqGADEo4eCCBtEIMYAImCmJk4KYqLmakK7kChYAAgkYwTEUdHjEaRzPBEAJTNMNT65401tt6d/7VjHVJb538OZWM//NExOUSMkZ4ANrEuG9hkhm5ieahwuEk6B02zmIPrAAIBwvduE2u2IF0MCyz/////0//FaskMBXaxKfjTBGjIgiJkgScILiQgZRGDQaSDQsBlYFJw4VRQkXgMC4w60rK//NExO8WkQJwAOYQcGVCriUdW/BcDcgy9ld3Mf9v/59/9LQ3TvV02wNiQoB2jZhgtmNmBqsQJ5MuiHKnpSa4sw8QvP///+lSRjUCFMz6c4spi9XHILNVioSRQXiILjGC//NExOcaAV6AAN5MlC1kxuwr9QKZvRroh2VL+iymKmTzAwi62YPBCKLXb338Mub/9/rn/XfNy2W8FuGB7CuMqSoGI4hQNPtbG2VFnBsh///+pdTJh3L2Aj9KVL1oY4II//NExNIcSWqQAN6WlMw2HgTPgJK6kcJzrrsXHai8ww6mZkjUv2B12QyDAyGoU1hJ6WvZzVFIWBORu0TtpGDoUEgaKGGyyQr//+v6WJFB4umntG4CZ8LQVgku8wYQkSSZ//NExLMUYVKoAM4QlNFymDV4dpftVP1TXIYzQwWSFQBgDD9NoG5szWKHzJVTpsqE3FVLfKqDi1ZprjihpDe3iD05lfyNh4XAn/6VPUHECCOJxTk6tXVbetvvVVzzlyhf//NExLQUQUaoAMYGcJ+bWUmyZPQln+sv/LaQ53J8g5hwnTM4zqe3BfyvUyCxAhTIjEZmUnpIG5HGFEBuCkEDRiUUyddE6mTjidBsZzVJ5rvtdHM2zIjeodXJmaicHEcH//NExLYTYLKoAMYSTEjEEKFtG3k4OmpekYraIycjMTC8iNGkwjLKEVA032/////i///sma//3/Hw9X2UpzuWmYPSuRKi8RssxMLg4485DEvFzoYtaCJ+oUk2zjU4I55J//NExLsgWxqcAHjSveySprzUZnTEElMadJ6dIXylJhlZEiIJNlSVlFaVOSQLtKc/O10NEbKUdwmwXaX/////TSo5ga4y2ZSnneSROthVxQyDRWqt1SWuf5pfs6Zhd0Mp//NExIwZaxasAChSuSknPW7qEi95f+errZEobzMU8dMnNzLHSrjuXGL///////Jf//ekzGs97vsfbzNLVJJqDWA8VFyZEzg67LJi3Cn7wxkyUylSea+pRlTxTT2jel21//NExHkQawLAAAgQuczbxa8lVqlQ/1sL3yYBb9r////Zf/8/n/H96PSRY35myRw+xzOKnMcGrH4XJBoPFBOanspRyDkiYtlpYGC1vTwNWYrVKJHbOnUjUz3cAq4arooI//NExIoRoqrEAABQuUauSt86NF2v//////ILL/8vUvv/5566ihKADgFdDwYaGJzoYwwHwj1oWCu51GO5bH6mSOFNdv++qGvMmpZd4zaqxtz1E5DffrHHE8ACA0KF8Jwd//NExJYSanLEAABQuQPWlmSb5jGwAUix//I1YIne/z9jaObGXl/8fJnHQUZCQxxf4alCNegK0BPKeaEyztYdlSKntJd3Yh86t3Zp1PqMOPE+B4KQBEwMVUVDkqVQchhB//NExJ8QgtLAAAhGuQ2tA/eUO4T1vlnuZKBvKwEY+TR+5hnbKUb49k+qHefauyUL85WqfcIw8F5n////T//u+pyK/KhNaK9dKoJEDjMkyPfj16oOHmjOO9tNWzaApHwq//NExLASObKwAHhGlA5eBW8q7m6xwXwMIygYPMkdaY9bnmqY7HNZzP////u/9qKFC6g+XtfBZvdbv05YRjwGVNkDDUu3NY5wBoukJvItL4z+vm2zvJk4BacYiI14O9vG//NExLoSIUawAMoWcPZQKh5NTt/fzNarWSx0Cgqd////1N//v4aWEnw15ajpqqPNObmVT6PA2lgswEBHtjn5PuECczKkEtWzbTx5rZV3zGrks5ezstmCi/O+iZuJAWQO//NExMQRMWK0AMnMlJ8WcrspQeNQGOcrr//vd9qkcBUKmnrLAIb//iQwh3Bsa099F4CgG+VjOpgqCN7wZj7PQrw07q7e67Ibdo1AT2LuDNw9cs4CPBwFJMLQSefq+wMA//NExNISOUqgANJQlPDj////+9MsweYMVY+qoYa9nk7AQhjAcbsIExHLQsJFAE/qkGLMd4B8QpIhzlLFlUT5sOV9Ae01JGNoUMT7LCAmeYa+s7N6Fs0SkABBWSlXyTQL//NExNwSWPqIAOPWcKtZQHUrOJMElf7f+/7LjM6B0JQqayj0YCQYuQQcEQSEgM52TWCYVWYsr4uyYoS1DZo98LcDOMxviXX8qit0r83UkhjcNnK7KNyIxomxH1ufFVCN//NExOUSiP6IANvMcAPXr///+n4+uPGBUKfGH6hLemtwpFwsJB4DPLFQ+sSBGbKwEvut7FVGF2QPTkblKqVjNnMQx2NpyjipCqIADEQfPLAkoDRNERWKMJAqTF3dzmo+//NExO0WiQaAANvScI+13dLHgncZFgvVTGMAAEwnDzeA7FAUYKRwCRyW4QGku59QJs1JJXOcFujhOaHgs5Q82Rhyoyx/1Xtzr9QzS9CEMaZrma6f/9/zzX03/6Wq/9/9//NExOURsP6AAOPScC/6aKg6GC5Aj/9CKoIMYhM0B2TT5fMRBA1KTwwpBQHmAgIEApPVNeicpdERgWWiTAwSIOcaheb8+XN39/burO/Jkx+MoHdFe3keJ6B3d8W7be33//NExPEVSP5sAOMScPXp3v/6////0V5QQKqHO//RStMPgg1QcgeBhwLGkBaGEMGAgwcIbCJ48GIpUA0XiIZ2NPqiZvgQXckmPqmF+avWI5pEYOAaoMBSdcMcsxPtMWuN//NExO4UqlpoAOIEuIUAELbXc1vXXZe36m58+gtAlP+jky+5gsQml4MYMHxiokGpwyYtCJhkRF3HSGgo5iN69ZRKcK2WdNKIxIq8AYDDk0UIm6hCE/7uWb8NslEInJiz//NExO4WOlZcAOGEuOLrqFOtdxr1KjE0TSSh3qaV4YCefVWHEUJJ4mBKYMt4PvXdKiS9cgVCKsJ8vEsJcKDFyBvgZHHQdUXyJj4Fxhb4EJCdhBggmICmhuYGaAXOhYuO//NExOgVwSZgAOPQcDD5BZ4F7ELAKWDeQG2CC7WFtLxUNDM0EdCcCBkFJccyr5cL5oV0LjlEIOeJwLrp2/6ltsyv///06+tPpIOgx6pv//9BBd0O2gggdNyLmxpogPqO//NExOQRiNJsAVxIAL+mdQtaUB6EoGRCN13gMwJFRprvYKq409n4tyZuarz5ZYzdLmBPhpivVUwjBc0iMImidXURcsCuVb9hPCNtCHj5wtLe0POp7W1Bxh/SyvgSsECX//NExPAm4xKMAZqQAZf///aK7f/9CntXP/VVuxAAoGkRIBnlaMwIDUBqlY7TcsJEKZIKx4MTT35jUknpCj7fWguL9tcF2bp/FjKtECwZbJTBcsuRExKTh9JxrJTUSjKW//NExKcYSV6kAdl4ALmLj1bRvL6ywSR////VuT/bsIJYfkj9asoyCaR7F+zMfGk44acjn0AKK7ML3c8IHa9f5ieDv3/g7y8plxpLjC8cbWhA84onJMBFtGXbXDiSYmiW//NExJgXGVqsAMPSlCaZZvvJMQsMHZzYlZrkLWor6rP//7uRHmDtBmL7peQWUPmiFR94VsqpV+nhKhxRQ+GSw9s9K0Wi7ZI7El4SqVfZ9fHv++jrpJxOIYJo4GW9bJlH//NExI4YcWakAMvSlBNEFABYkqmvPGNjvTFGlHIi4U////7FarkucvXOqvkDNdSUhiuS3AhZLWpzBA5TcbXVwDGlAF6BDFdbYbSm3ef7Ufa02gqSlWNyX2MdZzopFwRw//NExH8TGVK0AMLMlKksaaKnRLPZ0RLd////+7/ZWNWQsXNKgSJ/aiaK1kwi1c0EAoh0IY4hRYVawixKokD2SXwYz66qyxvo+9irsYsGAhjWG6rJseUAnUbPu7eKu/////NExIURIRKoANJScOu3a1P+hX1KoMYB3GEgAjLzL0pItvR5aUPCoW8sRH8Hy0wGSJs2vCjoVf06vDL3njnoaBpsH+NEw3281885ZKXbN//pKL//Dh7/tNIUpl8nHtpM//NExJMRYQKIANvGcLVj3AGrCIkmdPJcUyZdgQHoIzSteDS5X1frvXbcaeAYMd/10nFyCouIh+YkQHToJmigWBByf/6Lln5P/kDP7EqE63/0VcZIA3HuCkR0AvwQpPaq//NExKARuQaEANsMcKYUgbiB8Km4tb39xv87f73+J0Bg4KHONZ9a/WeIMCJNSJTsWyufWhfNWGQnf///i3+/97OKjrgwvoXGXAc+aAqRWMOBG4G/idWUAFlhbKh6QVmf//NExKwSiUaQANLKcKeNL/6v5ifI4icDzC906F5CSNpGsjQJtVLynW1FuKTjgiHjWqKf///3Wf/RUk29Srif6ZUvGKvKKiooCGizFNoJYvDPG23fI8PbNeV4XNJIqNmw//NExLQR4UKgAMmMcNE9QXbUKLkCZGTGWZ3C4f/zvLg4hPue+1iP///3UUF1qrCd5GhR8NU+yPrspHP6z6NCtw8jV1z2+61q7P9tmHfMR2oFkxXBtPQUmco0jhJn8fe3//NExL8SGTqkAMoScH/+43NBo77j73Wt///oLDBt2bhkjTUsjO4BFsKBYGWXDGrOAGIxVsOqaqHiv162NlasREi5IEZhxVh9IuqeFVSRN8PmB8VHLdlbCWfY/1vvYTdz//NExMkQ8TKsAMGScM7FQiKNCws9f//+shKelVggvGCLwIWAacIDiCwwqT7NQJayUAcX4xHTVw0tXs22YXx6t4ol5L33JPCrvVa5ruuLUasUPEAwFKIYalRcxWsVlWJ6//NExNgQqS6sAMMMcD00//nUbYjIh0Ohsz///mWkfQpsQh4CogycowAwyaMCgAYjBLcyIUeTFAWHYpXPw7zfV0SOxP41lEORGE1ObEZyu5b8H/6/zn6do0FInB0JhWKy//NExOgUITacAMMScC+z3TnIYVYcFx3b2PSRJNMkQV/3//qeR/ExumuGF0HCGmrog7CbggYsiamUSGjfygKAUPSDXDbDUDo5ATJoWmlQyCgEMB4XDdl9MfDYn+PiN0dB//NExOoVmW6QANPQlEhCKZhjmu+nWbmjU4euk760+Si4932FDx3/9gedS9BCYKa3aLSThFiAMcwGOhwUOCoE048LE3ODg1R8LQnIZbLpo74TkrVdNqNGtFM5TbX271KG//NExOYWoW6EANPOlBQEKEo6O3r/owk8TqqV2u/Qeb//8kLoYapu5j2GTJY03BQqNXGVmsOGDkODxACQwCtkb7oEpx9JQHAji4ODK6jWxN95MrPZNtNc7Orrd7IrN/km//NExN4V8YZ4ANLOlDgRza300IQl39n//2JGkFi1BoEadVDYGYwAmQgRxJwjcyqAVsjoGnyLDDblwZbQhy0rjphuokznrVtfEtU/ezLK5Pk/52nnMwS0FSR4G2CojBRI//NExNkS4Tp0ANPEcIkKJJ19f/X/uywNKhgKGu94a3DgCCgcPwYFw4ar1bsqaFu7ZfcZ8mirTRUxIlurjnb7Ua2LhGOqVVG4FVrr0uATSM55Ch0iIpZ7IKlRIGQrLBxL//NExOASqUJwANvEcF4sKPLYz//p6jLFzPxDLBigWk6YIOjTTzs9qeQyaGRIFgsDRqE8gtJRFK5X1bsZvxrnxnWtrMGpMWFAIxgBsKs3DCrgkHB1EgDJR67/37Gffu9///NExOgTSQ5kANvGcKcV6qoaFMz0bhWdchVqznfs4kuiSKCzUQ4SaVhqBiXSokDBAJA0FQnQuXqms7Orw9hwEav/0z3vvxL6X1+313LpgLLwgSiuGPv33/zXLpRO4aLL//NExO0UAQpMAOPGcO2vG5BYFVkd7dn+7/nqGyPS8r/Z/V1u7+Vhk4NsBEUSkFcLcEEKExgzM1JHLjlUN3Iy8EzidAeSh681SJPrek7nN/Oy+Vq/r+x8L4G4zTscL/cX//NExPATcQo0ANJGcMNiyinPW5/fJm477183/qoGaUzakF6SrUKNNaipoVrkoeRxUU3MiDkOpK6Fhgy5MER00kI3ePbxwQFDrOYKrJwdnL2SjeIYrdo/juDFCkvXDHeC//NExPUXERYgAMmGcd0h7vFW2pb/Z/MuvRQdUJv7twZKulUtdF1vkFL3Z0zruhdbDtodLkHnlNySKT1tVklTp06L4cdfWNkxeaUs2NmbIZQXRUprUioq1Ax7HLaVuUXh//NExOsVEQIQAMDGccHWvzj1qfEYcaBBqzQGaf0tbVrS2QpReGCHCYbo/I6EHWur6whIeCzXkcwTw060rOpLYaOpOUjSkS+ayWSf0NKpsdluW0O3cJCuMvpXzXN65/1k//NExOkVOYYMAJjGlXHusne6/9Q54DvK7fnVAyWb0EYoaepYr3s+1N5wFlWYrlC3UTdYGW0bFTCpuJQyNqCMNqubEDkMyVZTITYDQaoVLjTI0yPFU33CzW8DSqEadeei//NExOcTebIQAJjGlMPoPTIqWyKabTWkYgahINBWCHGkr8zUWmp6U2I1mRgKKSNRO03CUErRKXOVJ2mwk+V2qk1L+GpMYWiQw4DGpaoKBjBjAaJY1JjC0Fh9awEVLNck//NExOwUygIMAJjGmZBVH09H//6CITGDxgFJPj5MQU1FMy4xMDCqqqqqqqqqqqqqqqqqqqqqqqqqqqqqqqqqqqqqqqqqqqqqqqqqqqqqqqqqqqqqqqqqqqqqqqqqqqqq//NExOsUKU4MAMDGlKqqqqqqqqqqqqqqqqqqqqqqqqqqqqqqqqqqqqqqqqqqqqqqqqqqqqqqqqqqqqqqqqqqqqqqqqqqqqqqqqqqqqqqqqqqqqqqqqqqqqqqqqqqqqqq//NExO0VsW3gAMGGlKqqqqqqqqqqqqqqqqqqqqqqqqqqqqqqqqqqqqqqqqqqqqqqqqqqqqqqqqqqqqqqqqqqqqqqqqqqqqqqqqqqqqqqqqqqqqqqqqqqqqqqqqqqqqqq//NExAAO0F4sAUMYAPru7u6IkREQvcOBg+HwQBB34PvrBwEAQBAEAfB8HwfBwEAQBAEAfB8HwfBwEAQBAMA+D75QEP///5QEFb2C8FiHaBKnDbyT7eAe+t2LSejXCefc//NExBcYEc5gAZhoAKx6m4LoM4AmMtaZmSY9z4HgI8pBc3Satl3mBQNKalKsyq2QWS6kC4T3f9aazRDPoLRM1Gn29CmmadZWXzUwO/S/1HtKP/YjyoGVV5whLxAAdoYS//NExAkUMWq0AY94ANMxTk6GIXh/UXUqBP15jaleI8NMcgDWEMPBncI+xdjdarAOh3knl//+9VxeBmLHef//7riStrVjv41N///2zrW9fGdzhh3+XXEfZAC6GE/Vbp0h//NExAsUeVLIAY94AG3zm+c6HpNaFeFIQKuNYZ44h8lsFmJATBUOZ3jtY9BJVIptUpulNfVNRYtN73jT++75+Zb7tCezWzfes71T1gYULgsJfinSK4HQvDQqgPSGJ2lW//NExAwUGSLUAYx4ACCkNiQAsQEAV47S4DBJ0fQwCwJseksTbsUgl7BYEwwN82dZ1a9MXpf7pr2vGi4+6QJbUzvx7qB4SCY6DJ8+CQYOeA+hFflKH1kqBaFGnBsvTB8q//NExA4WCYa8AdiIAH1rKHOpHx50OFq2mrKYHQlQESaOFvIygE2J9I4caY3DhxaJhMcxmLqRmTUaTIpTV2LZ0hiRiZS6gi9F0jyBrc0MCfTJpB0aSDH1KvoRx88i64VR//NExAgUUXK4AMYQlJlZgN9pQsqyvBOmhIgrNTlUEgJfTL+K3wSKkZCpini/UaheNe1lb52zjYy3h6Mz733vSpjVJBsxYi0lTWl5+EljA5zR7H4x7WoqpYKMJCdQqHQg//NExAkSoV6kANPGlWM1Rlp0ZX3ZSumwvINItwBcYqJNFSC3DGcpDrJUI0tty14sdWz5pes2N0rNtkZi0hkTqh4NVVf+lnsfGFMwE/g2Wpc0A58EHXRwafwWqRlQCjqR//NExBERuP6QANPMcE1VfrUKTs1HsSqtc21SQh7DcShoKtzVwEDHloJalFG+l0yCYm1ZRrGkJOWde/6kf///0440LZU6IpDonsSMLNAEYPIrkyAEVgjQ/2xEIRMwqjLe//NExB0SoTqcANvScc94DA1KuIxHao4bcAQAhCAAMDZPiiCk1KVR2sgkyoK+4g+35z9f/f51Bi83vUXGaFPlnIZfAElhUfAq3bzCmVFEWqPKhE2netvY9pd1o/1MWeVE//NExCURsSq0AMPScYLpCsBB0oUMwIz7yRVALAusTiA9i78n9yd1BegJVyAiHwHl9+SOR7L4WGtTg4KND5wE1u0yCKvfUSy50wfrL84/OMdh05U5ChzR9VxURrEScEQu//NExDERIUq8AMsSlWFQqT3TGRUypQrEcmk27xvCTknVyxbscLMKpBGIPCS0sDl4rtMtr2EoG5ogb85whW0/tU4PscSjKCULxISgSoWlxbouKqM5JISFk5Km2soy0P29//NExD8SaWK4AMrYlX1rZybbbVnV5uqq/Vcxew5DRFiWuCNskEQDFxAfUZx3lsebVrky4FxZBWAyZwIzbaPmiPI/6Axe4lXDk76vbHqxDj6g8p7f/////+pn1qrVdbAz//NExEgQ4Ua8AMHWcLTpfYRPAwaJpUfkEnixKBK2zezUSbEitWgvctiunYFFluJiQpaorn3fby2tTNpXK6N/86tvWLZzXW3sUNBwqd////////rqwhpHQ4boJtJ1iTe2//NExFcSkTqsAMIecLZceD4xXpjBDOtCx6OxhdXy/N1Czi4L5QYH7VlCMhbmCAKL34X/+T/08j3OU4fXiU856OaUQLBECT5dH/+IKqk+ncamOEyQNjZ1A+rVM/wzZZCR//NExF8SkbacAMoGlETE/Wfzut61WOsyyYonDUKSabf+503+nkqUAxRcE21yNvLzzXfMub3mFu/53///IbP6xWqNKAKVnPRLXU6MICDqW18BwmM33iwlZaisvG1aTsbV//NExGcR0U6sAMtSlDa0WQZkyeSqBUGkc0J4eWhrX6ZdutGDmGgtVGwntUsSWn0SNqE8u8u40OKf////pGqt+cUGKrzTC8o+QLVyMjdAMVQOMCgsI3Ky7ZbzocrpNxpl//NExHIVEU6oANNYlJt+P/A38Pa3j0o1ssz0bxBjvB2A/x4hI1hCGE/m12yOb9qcruy3FiTxdVS7ZFEloaKOrMdSn0xn8cOZH1yrv//6jn6xQMgBFinVSolEvs11jSh5//NExHAbGVqYANvelIU0cY2k8CEZliIkBbgFBo8BfoFofdiqLYqh0wcyqqqvVWrrNLvsdPOklYDYEgHJzhUtvXHpXLnrJRJds9M23Vq3mVuHi1B3zMNFWJ6LP/6T0tI7//NExFYXgT6IANIYcMRA0PDv9EqVBIExyE3wgzcc66IIfDwYHBQUBR1abq3fxYQhaVTX1Wa52544b6q2CUUAR+gH6WRmWtWy+Vzcbf7lHt10lqBzzz89YImhNyf6ZJrO//NExEsVOU5QANIMlNYDRHK9hLrzr9QQAkxSIjNghOKooweJhoDotCwFlLDoexFoSlaERLXzmd3jcxWq17I9hoiEBZQEBSJLFZVT7GgUlFWAbfQHT2K/6fo17JKt7v6q//NExEkSIM5EAOGKcFEDIqgkaMgy/KvpfS2b9fWWGN+vnUsWPw/9YCznAxZ5AByQ4uhGV+9f/5P+n+ulG//7P//+//v/r71zn7Tuc53yECEABHR9V1FQjWISWPhWCSGu//NExFMRqsJQAVoQAYW80T9FSIo3JhcPEIHSTiXHYWO4VQUAzASw3EgEXGsRslL4IwaDIJQug2DRzFLqQZN1Gy1OZqM0U3+7M1JU0SRRMnHrp/uofETdZsgkcJMujxOq//NExF8gcxqQAY9oAVoL//uutN73ZJbpJqNUHsn1vrT/11oJGJSa39NbGg0olBJlHNMPq06PnyisQmj8+qBtGWvhfWzz2mby4eXV9lo5D++HaUsicG12cBAen4pUQrTp//NExDAaOaKkAYxgANpT6b0d7sZu5fNz+nF+v1pN73nMmFrvY670UfTWGg4yUEBeVMBRrjrmmZQD0rv5RIaEojfg417f0IlOohqbhW07Ta1DD0woymfNSi3phj8FlI5K//NExBoYsnKcAZlYADw9IhuUCoEIhMIHiorPHTU+990Tqq7MKa/UTPydh0n39ISWdcPhklqLF46Rj+KY6/cxts55v/+v///9n8///9x/z9785KP6v6Kq4IUaGSeZAHIP//NExAoUqW6wAdhgAFgOR91nddxWB2kbGIwW5cIjzWLc5HbQ4GiqpLOQPj8XSwv5uy/+z6v5LlYJ6DruPxu3o5Obffnv+8zk0/ppSm05xRT////eYL3GJBZjFpQUM28D//NExAoT0XK0AMPMlE3NPd+ZKie6qIEvQ7zxa0KZWs/nJPucRkUS8dKeRBSxJX1pdavXdctLtq9aThXOFI5NNufcp37vm3uI6yNV8RU5n///45X6osqcTcZfK4GlkNtM//NExA0QQQa0AMPQcH0KUvR/hnIUyKlwRL3ahmb2WGrnysV3BIFocCQRkOspqapXWp9rhtpSRaA6HfrJFRKVOBy01g8QNM0hjMoCpdkcoFiryojC5H2GpENRSONA0ks1//NExB8SWQaQANPQcKGsCucm1iRaVZEOOoMgtExoqjOSbYskWix3EI0G2MksagZHt+dLCU6g7WpkIysPGdXsaXGiYClo8CVtHiCIacD9UMiGuBguafHjuZ68am9dKZdz//NExCgSUQaAANPMcLRsmQBJTReXl0L2bnoujFZeAaBcAgBAJ5F1rdyv///+iiq8kePl42FGjoEApzi+5EpSUBwUX4BeeSDOQmBN2VUNja/NNdF8GOGOTdxZFgQeaj7n//NExDESWPqUANPMcXIf55e4aYaIp9deNZjE7hYZJwR0PfHP1JWgJclkklDp1gIY54kWWOGKw04A/A/Jgfp8jrVa0hhoHmLeYJOg5T/bHje9gCSuVDMU1kYztqhkGFEg//NExDoSESqcAMPKcDqZVZtryRiIx8UOh566lVoAw8XIV0N7vKUMt8ELKBBDwCECgl71X5lTUnbaIwRdrhq6QdZLK90eG+YO7KzJKqUd2mjkKgDKzkHIv+caBF6P1ljt//NExEQRYSqcAM4Kcf/VUWQnhIwYHh1qsIgK0wgooeUJU5iMdE3Vv0dnMlbjr7RQTeYnO4XrOdTX8antk9u81WuHZv946Fa1LVe407///xdFz5c23WqJIeCdpVbIwGei//NExFERmSqYANYEcNUlstdD8TKEJgeSzVdkFp5R5LRexnShSCkONIr8bwoPe23ZZTSXAKlg+PQIBA1f3Ovaz///2cWrIw7V6VTiMEYFH4CwGhFmNNkhpAMShGlbSl24//NExF0RCHqYAM5wSIQCusDiADRkvXZieU5SzeN3/pXpt2t36VrsFBgDCcDBNbFzyKoZNGP///2Wip0TRNKqmSRQIdUoBbL+hyloCDIemVCX6EbCr1FpKwomIsErF2An//NExGsSWQqYAM4EcEuo9E64hVnrPxx9jH2sQjXesUeLguhrurxogf///9LQsVEgGNhFVYZKswGrHTD1DWCRneA0htEvGTmGUNJzXB0C4YEaE3QM87UfsU+QZDJxwI+l//NExHQR2IKYAM5eSDVX7nSolJN9wx456z3///U0NgJIOqQ8XCQ8WYZGUIfBgCEnCiCtwOOgqCmGghdwyQVBQIY8MqCF0V+CEPL0AdoH2CYBeYFWEfDkEWHIJ0wW60DZ//NExH8RsG6QAM4wKEkmiy1Mja90aKC63X93WmkVVRJHJbpI5nBHVXaVCrb//////+VVYOXDwJfWhklNhykEhQbgarAAnFBqGAWhGFRYTEAwCHggLA0IL5FQYHAYdFAD//NExIsY+mZ8ANyEuABZbZEXQ5r9sQ9tZbTRn6ssryyrnLO2al3Xd3r/Ob5+Os7dffbPLuFzX29M8iWKiMaOIWZnYXOOOKlDsFYyzx6oWn/////OhpQGFRw0URyC5y7R//NExHogSnZoAOYKuf+rS6hNmu5VEICMhN4/2KDCw0Jl2ZTaQKKQQPgwAiEJgIgKytsWaQ+B0loGXhfkM6VEpQNeYnSwDDM++r2xmgdK3TwiM8pOZX/13eHNTLcbQ4jR//NExEsegbZYAOYMlGjY28tjrJNuIWZNHCt8FmW2FaZrotObJh92zb4RXwmQadLf1+TLEiwlJCJtrP/oGQUZBxh00qGKCaZEFJh4Io0MnQGrtexL5BobiVJCZLAkxemy//NExCQUUUZUAOPKcBMTkrnKVQ6+5AMcpjshokPRBZFqxZWNdZjvYpbZupUcSOtASkEjRVjZWLut5ZUSFDZ+o7tWFRMwICZMXxDAoMCcVWaJjMCIItuByTZx6UwdAwhl//NExCUSYGo4ANsYKKZjDx1ikA2gQgqslQLt2JHKLH7b0FQELJ7Ub9p39bXLd/7srrVfprdQGav9X+3jLQ1EzmlIIJEmHIpYxyeTmTt5DKFwyTelThHAzCxEXeY2u00L//NExC4Q4KowANGGTJ0OKUt6dulepDP3qucKJ9Vu/DeLNqUFJCixMLNndoMr9ERabR1qRcokFKTChlVVUgpwMesFBhcOlRKSBocsik1Dpx7MSKTutdaxHyWdCdz3DtqR//NExD0SELYkAMGGTACzHoI0Fg47aY+ElSiERsCmYLEqiIYDJ0gWGOAdYscgckbPg8H0JniQaM0BF4oZsERCERKo49dFPF9dbqXNa8YFVWy79i7EmF2brFUqBnXVvqUj//NExEcQGBYYAMCGAJkqFS6ejDvTiZUxg8GAgBzwBAAnjUijrw4bHioTKPhoVDCEp2vKirD8YyjudDTH03PiZUEm3vHn5O7ckxcPBlHVQWii9XZwZ9A/XK6DMAwZd8G5//NExFkRAKYUAJBGTPkHSQP81IxrcCFLUJEOtArPvTmbbfqxsHC3e/v5fjLfjb/n5x87k97bXdSr3/X/+9zI6O+3xuUGdFtTiAjBgoG2R6waCgHGBAKij1j1RUUGg3Kq//NExGgS6PIQAJiGcSBQOm4hPubiIk1CBKpI1gnsfsVBhgtNJQ9BxdEztlWVm1otcIyD1gBybyhWnT94/khVsTo5an2VlMUMKVmYCq8OX2hrwCOMXD+iQaLSpZgFPIFw//NExG8QuAYUAJDGANMIw0SgIJsK7L8qRJaCKTqB0l1gFUKmYsLJU2t3SKCz6QJ4U8ghloQl0qqnoNKCcQOAhgTo8LIgwkDMuLxI04qwTMgsLhkyAgkIzJkFhcMu8WFh//NExH8TQPoMAHjGcHDLv///lRRv/1ixp4qKGnrFRIaxRAFFRWpMQU1FMy4xMDCqqqqqqqqqqqqqqqqqqqqqqqqqqqqqqqqqqqqqqqqqqqqqqqqqqqqqqqqqqqqqqqqq//NExIUSkJnEAHjMTKqqqqqqqqqqqqqqqqqqqqqqqqqqqqqqqqqqqqqqqqqqqqqqqqqqqqqqqqqqqqqqqqqqqqqqqqqqqqqqqqqqqqqqqqqqqqqqqqqqqqqqqqqqqqqq//NExAARaFogAGCGJA8K7x5tw4s4A2uaU3w4sHwfBwEAQDAgB8HwfD+j3CAaD4Pg+HwQhhRgHHAhE5d4n///xPE4IAgIBgZLnxO8EHO8nZOEPJoSKkRc2lg1x05atl5W//NExA0TeUpMANBElAzNICgCnokA1+pX0PQ1o2gGVgMkAZJkYkAZK7OSRUT/6mKMOIsdEGGPA+D4PlLP//VD8HxOODFYP0/d3s+sc6ozbkFg0ykYA0aYSEmxwJoIQgqq//NExBIWyWaEANoSlEZkWwY7L/8afVINP+rS/0Rb9KLfm0BuwOCS0b/n+/////+6pAGywoDCZG3PV0bZAKHI0YHf///ZW9JzBABvTn1DT5ccD5Q5+zWqmn3IK7Bxg2a9//NExAkUEWqcANIMlIScVAjwSIKnu4RS8S/OsccTUXzU12lU/djw/KBWTLXrft2f//9/mwUgBE1TCbjzgAesB0LWjoeN///NfWtIsEgWR7mqIqCC6sYsYYwRAndOEZiz//NExAsTaW6oANHQlFkeOUy2ZHbz5Tebn/1z82h6kSZoLhaSJ0lOb///T6aDCST7PqxOoTCaAmNFSDRWf//cWCL7q4fAIPExOfcxD0V3lFWq9AhjJAMaNTWKwmBCBuPG//NExBAVGqqkANHKuc45dsfj817Zm/q87e5JFDI6FRoOmzTdN96M56iwDmERIccUDoWLACLAQWAcY4ia//t///V+h9/t1L5HG6XN7yb5kFCsyu2AaANUQaKdlAuQhCge//NExA4VUraoAMqEuOtN7vH/45x9O1NN6mVqaew/jENT0T7V5klPYY6ucBCOAggowoGJQLO7tznd/R1f/f117p+q2JayVi1QrqRe6J9Eu7OCJvT6qsrpLkSazOAWIxlV//NExAsTkl6gAMFEuFZdKotaz5r8TGN1b/+pUNEgFFTGM//0LUsMKerflVkUqZpS1b+/Rsv9HoajVy5f2MbRAwEYGox9TxUiS0ki09EpY8WqTtMGEMxFGqYVIhQ+PVFg//NExA8RGMZgAVoQAFA15JqJW91dZax3h+9//U3/0MjyqFARLMluSRDzzPGDWLd/r/V+msJHolETxVr+giGtOe+5dRAUnAhJkweHPZkaOCj4OQWsoky5Wm9O4/lQaMAP//NExB0ZWwZMAZsYARpc8jukXe1oq6ptNP5AZgJfn514+VVS9rJDzRBFd741ufnlKS8JCOsRQkLNmt+0kznpwoVN0wjmL/9/z///haT+f5kmLDABmOoI4V0f2////f////NExAoUcyqoAYJQAJ///2U7/32cgnoab/56nM0xxBi2F4LjxVFYlIP/8xXdZjHsMx+SCSLjAkBYHw8EIO///PMa2x7unEWPhcK54zPPHgXg8G46Wv+MY/////////////NExAsTgt7MAcEoAaeTneznQmRBpBOJiCu5WRTKzxFxMhDihR50dZFdBp4oYKVg67D7KyOquRXQezkERQ4wo8O3sdjiAcExosQHrAQd3Ab6ZHFvdfJc+f18jiP//+SI//NExBAQWq7IABBEuEJ/+tEVxgwYOdCspUDCkM6GFIVDdDIGMWWpHuqOWyVNRyzaaP+3zW5pgwKlgbCT1cK1uVUGDUwHMk0oXY2kbWO56Kwmi43pO0mjbgRhtUEAwv8I//NExCERwRKsAMJEcMQOyTpKhaf9tFugYUcRUCr4LJPAq4UfusOr+2o904toYy1PO//r+w+wb9LmVPskPFdkoSJ0aAI5jpMLl9iCXieGGOeWmY94uIADKgr4fW8y9/s///NExC0RcTq4AMPGcG4ESBBjodDFihMAKRSMCJc03////qaXUG3VyJm77F7DMxo1uukaTCs5p9noUYi0nC3jxnQeCGYiThndZS5bu1A9rbtG/5/G/3jEDchGu4S8AiTQ//NExDoSGV64AMNMlHo0YbkKPDP////UoChRCvzlBhay5mCEouOsTUXCpIiF0EM3I8gHUeVFLCn0iySvzDFwJNtIrO+1uXvF/3n5e6mXM1DVDCoY6QwqgE2+GFZWhnhz//NExEQSSV6sANPElP///t71VWQgoPEAcad9gpNbiOoIYrtNaYHKLXnqvS2o50QpjvkrtZw6OceOcqi8IP4IzEr2yPgt3sr8s0uzNYENNskfIG2AS5zP///r/+uhkgjG//NExE0SQQ6QANvMcE51GJg6HzAhAmJn2QRInvPBV0JvCBq+Uv6XnPxKNor46nT062XWjzewJMOzbNLxFZBld6ICGFHNxOPqOE1BhZTDQgDnoEN4+Ji0FI8ZkGikqcIG//NExFcQoQKcANvGcDV45wkTtgHAql8kUWIElV2X9M3fHXbnmW6lEbi5GgQB3DXQ/WnCQhQtjoXa4cj////dQuT4WTHiEw4KAAe9UgIx5hUbhZCyYduKW5zC63VrDrZT//NExGcRqTqoANPGcO7TJs6Gd/l7GTXUtd2uVjlodhAOsQUztXUqmFShMw9qLn////2bm/+Q1QkCsCjF+xEhCARbsmaNkTH2xJR2qyF0niZN2KL7L7QfjJO7pf3b52/D//NExHMSQT6kANYKcP+H1er1fFHimCAyeGbHw0UggmYAxc63////3/+pBUkuyogTiSCUbNDKNqAQ8M+bN6eVVSONJVxDKI2PYuLAC5CUtUFWwKwr2kvhLHlqbzl/pdNA//NExH0ScUagAN4GcEPhmZul/kWzEGBidv//////+Vpwlqm9KHkBDqE7m0SVBUEPGC863ANVarRXcktKpjF5hzrLwEIgRFyiypxsvJJViLWwakgkwLiA6xBcNFZdBcIH//NExIYRYUKYANPGcAkRDXtaNfq9FY02YxGDHllAWXONXIwsEAERZugoYmGlzJOC7FLPglBLzcnizkooQEWs/Al4StVhAAB4DcXJdxGGN+5N+3ysWICGKBTqN+fiGLDB//NExJMSGLp0ANYSTBHV/r3jx5Z4FJsXziJSOxxmSBMGAGxw6EnwWAqrgEvK1pSGMWrUsVfiywOKh+loyo41QJlFvuqFfo8sc4wDATRPaZnyTo1LQu5KDcuUEVFg155s//NExJ0foUaAANvecJP6lqqr7ybSM8YLcyTKl7sofpav4IzqFRhfEJjEGynTO/qJgV42kXEZ+X8uRT5XP7huftShhUPjg6cCgwgDh0QDBF2GCiKf//56v//92ECOpyHc//NExHEh6uKUANYKuIm6T31s6uQ5F9dE1UTOIMHDu4fOLoxa1BpLXbizAQQhIUl+MZ0DmRBCxEp6UAy0uCEzohOzKdqspFrqRHQ1ejVYqDyTiAJsSscYEUsAD4URfzuQ//NExDwfwWqgANPelONA9zdJeSAuw+yRO2pW6a5I7Xp+1WgN71vY07DXDE8P9Sn+mYq+5K9mdRIjv//woBRzwis4m0XocPQxyWuReHjEE+rlsGPSjloteKMjCgqRAQPm//NExBAWSWawAMPYlJc2Odqf1MqL3cawI1my1m2uVrEN3ZTxGs/i4nSEAersplRmULgoSV4Hx9Q0L2nejdqsnN5mvd8369ly4/dhe1sMHf///26///TVxjwWoRCpRbMr//NExAkRGVKsAMJWlVzhIaYZUgdjFeYQspkuePW3dykUk8oq+aGLYBRSsAUAwBSI8A5BNcNprPSprU1o1t4df7nfydcw8/YrauvodkEXqHjYshUHNcfQhVeLEYICsaTE//NExBcSqOaAANLYcD8PyQ7VWta1Ha7dsXiaXLznITA3YJwCjQShPIry2i72z2APYdLTzEYsGipH1jW//////01hQzqaV54nn5mIGzLLHhQqADGtdY9PTcvqOxYoJylp//NExB8R0K5kAM4MTMnQIEKAD9HZNNAKTzhIKYitocJztH7r4s87jbwVNbv////G7cXcffpVlIUGH40GQEGCDHWSAgGZlqasijgig/4r5C1KBjPsqQDQSEA3FrUBlsy7//NExCoSmOJ4ANPGcIdpokGPoOaJTI8nPQoVfoghOnf/LvJipq3/////6LvyiqkiOzBUsECgBxWpGabkS8yTgJwJBo20jc0+IHexCwCAB8IHpZyVyLUr5SUueaSbVybV//NExDIQKTaMANYKcKtYowMRjqav/WgoUuJwJWYMcNwaZmEDgc5LLm/RK1GvIAMSjkpIGCDkuQmIPTMFhAlCloS63/lNqpbz7/9s32+260oPOgGG1FE91WNOYcCQrZT///NExEQR0TaUANYKcP//+tWDEEQAEykEMZWSD0umXG6TiAMYKFBZYIow3BrL4goTSVDwUBPdS+1Wscyu932/v/rXNWpnDREPwwGAwQCYJvIGT7Q3/////pXCBibeLCB6//NExE8R4QKgANYKcFzkqclQVX1CC13MTyUJVmlVZUGyBqJIy1YaDntyhVJLM7vbUtXam67U3VDADoMm8JUZxA1w17nNTV////9NCqzVU9JkCrvKGQMrOqKCStkMkM2r//NExFoRWTKoAM4EcAJAOwT2HZKIvi8F6RSpNBUScJ0ukHSLl2teurarvP9N9GDqDaWwqoVsjMqMTxhqXUv///+uyhgozDIUBK17Zqpzz1MtHOXJ8TcuAvFSb54qwlRf//NExGcSMU6wAMSGlAzR4gpAPg6GeMr5wGgjV5mWh3ThfPK+asoNjyJUUHgu0y8NEP////cyymryAw0FugS1WeXwS/WmIozvtFGJGwZrgnl5VvI66UrK8VBVm0qHOFHf//NExHESEQ60AMPGcFq/G7e3zu2zNZadW0LdPb/VSlUjiiBo1Df///1VjeEPhWcBQRtxeKzn4ZOgRdVQiVyqeEehD5qX6M2xXuVbGTzGN1ZgWks+/9vvGfvG02UqFlB8//NExHsRgWasAMPElBEBDmb//y0UzBjZX///+hRGRpABV4MkTCaUzIJMCVmlDwMtoAgD9r+K5GQh+ltYkPJKcKqYMRt5zi8aEqTws9H/7XX61Zn+F5uvisW1kh6Lvvyo//NExIgRsW6UAMvElIUFgqdd///+V0WKkwofemG5kV4OTBlFD1iQgKrqcCzANQQy6CFRhYZqDVv5+dq0fHp4rpNvv3Tm5J6EVOKNJIaecOFwgLicgYbp//+k9mcuxAAH//NExJQSqQaAANvMcMv////iynBMDfH1pkhwlmKlVFFDlOCMYyqHX3eanNkEWsKSy88sc218mZrQnFu187czq1r5p1IYiOUYh1gYkM6ru3//0VTIUKOOKWbMf//9NV4j//NExJwTmY6AANMOlDag4hC8ABgowpcRLFAFeRhwO05ocOxileWgwOUhehMXsr30ycouTpVj//lvvbZ8qqdkYjnYzlYVCioPen+3/zOWYoocWZMYVnMO5QFJmakAGOTe//NExKASmZZ8ANMElEJFAELgDUgEZNtm80ZkoZE4VeeF+1K479lXngmXcUnOKKsqFxI85nVWcrGLCiGCDadu+sy99UlgxAE5KMpFIO2T3RE1Q/McTQFIjIWiSo+salhu//NExKgSOZZ0ANsKlCsarHR0hPkRoRWqknFFkJ3RVIhmWlJV3qUVf4YGVOaxfycQpjOuuX/dPWnwmdRPzV6cZjUQgwzHWDaouMVAsKgEIAq0mQvYQA+OVzMTNz2u6tZh//NExLISIZJoANpElIEykxqVpViNRplIKd0syXTjgwZbJk7o2i36qcCqTb6wN/Fz/pUWBJBFChdmJwswBRCnh+1Guw8EkSpMseYkWi2Z3N6LnLaCaH/DKoisWjsbZwUB//NExLwSWXpYANpGlYqwPOaacYFjVmZoS5rhct+67k5ihxFt9n0P+tVCg1u2CAhJ9qDjS6VXghuKXcKAxDMEKNtj3SdzHKKswyBYmwTCp3UcGGwy8RUB2SDdVzxJ133r//NExMUQ4KpIAOMGTQLSvW/9bOp1GtFPUlUDBTVUxLi37q8d2rQcpbKoKokKpalaJGRqJwFilEtGZc4cbOlNj8nyz7+Qosky9RIGZYNe49JHnPAtTzwrAYBi9pJ45dT5//NExNQSUPo0AOGGcFcaSAX5HETWBS1lRtUXBDbTZqvhax3r9/3YVR0OtuUOq5uRcPrYJf4pm7Z2at10NvI2o5Oxul8/C2le27y+YfMtH2bG9zsNvzdxP62/Hf93/QAO//NExN0Q0LYwANjETDtO1zm8HU7/WuXqrQrR3ZJS2r/QjNMOX5sQLCweqp1aCc080ZxZ9Lu7725oVMIldljxEyK6go1MjBYQxAu6X6nteUH1WEFCC3U72XBJ6+820ETb//NExOwUkSIkANDGcK+X993ONm0at4pMBmkmUqjQWpqkSDHJ5OEj7mYZFGWE2rh4IhrMsG6CDIw8eLTzPiDGV80WHMix0KbiBwPePmilK3SYFzpvW0OCJr0qiYTpHE5U//NExOwUcVoQAMDGlU1SzRoaUC+PMk8KlWhQnQZqg6qrqWtTpO+5FKR1oUphVOwx0McwHLPWETvhpM3H7+GOhskrc8brTrd9ffnbeuX2q2TIrROGpKqubl5z3fymjVz7//NExO0UeYIMAJjGlfx1VD9Elt6l4S2xX/9NTFlu9YUEyaCvZGd1PFtaDiyx0E0ms2BnDJiyaLHQ1Iln8cj42zCj2qGuFJv4K40ZDQKHSwsDsSuATZUyWbw6SXYIZU6j//NExO4Vqc4MAJjGlLORCTiPdq9cShUEiQIqAL3aA5zquU6MEwxF6K/eJhSIhougbhOD2UKydWkmkvN0oyisqklPDJlDBQYR0NDJmsfyNVln2WkfkwUMCBw0aAotizf4//NExOoVoZ4MAJjMlbC5F1Qriop///1CsyCxNUxBTUUzLjEwMFVVVVVVVVVVVVVVVVVVVVVVVVVVVVVVVVVVVVVVVVVVVVVVVVVVVVVVVVVVVVVVVVVVVVVVVVVVVVVV//NExOYSgToMAHjGcFVVVVVVVVVVVVVVVVVVVVVVVVVVVVVVVVVVVVVVVVVVVVVVVVVVVVVVVVVVVVVVVVVVVVVVVVVVVVVVVVVVVVVVVVVVVVVVVVVVVVVVVVVVVVVV//NExO8V4W2UAMJGlFVVVVVVVVVVVVVVVVVVVVVVVVVVVVVVVVVVVVVVVVVVVVVVVVVVVVVVVVVVVVVVVVVVVVVVVVVVVVVVVVVVVVVVVVVVVVVVVVVVVVVVVVVVVVVV//NExAASqIJAAHmMSTgE/Axo/wHjyIndkyZMmTCwggQIECBAgQJkyZNMPDwAAAAADDw8PDwAAAAADDw8PDwAAAABGHh4eHgBkARv/D3kAAAAEZ/9Pd7v2jCQD6FBCADh//NExAgQAHo8ANJMSEmEyZoTjPEIQFBEEQJDIVCpDQUSARxR2hzZNDQTGh94iCjCgBAITFBEbShcqx7KUDUL7Na23//qMd2OK9L9wO1yTwxbuy/vKWzq/Vt8oOWb+t1///NExBsPeJJAAVoYACyB1mMUDrhdEe5DppwsGhC+4+lKq/cttC6eyLk7uf/UKKdRXdUa2mOM9i6/PrcBghwI/9uVwC43FKCOBHgloCzAVO7jvDIACkAU50TEBYkPV44h//NExDAeCw58AZmIAMBBybIOPoxGSSV+LgNTdk3JAnh3lh0/5mX02ebyKmqjYwV/1GhPugkgyCaBiWj6Dpf/2t/oKXdB6ludT///607/0FGp9NZk5KqZcpbJ4su6CUvk//NExAoU0WKoAdhoALmlGAITWrKmNnFNWWmFahcVVUV5J824RmWrDjAkqKgNgewdQnY9C8LAjKM7Iku84aKW+S6CiYUFFYwaUwaZvWnqavWb0LVm7ULqzKZgBq8hg9Zd//NExAkS2VK8AH4QlI2Gm7UGrpXJGudmqoiJ8EL13TsBk1A3RVly8jRZwcP8Ju9rlJ+dfnI6KMrFxyBORCmzZPzfC/PlxwTDbXGLv//+nVX8Z8nNPYJeWuqdZbgtSVx4//NExBAWaWq8AMYQlNJSfbuDlrNjCbkDS+A0KplsCb7qtLLfr9vQZLuZRXGpN2d0vczzUIGyQSo0PwhNGBC4uMZFt3vmLhekYYpw9yGEwLnGP///roiqzIFOQaGvEjxO//NExAkUIYK8AH4MlErrCIIjnoyFWGkJRxSUxB9cKFP6joRkkDV2ItCpdvL+EV5nLu/S/9X8r8/+zNgDCdBUnqe6Xeu05yq5W8uvCOwj3XOf//p+qt5FgY/CzG0HrjsM//NExAsTCRKwAMPQcIK0mBfaVYApeuAE6eNTML0/hhGWRJAD1o4ao8hwGhDRZuNrg7yr3XXxpsDDpkFw/FaLPcWeJVhoTAQkETv///V1VdvoYXJ8JxxAEvlqwVGHhUbi//NExBERYP6MAMvQcNEPM0UJJ8l06hy7WVMrkiS09hNkJJEP5DmlgBceIIfOjar//601eTTM5qwE8NP8lKg0FHklUFKEAOIDjhAwkFMUJ1+QS7BdptmWltX9oEVB53E2//NExB4SMVpMANvOldwviqhfLghTeLaA2lwbm5abYNLZ1/r/H+dNkh0HI2Ki1uv9NTWGxJYbx+lIww5wAGDggSsuYkGVAas7oxWBeSKX/hav7zpeY5918/CR5EEHUEyY//NExCgRgJJAAVowAFSjKDkyuZDgz3M/X7+ndeLlNGxV7idSyVr1Pb//FH3l7BFhDDpdOfftkzCn1UzmLE/E2JxpNOxIM45yUZc0MyeS5wkzxSJRCghGALpao0GWA3B4//NExDUeSwaEAZloAQ6jtT09Jz5ubuHJE/L6RNL/8yPTN1um5iSTEon/1uqnQQTZKzooH1bfT61r3QQVoPRrTJ7Gi6Wpv//Z+71dTuan+C7tqmMqSIRG6wGxCX0a5LZQ//NExA4SqVqcAdhAAPTJH4jtNUpJiV15Lhbyt9+IaCVocrDUcHQ6DgGpIL5EIXlMkODVEgs46CSqaX4mor+vj/KYCnP///3//1WloFggW4fDjeBJeaZCLL3WpgB7wdF///NExBYSEWawAMJQlNN/1T+0e3Ud64n9jBfUkDe4ODrU67gBSUEoRpGlY2/hKl/5rLPnIX////3dxfp/+EVGVeXJKMxsFuZkwMjttwDQLPx8pvRFz/Dzf77f7z+7v3Rb//NExCASgWa4AMvMlJYVgfkKM1GVvlE+zjWgCR2hN4xeZ87ui7l/4QXmIa/SZB79NP+qun/tkdctgAqhc46Y2KRWgtpLURHAiHsoFXoM6i2o3I5xHhLTWTjsAWLx6i5e//NExCkSaQa4AMHYcHUewHstn6mV6Z6aLvD50gFQcHBEYDMEigb///7f///8sppxH3BMhQHKx0MrAhqFGHARPTEldI+0vlr9WR3897Ga7BCewicTfYAqBnrHJ7kK0pBM//NExDIQwVawAMsKlAEpBGxwKzWyq3qUvoHixEVokkMw4LirEdtwpVDjHZQ24AhWANsgZgdR7NGjfJIkgjhgDJwIGSdGeGr2m/JpgAwUa7UkVQfJtDjEKWgWFkxW3mqt//NExEIQMNaoAMpMcJSMDp7pAsRDUvVQBTravOI1ttSrDxnKhhi1QQ7lXf+RYw3GrUQTSFKMOAtssBXuMsJ7uPq0Br79zjQWOFEorhNs0TwlmjlHkCK9+AXY+n6kHG8s//NExFQSqPK0AM4ecTziGAIAEaLeBnKVOEvYYjpXR4ytiqRWwVO3IoJCnQRD1cgrqxM5FvWz2bxQ/Rh1tmMiUp7+nvQ+LnY3ZtX8yU8O1EZG2ruXLpKvaEegeXJQDjUW//NExFwRUPrAAHvYcZXR3NQxGViZGF8zsVgCBURAQLNTltXla5PGqlGqjqcoLOwOPK2q0uAaRrxIpdRgcprzAr9mG6bh6aDcJG0HQEGQpshNR0vXSqhK98xNr1lUR0JZ//NExGkQoQLAAMPScFCyGBOSQxO2gpZredtny1PRZRmmu+NxwVtjxenTQpLVffGq4ZtkhEwVkUrZbDKGSKTjADBUdADDs0y60usdPNLua+AyjKi44B0hUSape425b/Dr//NExHkR8Qq4AHvYcWt+L42nXEl/lVurOgqtTKMplPNnZoZlEIQZfUMEvAWpYggGadD0vJXaQurVcleLXGkVxsBmFyI1kpbG40as0y6CwCjsPPVtX//MYwiVQ6NXbv////NExIQPsQakAMMWcP1fYlUCHRodiYDCGVKoiOS+Q8AyaCHBkcCSmXUoGALL7hugUQ1ZK4YMGFEVaMWTx7aQYJyhT1dtdFQdq/fpSKiqWKfV+L/3e/f1f/1qAj4QWYKq//NExJgSEXJUANJKlEwQCBoC78FPw90quRQIxQm/FzHD1RYaIjK2vb1goO6k2cioygokJmA+BEtDhEiZYUuY99Q7ddr//+2nf//oGYQyNJMwAU8UdmLAghXEkyUE7apI//NExKISGXo8ANjElJWREzAGAzDCZgDBpYCWZW9jkHhc2TJyBAbdFsyjCfWXYq309d732//qb92VTQbWOWEUthCd0OSrDOh+ZJgNofKpQdqeZL685ktXm/lc5xK9lXuY//NExKwRAN44ANoEcGHlYUOeiuiIK9G+Kmzzb1VJew+nMPlS7C2j7O4CvWpYYfWklmliqUwCBuQ4qicnMxy06bK0pCINtPH0DwEPVKNHnajJtxObQlKXOXrUfORW1RR8//NExLsQaFI4ANpMJIYoZj2XsZZIopS3eaqy6QSFgKmx0kkOkihitJGg0xPzh9bFw0QfSV7IEtKbh3dihG7oXCK+fnf4ibpnSSF3uX7nkcK8y3IzMyPKwszfDIYsAcu///NExMwRGRY0ANDGcOv0LTHY3toBHHR/1ofX8Bz6LeBnhFWVWjHJjLEBWsaZHY4iQYwMZpWadr/A4AxMiMEwBluMIJQYAtglhd00xuHaSxHBbB5iuCT/EDDfGDLo5wkw//NExNoQwGo8AMjGKEUAuDETv8pmo9yTdMT8YYkBMDQpfqRdM8svnS6P58cYiB3Ej/zd1qopMxeMHq//9TdqCSCaP82RQNP//9W+3/6Zu5gm7nmVkqxmEo4HEvAoKFYc//NExOoWSe5AAVQYAaaGsmOWmW0gDDC33R/hmA6ZumoxM0kO0k7BnVsNQw3B2diwYKcXIMIngaYQQF6pzXP05zlP9lQ9PIQhJ+IQhS810TvjRbxZdZxqs1aUhSRp11Gf//NExOMgsyqEAZpoAD2K602Ve7Ih31//+mLBQJOc3/XqjwK0c5h55NVsZCYJVr6J13PFknjBRyiRvRp8m8gNBQcnjIVTdlgkXG4EaA44cYitcGF0u1EwGkSgbwQANIIQ//NExLMe0XacAdl4ANpL7KNCLkpolKDxcnIwuKVy660DkFtlsofO7s4zFFBowiMSJMboc8+7///sa1rWM///pXhXwUjIhmiA+6RkqFgLJipLCgoJZqjkw7JF0svHHCry//NExIoacXagAMvSlOW2vMerdRcWoqWxQqRrOoGOTUQt8hkhjcezlsslMdgXNjMyQylY/57YMy0xUnv17WpT8nd1FhrdHd7woc4p//+mO///RUrjVR7TGQeSBFNay1+E//NExHMZWX6gAMvYlAtyyBMpbkgD2fwntn+27UW8LMG+XkkOM42U86HMAax4kwSkKKWNlTjIRwRIQiIyV5diexz3u1dbVXfjP6ygTQ6nEuTMf///9NXTGW7XCEsaZVZZ//NExGAVSW6oAMPSlIyF8Us4BZZwlpg6Rpr7aWbZZqazlbWs06tVsgcHYrnq0+AhijlEFECnBAQCWaW9r1a/WrJUyCYR7ybV+yTUpCoyESWQQa/MdZhJoLnFR/SJA1kd//NExF0REXawAMMElZN+q+Rqp3Ji1HNJIQ6DLSR+yeckQSoFFkqPy5evef//e/+/+++lT7iCP///oUvF6gCHEAnXDH4TMpxbTLfKOrckETFMtzLO6txOnytrZ6mFlAZX//NExGsRgWawAMJMlA+NKTJQxRUWhhwKgdA7gzFq95q6U3tbeGxg4+fb////QtN3LbUZgPL5LjHHy0yFVGBJAXVBnpZDdhtefqN75xy7OERgJEiasqhJ7l6WT0+wlaST//NExHgRaXKoAMLKlE5rab5FJItHuOpRrNxI4MZO6oGeXTSIFlDLp5kslEIlArj6Jx5pncmvzP931y16unwlKY1FzEE46IuMUTBDic+6V2vWjzItHjiDpoi4Ua0itX////NExIUPOQKsAMJScPoSrJKD/SGY01Hjr1W3QlUPAFKr56BIlEa1o+Zzv2mzl460zpcDAIBDE3IVNGYYHI4VgVeEgw5jz4FaAoPAU6IwZPdv//9dNNXAqmhcKFjI0tGR//NExJsSeYKkAMMKlI7sKi6R0MS2CGADMg+CRpzKualUaqW3qVPOAToDYHD0a4aKRVAzpBlwso02wzBkasBPEoppFTv//8RJAKpTEDJ5wQuCh4xAFAwqXoYNCqGGGXRr//NExKQRiQ6cAMMGcCvqPAKJljiTbl4xjflsdjGfyqeZQkxM/EUpjTG7QoCKCifLrt8paVpBCp0SrrQHf//8iVTVBBSbd3n4AIjBTDg1YVVixm4m6H2Zs6RDhUwqiDq5//NExLARiP6MANJGcFNFjrpZWlVa3FUHgpPNkBAzEqnxY8SeKEsytWpUKrOyM9WqHAJhzB6kKUya7ggdOGrvMtXdy185YKil3sLLHrpPnnCw1KUlioNh+u1qKKblubSz//NExLwSiXpsANpElNXusvq/euT3of/Y2r6aM5UzqybhB6ltRemvTNyk3EigeU5Bink6jObjF0D3uqvcy3ZVyITJf6DUiB5WzC8dviO9sfbmXuafM7v88oVx3xyDbtfw//NExMQQCMJEANpQTI9gUe+F4/gn39cfblQy9vCkP7oqIuo8o+wnlbdLzdnVq/lr5kXQoNdwYsnG1XoCzGGbPWHGbTeZ7+zL9tHYxrmSzmOjp3Vil2osrWM+vR9PPZGa//NExNYPYGY0ANMMKOjo/XzGZutukKCnIuZUP/lsnU//HYOoBmk2dtandbrdjKSBQWOEMEh0eEw4f0mZovQt56ZZf3fJTK0mpJtT1zUEsPI/QkVKQklOnOJ6f+azbkbi//NExOsWEQogAMmGcYXK40Y3PiH2IQhD+1Zclq6MWq7ub929ICwCUlUK7rSY3S76Y4khQUVAVcPAQXFy5lQNKOpIEigarFdi3oLnUWrUrcExAo01ynGhVhXvJLHJQNAV//NExOUVgnoUAMDEuS1zoWMWCrlKK08s1FylCtFLrXai+qRbqeVoZmdlr4NQQYCoOhgsACaOVTVYVil01654plpFWxkx8Lkz8MySQoCOma98EpaXUk9udtfy/7WATP5t//NExOIVymYMAJjGud5Uxn3ilvVWjga+D7UR9AM1k9NGLNPlY5U5XNN2jERnBnmzI7Qh3Eyk4gUxlKYJzhHSoqKxGrIbMRBn1/GNyyD1u+cijUmyEq9VHfz5JuN+6W15//NExN0RIGYUAJBGKDX/2sku7wdnznK939RarvYOwqoGmRjSJijtT7+2IavRq+CqJLI5OVRqJ2m6bh2moKCuR/s61WMKjXlWMFRqeaw1IMAgKCRWpCAqBS2x514ykkDY//NExOsU+b4MAJjGlUxnZIkj0kz0tOpJESxI9Z/aONVMQU1FMy4xMDBVVVVVVVVVVVVVVVVVVVVVVVVVVVVVVVVVVVVVVVVVVVVVVVVVVVVVVVVVVVVVVVVVVVVVVVVV//NExOoVkS4MAMDGcVVVVVVVVVVVVVVVVVVVVVVVVVVVVVVVVVVVVVVVVVVVVVVVVVVVVVVVVVVVVVVVVVVVVVVVVVVVVVVVVVVVVVVVVVVVVVVVVVVVVVVVVVVVVVVV//NExOYUqSHkAMGGcFVVVVVVVVVVVVVVVVVVVVVVVVVVVVVVVVVVVVVVVVVVVVVVVVVVVVVVVVVVVVVVVVVVVVVVVVVVVVVVVVVVVVVVVVVVVVVVVVVVVVVVVVVVVVVV//NExAAQuK4kAHpGTB7ADwnoh5ls79+rwQBAUChAogQIBWjRowMDAwMDAAAAAAAAAAAQBgYG4cW4PggCAIeGCgfE5/IRB/B8PlwQBAEAQDI2ljNzEIbW45Ozsdmaafyt//NExBAQeEo0AVkYAOdNa1WGgANECLxQMBgQCgmAyA0AQmgOlhEp4uoWMsJk2qmlTrjvtv2Mor0X+r3IRTxJErdE6URpTaz1rtn+/nlhu88t0FrfZSFzic//W9SmWY////NExCEaEypoAZhoANer/TodkVUWTT//V7orTJce5YUx6If/3TprTdNNNNSSyTLyA8D4wAwBsSH//pzd0D6DM1NXMxvDjHwoCLJAc4JwPE+JEdg8FROGjv////////////NExAsUgxqgAcc4AP/////f/6anrbW6TFeymF2c0eYUMPmKQZUGh40ERphw+YsqTNJiWOA8FI3IiWYIgPBoNCgDBeeJBYlERgfmCgaA7GRwHAsqC3////////5///////NExAwTCxqoACgWvf56t1/3Ub38Vuc07KJ+9OGmzCI17XjYWPWuE0So0Li4d58knWEBksfzggsdoESpiWgnCw3Dy0cA0KY7Fz70DYUqCp/n//m//+bJZK/+v//////+//NExBIVKxqsABBQvWK4R37iPqv//+Km1S2tkpR8Uowf4qWflFs11DLSECsnQ49UcMOKOo84B4NSDglBSOkRQbALCOo0SiKljg9okQx5FzWGj53z5eg7GPEUYieDkyep//NExBAWEtKsADGGucxjkz7/7v/dPn9vd1sNmv2fw3z3K0Pj5f37nUnCoEAwwcpN5fefJf6f9i/8bJZKTdJjq/r+GDG3zOMwYMYVnX/gqX1CrgVh41W51Bg3QDEPXGlM//NExAoToQKsAMPQcBlntjRXFLdm+LeZZOy4LlYORDUe1Ok+rKqxoaHgOBwJA7PdT7mXiERapKmYcb3eYBitbhI9jCzDYnHhgNEn1f//9AxBFdW5IRqU9D0qRT5xO9uV//NExA4UsXq0AMYMlLpVgUar8AgWMCxmAEIfiKN7qXNsSgXVx15bg8cPduTmX/hzCo+PU+Eau43nkeeA8YxFmzf473PfZ/PbuuSjf///3o3vpdfKwA2L4PGvbOuqndxg//NExA4QyW68AMQKlTSqJJNwGY+sgZLJLD3S6mM+HumqYuitMDJ5YeoxarjWr1LjDKJhIepmobQrIXQVYgoDUEjuqtdojL5kkFviAeCg7uKYtafZ9y3JcU+n4SUvT1tJ//NExB0SIVKgANPMlWsun37CDlOGz1G/qZl8lfpujbx/zK7qbx/0Z6pRLIkc2f5ntVaJR+hsJxvKxkhKATAEbb+Ch0Vg41Q+9YECtftbr7P1K6aotMpObtxNs1ylHi1Z//NExCcQwQaMAOPOcEbE+UL5c2wtPiZrFWiB3HVy1C2Xrpej///2/5CtBKdxkqcJhPkQkFARK4kFAxSVlzvi6PdrhD8dW38Nw+V2jUg2MHYQeMH3DuIUntBnQJOKQZ+c//NExDcRCRKIAOPKcPIzoqlfYtSkf+l3/XXVxlyBE0XGSIIu2VRqTFyMSswGC3Mqu1rVzGcrSEm+G63zF1tti5WmLQRxjrDyMM2K5CvOAoqCz9P31IkddF3/oAz/+hbN//NExEUQ+QaIAOPKcJQYOvmSRwQnl4zoMKFSEQCJfOvFbdZsAo2DYYHrQLxVkkWC48ERYGh9zJK0Gg6SMCJrXsM69zVGg8KpIJXb/6yPcpBxT2PF6IifBMgLrwgrRlqi//NExFQSQG6EAN4SKNrf4tvP/////7uceImc8/9zPQv6+h10pp8J4Vc+hzQG9Fo7u7ue4BXc9zLd9wgjy5RZwDJ/wdA6k3VDFEDI93//53//L/mf/m5j2ZpecpP5PfRi//NExF4RGsaUAHgGubsP5NjikVV69DfWoJh9UhgYLEbiQvm4gEwkckNEQEyWg2Ji84IMcbjMb5mXWysYFUlGK4llh2RAJoJjwWDUSACE0yRH7iteelQwwJw+KrY5h4Ux//NExGwguxagADhYuf4li9oljmLC8aK0796EgnFijhUO074A0JSyeOLd50+Lx2UZEn+Y9l5j//mM3/+ZmZnMtBb17DnQMLG2iYtX9gPGiGQiyn8SCUZstLokhOPx1MT8//NExDwfixawABhYuWs5LC9PFcefTrLJD99nl6GsZQi/zUVKrrY8hHbqq1XK3WpaMnpR5SXH0ETlBKXrjmMqicXS0evNvP4cwbmOZVx6rdXFFTQXEwMCGQXyTK9jXVlW//NExBAWqr64ACiQucjsREVAxuul3/9ZAa1Mf/t9KhyWHJACwfDA+JFTWJWpFYyix0zf+sXLcar/cM0qsfDFHT//tfNcz99cWtQ00LQcULJVTpULuAqIaqC6IGj+6FsF//NExAgT6WqgAMsGlO6NhcSBYdR7RTc+kqIZbBwAOCEG5PuHYHzMqHB4dSlraVmNZnrs6b3LP705+hV2HcNHCAeFDn09EkmzBgSZZln//+F18UvTRftPEcFTB9MShB4L//NExAsVGWqsANYMlKtAQky6fesiBz1COGZPjQrU1TKorflz7L5q8tztW5GfzqX9fW1+8ObL983lf9PyWs4sqrBF4kM9F7uhbyUrOe5R6f///8WOhANq/5Idy09gSAK0//NExAkRsWa0AMvGlHI+LF1M1O22+QYa110Yusk8S2GsUq2F+vo5e8m/uL8y65Ny//ofGgQGJIQKatm5WivCa0IKAh7////QwOhOypXaOmxo33QuU1violLyXythEKmS//NExBUSEWaoANPKlGTr0HaeOdKnMBENNVITbGU9P2+L8Pf2u34tiTzloVomWIAZ76JtzHjRVDh0VmP///7aJGqGWFEKCZdiEQHCgItobqakBKt13rmHEhIljgpEiq0b//NExB8SiQaMANvScOuFw8nbS5OTUEbgVmhSjXUlaBrUkLNoo4pLrw04ssPKnNYd6FfZ//yv/8lVnW3MIKj/l8oHHGMMTk450qC7L3tL4MpIYBlSwAAtYYI5OI+bWehk//NExCcRYQKMANsMcKrdrwtovIKrtjnI5i/APIINJFnx/PgdiFen/////pWVNFC0YZ2FrGEQkYsOtQeIlDn64VTSfhEw2w23GjVZsQyMwKtQtbmoYqjLCOm0dPbhLJxj//NExDQRQQKMANvScCVTkhSTWRFw8lFrQZZ0CMILqvgBI4Ian+MKSB4uUeMKHAcGqrmDhZSm+JZUl/HE+NA3WQ0D/MguDS/nUMtnokIDgcbdVNZZKXkys1FCoBbvFBZX//NExEIRsPqQANvGcP///9RBvvwZ3kXoCpE64xp6sg9jT3AKUWLEoBevE4JVTkoOYT8EaOIwFWyKyLNDmiZVLCzLMpnYfJrYQzjJP0LHuf0f///qv//9KvkgMvWqBees//NExE4RWPKQANPGcDRVBFIExnCUYIp3C1svmv1+F6QGtcuKssUApWuOMRiR17WdzjFInr6zu+Qz0IUCCgkL3pRtI5rWM1XjcwkzvDZHXFRqwoTFAmND+CKwja0JhCfM//NExFsQWTacAM4KcVKSLLBqYxkoIX0VbAchn5u9Y3WhkW8lyMylszInqQY5r5R3Cjhwg0OIYlSnP////1KsvkOZHydXqYw8WATyfxErRAZTcueyhBjK0pKcTVk5MdXj//NExGwSaS6oAMYGcHCX1pdSUubO7mXE/TPvPPLbC4YcMVkekSjkMbyTWIL6Hf///wuTTcl4EaUpRYkFojPU/8BpfLDBrkQLSXMTZDTgKZBH6oxYRCQxg2BTk5AVDbDU//NExHUSKTqsAMYGcFhtThwsoWVPP8+5WQJA9ULKFSoFDxYMRqn7v///mNEjieIzUa68jbJuSNrtIMEb5z6wPkuJcHA/W9whqZmTw+jcHEc6MVMuI0bNN2xvHzvGat4d//NExH8SgQqsAMPGcCLmfd09vzn9X6W0eicKJDYr///+OWpSgZMBoUYuixAhWW08mCF1pEkaPpiYCVMcVqLcwn7Fi63aLttoh3EviRuM3qZX2bdmM0IjqixKEf2xUNAU//NExIgSmW6kAMPGlFhGCgVf///9NVHBaWHrTZQSgWalyuceIK8HkjSXegds0WaHwqgiA0GQ7Os3np7nfN+OHLz+Zta9WukR7WKOiC3kEjOBs/zf//uQS5/////6lWQg//NExJARWQ6QANPGcJjwUuEEYGGRnwEGDbE19iIDZ7IW0kqRShMmFFMCoZm+8L3z/jD8Fe2991U7hUK9+oR+W/up84HUh5lX/0GQeAoXOBdTv//+qhVn5kUWAi80MzCw//NExJ0R0YaAANMElPGxk4CCiYbHBdWCHc1BYJpA+gYIJg8k4vJLmx8dOewllqh7c7p0tY6tjHFluweOxwMERURr//+lbJM5XESmUDtqRON56Kax3j5gx5g5RhQZdYZF//NExKgSkQ58ANvScM9BVZu0WkqADI4NJk8YkuThXzOk8iXJYZX+1PIchryo6qysoqQNErPTr/09L3R49BQrICoqBAwrMAYKjNJeULNPD0wIDZ9WFTzU7sFlhEsG7Aoi//NExLASmZJ0ANrKldks9m5SjVzkMxGYTztmu1b27v91tqm1OUhyAbo/6f/fn0cGjIoDKSDHX3UWADnUU94TMbOx0YQrBQVVY07DBorHZjM4mNJEQa6JU9ft6sjUnanK//NExLgRYZZsANJKlCijX9JVVY4R1cyNFQdSNTVnKuVYp6c2DTZmMSMMCqePa/QKBEztNzcgNMCAQwcF0SUvW8gZNQGiMEf1NV1F4kFqFI80gSYsiWDKwsKuGOQYYaYV//NExMUSWRZgAOJMcXmSsWLQClk+5Q0yhP6a9/9C+tFNozDxM0NSAIUOVM0KOU12xQy6jGCpBIrYjO4vW0yukPYmOChPSjfAaP1a7EKOjCbxIIpFzCwxJ5qjz2HIvgGB//NExM4SeYpQANmGlaealiaJG76IcHNlE00k+RUK3UprBvPFeKYLlTVqTWt0lVRulgpSC2uC5wt6989c5WpxwVU1cnS7TI/oxlhEKw6gRKQn52eUbTrlmvcV0KN2OtEw//NExNcQ+HY8AOJGSLbo4LPpoeLWOcKnXcrVIwGGAO1ANLGb1aNS29vudFEPA6kMYIKrM2R08zPCiVjrUxmJfl27kMszqzQrw8+1t9Yo72LqSO78RX2osDdFIy7wLoKD//NExOYUqP4sANoGcAzl/+Ql5SX/o/XRSn+y7W2l1QqRPT71TOZADCIQRBDIIwTrmHg4uCMRyv2dQjLFYm8hCpXyfYkFvOauluUujkUgKDnRX8xi06qwY7qT3+/d71/8//NExOYTSP4oAMmGcNk6/lfNftxv8+19KgZpBls9lI2ZkSQlVTXFMTKOagxaMHotqIuxJc7kIJ3OCMrSRBiXCC0Z1uRQPs/0zhhM+ttzWfub5/lx3PbRcO85hI/oH1ib//NExOsVkNYUAMDGcR//dT9oGpefvxcRP160z5YK1brU9S00mzQQSjaHOAhyJbAdEASxPM6b61yMNRDmDGc+sGHKBV2XoBjdeHE8QEl4LiB2Tpc49H7SfN8Od3s5ElU6//NExOcTCPIQAJhGcW5HNw4/fwbjPtaE3rWu1QZpadNmspb1uQNNjNXVA3ciN1GWE7PubI5o24gLQbRiGspnpk8r0nOLSKGGeXOOzbFn6MUsGYcxoX0kE3PS8d13PlKi//NExO0VsgoMAJjGmeh06fShDwKBhdjhc0TVA1SGHEnWxzcXzbeZ8FEClhgwGOTLHAnE6xto2wE3DpVV/hRj5lFJjCoywgxjAaJFjx0KlZYkIlHlHioiiVZ5Z0s/neHd//NExOkUSSoMAJhGcUeLOfBVk8WKiLHu6tZZAFwMkMwXMsB5n0tOOrQYUsIhGhkZKF1E1io0MjIwjYbzcu6//9Xf///3YxQwUECBkORUUECVFqiggQkf/wKFRYWULC4r//NExOoUUb4MAJjGlP//4sK4qKC1QsKqTEFNRTMuMTAwqqqqqqqqqqqqqqqqqqqqqqqqqqqqqqqqqqqqqqqqqqqqqqqqqqqqqqqqqqqqqqqqqqqqqqqqqqqqqqqqqqqq//NExOsUsS4EAHjGcKqqqqqqqqqqqqqqqqqqqqqqqqqqqqqqqqqqqqqqqqqqqqqqqqqqqqqqqqqqqqqqqqqqqqqqqqqqqqqqqqqqqqqqqqqqqqqqqqqqqqqqqqqqqqqq//NExOsT2W10AHpElKqqqqqqqqqqqqqqqqqqqqqqqqqqqqqqqqqqqqqqqqqqqqqqqqqqqqqqqqqqqqqqqqqqqqqqqqqqqqqqqqqqqqqqqqqqqqqqqqqqqqqqqqqqqqqq//NExAARmHY8AHjESToKsDOSePAePKO7gYGBgYGBgAAAAAAAAAAIAwMPDw8MAAAAAA8PDw8MAAAAAA8PDw8MEYAAgPDw8PDAAAAPf/R+AAAO9/zqME8BbhHQMBI5K6cK//NExAwSEJI4ANMMTAaND6HoNRxKp6VSaYpj5p5IVSS0ZLQRlzbCCgobe0qJTB42BkvJIMR0O1rbFwBW9FbV2f9bB3/s//+9Raozn49r8HA2Vtwfp+btazF7H0lW7hT3//NExBYRUKo8AVoYAL7ndf+fGJMprbdQ5DHkhI0vMgIcosOCVBgIdE7Gi9FNO1jF7mP/dUKKcw1fsZu6KjKjIs0wrTj/VZOHS1+dEROobxhBLBgAkYwwmngC+AL4b4mA//NExCMawm6EAY9oALUAEgK0Hn4lgwAw49zcOUJuJKXjT9BqCCCA80DRNf83Tdk5cJpTKBmVF9/+gyZfToZqo6alMye3////TQQM3KyXdn//WPNCy/hajwPonVF1+Lrg//NExAsUaVqsAdhoAFg0GGRVkSUxsNGYNoHYlrS2T6gtddNmCOC8bDMDsTKgmhBYnjzzd7s9b1l9JRIGiRcGENVIOtM303q9602UgaQA5bv///9V/eY2f8EnG+7KFS1L//NExAwVeWq4AMYQlLFwxMtWAARYjBSKGWKq8avwAllSxwuZS8iau7GcB2tVJD+5X3tcWYgxnFD1DsPjRQHDYIHW5fo0RVu6QWcqCg1SzzYt///+9Zoo/KOg5FXS0r1t//NExAkUwXK8AMYMlLA82UEIazvCwpiUYEBnBwjiTNWhT23LAsSb63NqkWrvxPfMUvM7HdWe8hrMpmFoqAAWjKeRjNH/3s+QreXXMdmIQcCYAd///jloxKMgAhebDFdX//NExAkUCXq4AH4QlBOIVg2Hc60C+M5NiSpRdkTe6iaBsufxLuzHEQYTqSzvalLzUp5qtl4z4JqSmxCOsoAKPQ/3WXbRr79GyGyJUsWH4Fu///3UVdWBwwvq5GExp522//NExAsRCQqsAMPQcXdlrAZU64C+PLRPTJiLshLjGG6fTCBWEs9N4yhcUBVTLwzbLzW3wtWSbA0VIIBsPhJft8Lzn5HFSqp4CAcdPMC3wCDJhIrKFAwWAQCxUQkFoi+y//NExBkSMWpwANPKlRyqcmtKs0HLWsIUTkcosKgPlCTh3pt3Wtfmts51+bmmliLgEARzG//orRo4orlNxioNDQKYASmL4iIaVRdqmWGghhz9DuFKw3H852TyO+Zn132X//NExCMR6Q5IANvWcKumeUuwBxKXur4f/3913fM8wlY7XoE5ciHAZ8sWNA1Hf//9P10lGjNhYCCpxUmvVWJoLvWgGEU24QcntJoBh0EkUBYCoADQEFjLriAhQkVZfTF2//NExC4SkIo8ANmGTCTi6SEgm8U+5FzXrJRzjb2dZRNdzR8mh3vuXoqVQolhvq4t5pCwItmV7GStHxGN8cy3Q4EgmV/b3nV9lnL19+XlwCAiA0HROZmEUCjyadg4Q4DC//NExDYXUW54AHsMlNpJgMLx7+H7ENF7/f/diERBkJvg/1g+HsvB/9U+CAYBAMky+3qOCdVuAfdQswWKGoPxpw4vAVBZlzK4IRLehSuTMabSoiuECJpzRStiQXCEpWZc//NExCsZMWqIAMPSlB/ukKRo/Ugk1zJPqihemwqTgIRhh1kjC/lu7WVPJX6ry6TTrKKYcPelu46z/xQ2J3i71UpG9f/S5qmYi7uB5ilMPRUue06UKJg460zgyi0uG8lX//NExBkRcP6wAMJScMkw/+9uCD7CO0IAQ1gYJJKk7V+cOXFc9IGOhJRxKUUTKWk7////+J///5cMLfuSUhhcXVhBy1WfUIIq/cC/tM/U/N/ee9A7wPDpJYD8tVHsEmni//NExCYRcWK8AMrQlBmcGCNkBUTy4Rjoc7iF973H1ob7G/R0z////9VX//hl1yXmQJE+cvgpf9VmCW4ZxwL+LLmCb8nuZuSWHt5uCQU5uGgdkkgdjaDV5KAm+AlF0IQ///NExDMRwV60AMLQlOPhfW+TL829R0ZV3f//////+s6WeJSxnwUgC90DkIKltDbwkog1p9wBQ7WYD52qYIp9Dc1aPS8xWpNExQDTTA0JrrIbQqapYNWdQua7VVWf1v8v//NExD8ScT6gANsScOpbUkR4Ff////h1jjuIvml4uXxacDBOZeAEJhlL8oArk33zAEEKfwRlKqrc06yMlNYqsezv8UcPhn4c/4vWLNRQgNqxQdQyeZShv/5FtH/GueVG//NExEgSuPqIAOPScIb/0KahS2Pith4Oru4UYrHGBgkrSTqr7WfSNzMo5bEGVrNsYx7tyhtY13/vNVM/Q+G1T1tNR+brQUDtRJgYJqTNdamgDL///+h/1/RVyiLSj9v2//NExFASSP6IAN4WcMk6IxAlNdwCnzBjmTSgEAhVOOjEhXhAISTS6ldnlSXf293BWNKWfz4pFVuxi4yAAsYcpP//2RkGd////9iE//u6Ciq6+gXzOmxd62AB+lCo2bXM//NExFkSCUaYANYGcH5lRlCGbTLByoalAlfKVxrteNy3O3Z/mUMvL/murSLateZKKcjuX/nSVq4AD4xn////JF73f9zc6+urNENUfMM5dc8IZqSlp8yDNn5EjrspHhcM//NExGMSgUaYAM4GcEHD8AO6D3hzBRTVEih+y1mSVbX+p9J9l7WMYwkla/9UOiiwIFDIt////wm4e//KuQSqsK3gyvNiH0BYAMAEtEIkYIdgouVMYMHjQC9IEAwESDAA//NExGwSkU6UANSElEsAaRNgoREHxLSiikpdFSX//0N6Yi03//RBE40FCT/////8t/iGLqCFqKEjFTTpUTsSTVFwQHMKsMgJQYQBO8tJS4JiA3SYNAbxIjlKhzJOYmz1//NExHQRsVKAANtKlCv2d/rlW/pR1L/r/QwkIgKKsWnev////K0RDwzCFzENAMygIxSKQSNgMBwUAQUESAjFsrXj6SO8FiTujOGoFYLAYMBQTmQCIY4wLVHBU8IlCwEV//NExIARaVZUANNKlD19aBNdWxMLEv6duv6nalIQRDTRz5DlVAYnMgHTBis9UskapMUdqAWIElfue4MafED2zZguUY5LQ1zLqUONMdtb/RHu9V/Zd7UVbUat3/RVIWge//NExI0SaHY8AOPMSATbE1mMlne0cVckwgoDWKJqERgZghLLpUKROVYePDpM8KPaien4UUQKhlDXIbWrVChDOZ/5YSLY7ML7Ysplgtpl7z4/anpVJoEdN0C4o2u6lx5f//NExJYPyII4ANGSSHESh4wdeOy8gD+ZnBwhm4Ag4jSPsI0o6wvs5Y3AB0aSIq+KjS+D/KI9IEck+gPlFHAiQ/p+rxSwgCFIRBgofL3VKslwcLKA/25WLICQAcFY5wU+//NExKkSUII4ANGSSKN8oHx0Ieu1U0Pri2FsEfLkW0dxcByiNhHDqRcIwBiN7PAVjtgqyR3mZKeHd/JWHvMTebv7J0hcXeuuI7Yfv5SDQ7cxCLjNhOMPKohD3fu4e9Mj//NExLITSMpUAIsScMQnr3vjP/f/z39/xoZ4z//t+6btPF73ZgjsQQPWrupgONmURXQILgxEuLsNMy1Q1LiOxPYClrl4kE7FYVTGZSAA2jaG6dY51yX0xDROESxYTLVc//NExLcgktp8AHvMuRU8t1fFbJXlZ9Q4e9UnrbGEOuP1LohjQxkKAlVsUnlIB26JxXGhRNpQOnJk8+vyonexe57ft1UyE3ScZmfv/TvM/dj7d5VfT1M1VLiRvO8VUSfJ//NExIch4s6IAHvMudqaVUAyGrU9POWIhF6axAj8SUnRloEd0WRIHKqEqAFAaLoBURUK0BdJrZUrmGGAgL0oZAwGGKZL0t70wrZTsaBnEtmXgtYymeCripYRcjpf4VXT//NExFIVmaaUAMJGlEoa/R0V4KjjLw0AoNMjS5W8aDzb+JdQyYkXMhcSt5GdFo0ggieIQtJkNWuQ40aSAxUghD55Gbj8iqRxkmtreNWifV8x8NmZGWRgxAj4t8DISdlJ//NExE4bilqQANPEuAkhVcKpTBHBDqLU5TziUQ2x/////7brY6NHLh4Zu0MIqsGZnUzJgFhdyi92CkkmnK2IAk30AS0i4jsCeNRBy9HMPQiiV7P0ynMyC3K1VDjaVLHw//NExDIYGlagAMPEucmH+27W4lH/kpWfx7tVNKvdsP8/lPRUZTuRFIU6oQScPaehZ3//////+raRRqOV6/o0SwXae1n9m43m3CstHnYwN9WCTyHIaxuHTARD9WKpDC8s//NExCQSKXawAMPKlWQpfPmEx+7/WcUzu+KE2ZUI5BgOA4uxXNVEZ3ZUR6NStHQXqyLJgEtUgDCqDxkVj1Pl5Xaye5GjLJMuATBzEgckwpWBDY6Cek7K0lp7Lh8xxY+7//NExC4RaW60AHvKldr2v7czI1r3rG4YyTX3Sms12VjocdA5VainEPGkKM9kG1LdzxmPpgGKoBep0CGUqFuJP9l/ZT/fF0UQ5DyGEwqaDBxn3+ff06HnnlllkR1wF1q1//NExDsSAYKwAHvGlaNJzbXXXU2IxqIFb3vFnyLcPFD7brU7vYRPjtyViydHWQkOgyniHRDGRZjLs8S6GShh0rKtmg2xb4//x+97/+i1NMeS3vbZVUpzEDAkMcv///6q//NExEYRkXawAMPElJWw7AVxCArlT0oyKZnbkueLGQkt4sJfCdGQSqGYWj2bVOpk+3Svg0SHnHPT73//te6D0oYxjnvCoHFCg4cBjOr///QqmhiykiWznMvtwu46t5qE//NExFIQiRasAHvKcHWStFNUMUviKcELhK6Aq40OCrnJLPI0K0DOfn///e//+rlUrgqcvb2pSVCsxRnUosmi23////9VmArELmCx9cqMjBZFFI1G6sMu7DKEkxIYbpkk//NExGIRqYqgAMPElBUbF1JZ9VWqGKxPlU+jetv/7f/pN/v5bo5nKZRV/MhkdFCiQosAhJsS////2f8sUBDtYPYByYxC01xdGCHn2jEimYXALAUGkIhchXVPUiQsrXpY//NExG4SeWqMANPElExEUFXNlVHysrerF/LVFIJB4QAz0FcOlgKOFQ0a6FkfI//9FFUEGJzn2cEVlyzGhciCZZR6lNLzqrT0cR8XhKIJFVKnTqOzR0fQu0KMGdSSOvt2//NExHcSCSpsANJKcJdy9vnsRakwYCCqCrpAbrJEToiseVQxX/2//6GQG4JHHDI/Ra1MWo0yezU2ZoWnDIZWBlQbMOimkM17RKFMxhAPOi480dvWKXx45yzBVrzx5rUM//NExIEScSpAANsGcKt/sN79u5sYlEbZazyRbNdVahYBpwA1SKNV+Y2XySJHGZywlFzQlWvXbcKJEq/OSKjQ4wRPrGuduQXUOAriyQpaVa1sj/4TxWR0Ufm0bqLfs+oG//NExIoSGL4sANJGTFO26lo1O0BDHs+4ogIobjGpk4pXW6FKxEbgzgNlmeTJvIuITMiIlJa92lWnlKWOAg4JzU8BokM3oWRFNhG9QaLmkueVOlFnNMWHIeumxiYGU6K7//NExJQQAKIgAMGMTP/Nyl6Foq5V9qzfuwZwnMZE0Nf1HTpyjgzJfE2Wjpe1tM22X4cNMY1wk+vi3Oc/Uzkzfvxof/2OPGwD3wPc2/eju2c79/jVBndbV1qkfhyhcjnG//NExKcT8Y4QAJjGlPN7t3jA0zY5evAodvEBpIUFAMLOYcIsDl5AVPkMqUc7XjEr7XpjUqFBpiI1IFE0mUzNlCQiMQkeBmMmgmptavEcrCNivr4O5L0HSMYg/Wb/YaD5//NExKoSiQ4QAJjGcWGEpJpwQJSEibibFuHueJHi86chSZ4f2OZ6ksVRdFF3qg9kLRoAi1ckJip5+4vocWFB1hrGtKZNxtVhqX/0jpBjuRiKFQEMU8RQVnQ6DTxKWqrG//NExLIQ+NIUAJDGcBZBVzfyruDXiJ8rUdJM63Q1oh0kR9QL4XUmAAwIBscNngEEBjCmgYkDLFixr/QKiooLP+EhcVZ/4tpCQuxJkWFaVN/qbgIWFUgIFhcRmQEEhUR///NExMEQuNYUAJDGcFCzNVVMQU1FMy4xMDBVVVVVVVVVVVVVVVVVVVVVVVVVVVVVVVVVVVVVVVVVVVVVVVVVVVVVVVVVVVVVVVVVVVVVVVVVVVVVVVVVVVVVVVVVVVVV//NExNEQOLYMAHjGTFVVVVVVVVVVVVVVVVVVVVVVVVVVVVVVVVVVVVVVVVVVVVVVVVVVVVVVVVVVVVVVVVVVVVVVVVVVVVVVVVVVVVVVVVVVVVVVVVVVVVVVVVVVVVVV//NExOMQCD1oAHpEBFVVVVVVVVVVVVVVVVVVVVVVVVVVVVVVVVVVVVVVVVVVVVVVVVVVVVVVVVVVVVVVVVVVVVVVVVVVVVVVVVVVVVVVVVVVVVVVVVVVVVVVVVVVVVVV//NExAAQuK4kAHpGTB7ADwnoh5ls79+rwQBAUChAogQIBWjRowMDAwMDAAAAAAAAAAAQBgYG4cW4PggCAIeGCgfE5/IRB/B8PlwQBAEAQDI2ljNzEIbW45Ozsdmaafyt//NExBAQeEo0AVkYAOdNa1WGgANECLxQMBgQCgmAyA0AQmgOlhEp4uoWMsJk2qmlTrjvtv2Mor0X+r3IRTxJErdE6URpTaz1rtn+/nlhu88t0FrfZSFzic//W9SmWY////NExCEaEypoAZhoANer/TodkVUWTT//V7orTJce5YUx6If/3TprTdNNNNSSyTLyA8D4wAwBsSH//pzd0D6DM1NXMxvDjHwoCLJAc4JwPE+JEdg8FROGjv////////////NExAsUgxqgAcc4AP/////f/6anrbW6TFeymF2c0eYUMPmKQZUGh40ERphw+YsqTNJiWOA8FI3IiWYIgPBoNCgDBeeJBYlERgfmCgaA7GRwHAsqC3////////5///////NExAwTCxqoACgWvf56t1/3Ub38Vuc07KJ+9OGmzCI17XjYWPWuE0So0Li4d58knWEBksfzggsdoESpiWgnCw3Dy0cA0KY7Fz70DYUqCp/n//m//+bJZK/+v//////+//NExBIVKxqsABBQvWK4R37iPqv//+Km1S2tkpR8Uowf4qWflFs11DLSECsnQ49UcMOKOo84B4NSDglBSOkRQbALCOo0SiKljg9okQx5FzWGj53z5eg7GPEUYieDkyep//NExBAWEtKsADGGucxjkz7/7v/dPn9vd1sNmv2fw3z3K0Pj5f37nUnCoEAwwcpN5fefJf6f9i/8bJZKTdJjq/r+GDG3zOMwYMYVnX/gqX1CrgVh41W51Bg3QDEPXGlM//NExAoToQKsAMPQcBlntjRXFLdm+LeZZOy4LlYORDUe1Ok+rKqxoaHgOBwJA7PdT7mXiERapKmYcb3eYBitbhI9jCzDYnHhgNEn1f//9AxBFdW5IRqU9D0qRT5xO9uV//NExA4UsXq0AMYMlLpVgUar8AgWMCxmAEIfiKN7qXNsSgXVx15bg8cPduTmX/hzCo+PU+Eau43nkeeA8YxFmzf473PfZ/PbuuSjf///3o3vpdfKwA2L4PGvbOuqndxg//NExA4QyW68AMQKlTSqJJNwGY+sgZLJLD3S6mM+HumqYuitMDJ5YeoxarjWr1LjDKJhIepmobQrIXQVYgoDUEjuqtdojL5kkFviAeCg7uKYtafZ9y3JcU+n4SUvT1tJ//NExB0SIVKgANPMlWsun37CDlOGz1G/qZl8lfpujbx/zK7qbx/0Z6pRLIkc2f5ntVaJR+hsJxvKxkhKATAEbb+Ch0Vg41Q+9YECtftbr7P1K6aotMpObtxNs1ylHi1Z//NExCcQwQaMAOPOcEbE+UL5c2wtPiZrFWiB3HVy1C2Xrpej///2/5CtBKdxkqcJhPkQkFARK4kFAxSVlzvi6PdrhD8dW38Nw+V2jUg2MHYQeMH3DuIUntBnQJOKQZ+c//NExDcRCRKIAOPKcPIzoqlfYtSkf+l3/XXVxlyBE0XGSIIu2VRqTFyMSswGC3Mqu1rVzGcrSEm+G63zF1tti5WmLQRxjrDyMM2K5CvOAoqCz9P31IkddF3/oAz/+hbN//NExEUQ+QaIAOPKcJQYOvmSRwQnl4zoMKFSEQCJfOvFbdZsAo2DYYHrQLxVkkWC48ERYGh9zJK0Gg6SMCJrXsM69zVGg8KpIJXb/6yPcpBxT2PF6IifBMgLrwgrRlqi//NExFQSQG6EAN4SKNrf4tvP/////7uceImc8/9zPQv6+h10pp8J4Vc+hzQG9Fo7u7ue4BXc9zLd9wgjy5RZwDJ/wdA6k3VDFEDI93//53//L/mf/m5j2ZpecpP5PfRi//NExF4RGsaUAHgGubsP5NjikVV69DfWoJh9UhgYLEbiQvm4gEwkckNEQEyWg2Ji84IMcbjMb5mXWysYFUlGK4llh2RAJoJjwWDUSACE0yRH7iteelQwwJw+KrY5h4Ux//NExGwguxagADhYuf4li9oljmLC8aK0796EgnFijhUO074A0JSyeOLd50+Lx2UZEn+Y9l5j//mM3/+ZmZnMtBb17DnQMLG2iYtX9gPGiGQiyn8SCUZstLokhOPx1MT8//NExDwfixawABhYuWs5LC9PFcefTrLJD99nl6GsZQi/zUVKrrY8hHbqq1XK3WpaMnpR5SXH0ETlBKXrjmMqicXS0evNvP4cwbmOZVx6rdXFFTQXEwMCGQXyTK9jXVlW//NExBAWqr64ACiQucjsREVAxuul3/9ZAa1Mf/t9KhyWHJACwfDA+JFTWJWpFYyix0zf+sXLcar/cM0qsfDFHT//tfNcz99cWtQ00LQcULJVTpULuAqIaqC6IGj+6FsF//NExAgT6WqgAMsGlO6NhcSBYdR7RTc+kqIZbBwAOCEG5PuHYHzMqHB4dSlraVmNZnrs6b3LP705+hV2HcNHCAeFDn09EkmzBgSZZln//+F18UvTRftPEcFTB9MShB4L//NExAsVGWqsANYMlKtAQky6fesiBz1COGZPjQrU1TKorflz7L5q8tztW5GfzqX9fW1+8ObL983lf9PyWs4sqrBF4kM9F7uhbyUrOe5R6f///8WOhANq/5Idy09gSAK0//NExAkRsWa0AMvGlHI+LF1M1O22+QYa110Yusk8S2GsUq2F+vo5e8m/uL8y65Ny//ofGgQGJIQKatm5WivCa0IKAh7////QwOhOypXaOmxo33QuU1violLyXythEKmS//NExBUSEWaoANPKlGTr0HaeOdKnMBENNVITbGU9P2+L8Pf2u34tiTzloVomWIAZ76JtzHjRVDh0VmP///7aJGqGWFEKCZdiEQHCgItobqakBKt13rmHEhIljgpEiq0b//NExB8SiQaMANvScOuFw8nbS5OTUEbgVmhSjXUlaBrUkLNoo4pLrw04ssPKnNYd6FfZ//yv/8lVnW3MIKj/l8oHHGMMTk450qC7L3tL4MpIYBlSwAAtYYI5OI+bWehk//NExCcRYQKMANsMcKrdrwtovIKrtjnI5i/APIINJFnx/PgdiFen/////pWVNFC0YZ2FrGEQkYsOtQeIlDn64VTSfhEw2w23GjVZsQyMwKtQtbmoYqjLCOm0dPbhLJxj//NExDQRQQKMANvScCVTkhSTWRFw8lFrQZZ0CMILqvgBI4Ian+MKSB4uUeMKHAcGqrmDhZSm+JZUl/HE+NA3WQ0D/MguDS/nUMtnokIDgcbdVNZZKXkys1FCoBbvFBZX//NExEIRsPqQANvGcP///9RBvvwZ3kXoCpE64xp6sg9jT3AKUWLEoBevE4JVTkoOYT8EaOIwFWyKyLNDmiZVLCzLMpnYfJrYQzjJP0LHuf0f///qv//9KvkgMvWqBees//NExE4RWPKQANPGcDRVBFIExnCUYIp3C1svmv1+F6QGtcuKssUApWuOMRiR17WdzjFInr6zu+Qz0IUCCgkL3pRtI5rWM1XjcwkzvDZHXFRqwoTFAmND+CKwja0JhCfM//NExFsQWTacAM4KcVKSLLBqYxkoIX0VbAchn5u9Y3WhkW8lyMylszInqQY5r5R3Cjhwg0OIYlSnP////1KsvkOZHydXqYw8WATyfxErRAZTcueyhBjK0pKcTVk5MdXj//NExGwSaS6oAMYGcHCX1pdSUubO7mXE/TPvPPLbC4YcMVkekSjkMbyTWIL6Hf///wuTTcl4EaUpRYkFojPU/8BpfLDBrkQLSXMTZDTgKZBH6oxYRCQxg2BTk5AVDbDU//NExHUSKTqsAMYGcFhtThwsoWVPP8+5WQJA9ULKFSoFDxYMRqn7v///mNEjieIzUa68jbJuSNrtIMEb5z6wPkuJcHA/W9whqZmTw+jcHEc6MVMuI0bNN2xvHzvGat4d//NExH8SgQqsAMPGcCLmfd09vzn9X6W0eicKJDYr///+OWpSgZMBoUYuixAhWW08mCF1pEkaPpiYCVMcVqLcwn7Fi63aLttoh3EviRuM3qZX2bdmM0IjqixKEf2xUNAU//NExIgSmW6kAMPGlFhGCgVf///9NVHBaWHrTZQSgWalyuceIK8HkjSXegds0WaHwqgiA0GQ7Os3np7nfN+OHLz+Zta9WukR7WKOiC3kEjOBs/zf//uQS5/////6lWQg//NExJARWQ6QANPGcJjwUuEEYGGRnwEGDbE19iIDZ7IW0kqRShMmFFMCoZm+8L3z/jD8Fe2991U7hUK9+oR+W/up84HUh5lX/0GQeAoXOBdTv//+qhVn5kUWAi80MzCw//NExJ0R0YaAANMElPGxk4CCiYbHBdWCHc1BYJpA+gYIJg8k4vJLmx8dOewllqh7c7p0tY6tjHFluweOxwMERURr//+lbJM5XESmUDtqRON56Kax3j5gx5g5RhQZdYZF//NExKgSkQ58ANvScM9BVZu0WkqADI4NJk8YkuThXzOk8iXJYZX+1PIchryo6qysoqQNErPTr/09L3R49BQrICoqBAwrMAYKjNJeULNPD0wIDZ9WFTzU7sFlhEsG7Aoi//NExLASmZJ0ANrKldks9m5SjVzkMxGYTztmu1b27v91tqm1OUhyAbo/6f/fn0cGjIoDKSDHX3UWADnUU94TMbOx0YQrBQVVY07DBorHZjM4mNJEQa6JU9ft6sjUnanK//NExLgRYZZsANJKlCijX9JVVY4R1cyNFQdSNTVnKuVYp6c2DTZmMSMMCqePa/QKBEztNzcgNMCAQwcF0SUvW8gZNQGiMEf1NV1F4kFqFI80gSYsiWDKwsKuGOQYYaYV//NExMUSWRZgAOJMcXmSsWLQClk+5Q0yhP6a9/9C+tFNozDxM0NSAIUOVM0KOU12xQy6jGCpBIrYjO4vW0yukPYmOChPSjfAaP1a7EKOjCbxIIpFzCwxJ5qjz2HIvgGB//NExM4SeYpQANmGlaealiaJG76IcHNlE00k+RUK3UprBvPFeKYLlTVqTWt0lVRulgpSC2uC5wt6989c5WpxwVU1cnS7TI/oxlhEKw6gRKQn52eUbTrlmvcV0KN2OtEw//NExNcQ+HY8AOJGSLbo4LPpoeLWOcKnXcrVIwGGAO1ANLGb1aNS29vudFEPA6kMYIKrM2R08zPCiVjrUxmJfl27kMszqzQrw8+1t9Yo72LqSO78RX2osDdFIy7wLoKD//NExOYUqP4sANoGcAzl/+Ql5SX/o/XRSn+y7W2l1QqRPT71TOZADCIQRBDIIwTrmHg4uCMRyv2dQjLFYm8hCpXyfYkFvOauluUujkUgKDnRX8xi06qwY7qT3+/d71/8//NExOYTSP4oAMmGcNk6/lfNftxv8+19KgZpBls9lI2ZkSQlVTXFMTKOagxaMHotqIuxJc7kIJ3OCMrSRBiXCC0Z1uRQPs/0zhhM+ttzWfub5/lx3PbRcO85hI/oH1ib//NExOsVkNYUAMDGcR//dT9oGpefvxcRP160z5YK1brU9S00mzQQSjaHOAhyJbAdEASxPM6b61yMNRDmDGc+sGHKBV2XoBjdeHE8QEl4LiB2Tpc49H7SfN8Od3s5ElU6//NExOcTCPIQAJhGcW5HNw4/fwbjPtaE3rWu1QZpadNmspb1uQNNjNXVA3ciN1GWE7PubI5o24gLQbRiGspnpk8r0nOLSKGGeXOOzbFn6MUsGYcxoX0kE3PS8d13PlKi//NExO0VsgoMAJjGmeh06fShDwKBhdjhc0TVA1SGHEnWxzcXzbeZ8FEClhgwGOTLHAnE6xto2wE3DpVV/hRj5lFJjCoywgxjAaJFjx0KlZYkIlHlHioiiVZ5Z0s/neHd//NExOkUSSoMAJhGcUeLOfBVk8WKiLHu6tZZAFwMkMwXMsB5n0tOOrQYUsIhGhkZKF1E1io0MjIwjYbzcu6//9Xf///3YxQwUECBkORUUECVFqiggQkf/wKFRYWULC4r//NExOoUUb4MAJjGlP//4sK4qKC1QsKqTEFNRTMuMTAwqqqqqqqqqqqqqqqqqqqqqqqqqqqqqqqqqqqqqqqqqqqqqqqqqqqqqqqqqqqqqqqqqqqqqqqqqqqqqqqqqqqq//NExOsUsS4EAHjGcKqqqqqqqqqqqqqqqqqqqqqqqqqqqqqqqqqqqqqqqqqqqqqqqqqqqqqqqqqqqqqqqqqqqqqqqqqqqqqqqqqqqqqqqqqqqqqqqqqqqqqqqqqqqqqq//NExOsT2W10AHpElKqqqqqqqqqqqqqqqqqqqqqqqqqqqqqqqqqqqqqqqqqqqqqqqqqqqqqqqqqqqqqqqqqqqqqqqqqqqqqqqqqqqqqqqqqqqqqqqqqqqqqqqqqqqqqq//NExAAQqQIYAHmEcBNC6gZzHeJxQTP1YyZs9MxFPgiHh09/79o+p36OQkjIRDn/ILB8+XP5z4fBB1QJn8QP+4Qf4PygIHCgZW/6gT/o8PoQCDuL0ZNAKOepucBAhuKh//NExBAR2H44AMJSSCLCk4KxcqjkzKEKQWocgdBc/e00XFDaVEagvYLB86FtvU3VZ/tp6HDUglNTzFNMoAi2apTZbL0VXoYpO5tOGm1x6YSD5oVMmXwKOjEyqNRYEggA//NExBsV6XZcAONGlCWpgcEgYJp2ACYCmAAYADMJGMOQxwFBSm9l219N/QT3f67u/x4n/7n6J1+Fffji3Cof///l3g+ILQsCDlKGjEBE17qURMPnTVAAvsZ1ZlB+rKdM//NExBYV6HZ0AN6YSCtGHjDMAsMEmKjZiwqGAGpiEtxaqjM5OXlAkvquSUPhEPpWqw4TL3nyDlBEHC4A///vAZ6LA+Fjpmpu1Z+XJirwhdM8MFd7Iq/golbmaW2JFOuc//NExBEU2S6EAN4EcHkaiKr2GGOqfI6sSsW8BTG6NZUnbtbyo9Zf/E3ySf6fdTiTozKc6uSQWLODgWrICiDYq44Q///p3TAt/xYqXeaT/Wr8hDCdQRP4IZ+YZywMUKnx//NExBAVmTqUANaKcCic4UmBCwABzLBlYDCKwFcHABlyoCHxp/6V/JZNV94Um02/1v21MzJHCYmWZTmDgYBwgpEGibxpO9zii3nP///1MsT/irl1ygkKs4HEQE1QKHXh//NExAwViTagANZQcCImh3OcFdcQ1HCvGiou96+zHDbiKLiCQWEISAEhFJuidKWVJXnIpWn/8PxUf/eyUovg0HGC5wuw8wCQN4EWAQD7qUaG///+Tz8SKuXyzDHowKFz//NExAgUaUawAM5QcNPEyceBtDmNKMOZcDMUUJYyFtm6hYkSBlQqmoJGlcMQmr17l61KcVpz+m1fzHKUcGxY0TsNG045hwqIBikIke2hX///9qnOr/9VxmiXjJKxDCWS//NExAkScUK0AMYMcPTIpyUzG9wGPUsvuzTc7aiLFLiWo02kXkja98NTmAMhBG9na/be96+s+S2TtESZSdHXVXsxBrHG2Jggf////9WhxqCNwbIgMAmp8w0OJxckEO0S//NExBIUaU6oAM4GlCrkoJYo/qKt6AoPsuk/8tZk/b0IhEyqkqhntqd1Wt9rfla5vnanyVaFEKMPhRKqa52lVqk6hcNCU8Q////+W0rCbAioGwqgJhCWFA5IousZgHJ1//NExBMSoQqQANvMcC2Uynl2mmonQoGaHNAcosiuME5mMsER9UgyNNHOOR3rZtKOmuukiyXGgdm0YbXclLf///01L/66rQWMzg0q2AQCwVkXA8AVSg43dF3DTlBhmssn//NExBsS6QacANPQcbGRFVh0RGwuCooQdNpiKpACSMCMRyx7vY0tGRIRIQ/cXOcPzpMZJ4jpaPbBOHx+nyXKqOyN441gAh17iRLF4ywErTPm6B7VcAfLuQd7POizIbmo//NExCIUQWKwAMPMlFrZ4Qz2WOg4/cVXeDGzK1x7H7SZBstzSSBo4I0inZu48btt1kI1O3Tfpzn////p/CNhPpf6mkjqtiVfqhVs4/AbSLukjH65JZXJAWS5upbZuhKP//NExCQRWVK4AMPQlQS7IR+57q4a7VjJuZHcmnqEqKp3Jj6pUjK1fcx1GMo8f2rmUpA+JDWIRQjGNkQ+3UO89CA7CjlhGlN1OsdrQ2NKmneC7K2NsWdpr3OloOoU7FkL//NExDESQVq4AMPSlVkmNoacmKRRkULdLT2451arvzpZcWOLQtVZUaz011tm9pEt3Cul/Fed0I0gtdG6wpYuW9Vburt8pKsXlCywwDJY4UeYOYpTxbeP7rpxhbS8HzS0//NExDsSESK8AMPYcOvDA0XOloqpqv//8PIq8AcoAUqjtLisqZlip1DWWnts0jjVr5P//nKqW1EUAgokkbm1Xl5f9/OdjZzP8//ytIsjc9CKn58fru7nppcDwRCIgRN3//NExEUYOmK4AHmGud++8rkab9o9KFhwMX3vTm/1hImvV/D/PCOO8/VDgLljH//////L//+jP////b18/9vnt/cO2WvG+ws08kTRQUbcsieeoYmXqaIw5lqwhEpbCBbG//NExDcVOtq8ADhMuRDI7IOgj4m0U+5+40iCzcOu+5UfH1m50SxJT1XZtIxf/////////5f/8LSm/S/Vzapw2CmooRXDRaIGYqaB6bMuZyIC7BcCBAwYqgIBNh3M3CBS//NExDUSCrbMAAhGuaO9CmRsTxVqxDYPLggmk+1/Z2xVmH/////////+yMH//79/9zt9Zpgx46Oa9u0yWa52i1ovjsxfzLhc+W31mbB1bVcsxK8qfmz7bayoZ/8rbZbx//NExD8SMsbMAAhMuPt7YsCHTLVv0mmhkbTou/////EKOv/OzQDCqre3/1+z8ptO04BaJjvJHJetruojFpeZjTiV1/rttznfG35n1zUd/1w23m1bvKiam8FcCiYpzvQu//NExEkSqjK4AAhMuf/a/JdJvC0Asun3DJZdODJwBp5NaJP+9LTb/v87UtRiDICChnt+jMQUHDgmElauFQygcHT3evQJQVhpxv/inZo3/9MXJ6VlQAlCR5/DOGGLPCDl//NExFEQuPqoAMGKcAvRhCnZIqJrBfZiCXJOoziddePf5q4oquMI2SKUk8p+XJerKorBZRLPMUHQSD//53//+n/8RFj2p5EmkqWhlNYDmhN84c/QdCwUYsDvuQghQJqj//NExGESOPKgANJScAmoibUJz0gBDscUnNcc6FmysFUWqp+CsptSjKRAiUBlQjw8xavc0K////oWFf/0VbTZjN0ydYXDOwAKBYwCNSAJgZUAF+ggbDYbCzBsiA22ToGF//NExGsRyO6IANsScHUlhQgOkYjLCgNoEB5vfsmF+9RJVsqq2Vk5R5t2/kFJ////9v9SwzBkc7AaAASMOKPam1wzYRYV3gcJVfAISQyE4eBlyrpkbGNWTK5YwwqRYVCD//NExHYSKPKMANJScJHAhRcC2D5AcxvlyJYr4VWyOJBwWV+CeQg8FBNHc7tH8S9v+o3C2/MFbRGEbhxFL493//5AVHvbEiDbgGFq/U6fDARD7oPiBaK5QuICzLsRsCDH//NExIAdcV6YANPYlBn0EA9AZdcJPqTPkscEJTHXuEr/mWHGfKd/2F/BfI3TaLY6Vh5IQ3wFukRGc4zEeeDBdkijqHXQfCthdLwWmtjLCNNKJMMu////Z/vXZGjwA2FE//NExF0X0VqoANPSlBtiKtfHikqK+OhMH5EQAG924BeS4g6x03+0O3T/4b4qasFgYSAMH26ZJ7NAEogqZRwXQMSU1ZfmP3+Z8eb82sOhAe///////k7VVdYPudD635xl//NExFARyU60AMpMlELXz0SHIIexuM5Usii9kbTLdF7kfMymjCZmyiWEWyiQekjeJD6W5qMF2KN4Ur65mum/r+SH7DsK////2A4L6K1UpQfFIqbBdblCZf+oZNFqqsGJ//NExFsUoWKsAMtWlBWMyXqbM+wa0B8LXvIbht6bvVilCr6OglskBqbD/1GpzhHVDU10ShCNPamKFBQIh0ge////9n/QGmM6qcb4oAejbQVOgcguJyAaCGMv67btUZcF//NExFsRAPa0AMrScI0wVItTImpyShEtKxqGGQNDyQyKYJ15RKhdhEVOOAY4/ZN//tujlliyjP///2f/6n9p1BEk28Bg0IJHSUxgy0GDq9wCFPuhAXQBkeJR1GCGZD9E//NExGoS+W6sAMpKlEYtxGyqtKpoMJSKiKchCykqykq0nKU5LNrHaTEMu5ojZ/0xDclZzrgl8GKiGSbpwgEyDhLSxYu7LzS2bCyKDkAp1skLJtsvThaG03JS9XW5Vbhx//NExHEQaPqUANsScOccOEhwJUB+ccUdmT/6b/as8dt/////zapoyAEnmKCnBtLQZOHMmAGFFOel7HJy5HFScd1goD9sNRakvmSkykuypslU6xhowiJiAeBwcNFRUBg6//NExIIRyXKQANJOlAo8yf///Yhxj7L/////RYkOHjZBQYAOonUJAJprwNBVC5jtPhZmuOA9n3k7hi4YRt1he16z+Z9v+t67NGWInjQXjYoMCUEQnNIj9P///1U5io95//NExI0SKW6MANJKlPe////45cRmQpqVHxMzacJdYiGFSoCa62CG/qDAXQEzYmeKmhdR/QN1tP3VdjCPysjcVKNFRMQcacCiYqclZa9f//dmEZMmRJE0///6PxWZHciO//NExJcSYXaMANMOlAWJgQ2g0bCOSGFBCUvtK9WNh6IxsH7Z/xPaXro9ot2vyWjHzx47M9PXJGLB+fQmIlf/0nQ2XMsCbv//+t9sin1GbCW4jUAs+DCQR5QYBw1hwsrj//NExKASQXaEANJKlMGdG8GpkEEy2xMPkkZUrerfThcZrfN95HjTKAkySQQsM6P/qWE5E2dV///0FRtyQroPyZAII6p4lcFhSFwAOBv0YEVPBM7j4mugeQF7QhG9qrli//NExKoQqOp8ANMMcHRVppqmxcNxtdJKyNcPQlkccp3/7ZtwCGCYC1rT//7LmoclawATg8VGDgsxwXMFEDtuRalkdXbFauOIBiAWKttY6rFiKQhS14NCwGKnW96/1bJ1//NExLoQeOZ8ANMMcMeAoJnQZDv/+7RFzTRM8wSoISIwBxO2wC75krMYWBq3piz4Norle4S2lgwaAggw7UiMKCYFERooHVpPkhYHQ4KEWFHBqfWAQDK5VT2oETVlnuO6//NExMsR8OZwANMQcF2+ngINQaxKxRpkREjr/K77PLIVEhgVDHMhiGChhJMLJanKu3OtkmGKg+0NhPblIsrmpvH1OmypD0s/D5AArL+LqeBzqohvUx8bOyt6nXLAD17X//NExNYQQG5kAN5MKDk8oRWm6KTn1t16V11EAy8o0p9kTLmkM4eqGIfvajbO5HQOxOB8+AAkGwBmhQGANvUQCMTsWQAbNzFcsnOf85zXb2r/hlzh4Z8m8llkZaOts5Gu//NExOgVKHZEANvGSOpxICFGAQynU879qJ/f1t9f+p6ntYmp0qrd589UIQhCC75lcNJpkQBSjWwBllE4adEE0apGSoPsqeRpZfSToJkUplog6T0QonDpPqd9VjW2CB4k//NExOYTKNo8AOGGcDhqRUViUo8pNe3xqn1Dj71eHbXffmobGdoj74hCCCgg9PmHkN2kG7/v7/Zv329962X4iMvYjvvaT09/snsOfeshdmREk1NAOmDlOIBObBABkJ/o//NExOwaMtZIANJKuFEwa4FOXVIM4Kl1GvpYZJVJd8q8ohiFW4xOQGv9pwqIt6teflD224BlVijyr5XuYfZ3hruu7x5zfe03bWfcMs+U9391sjW21+7MQKUUMC4J4VJm//NExNYgwqp0AMPMuA93i7jcr//9oyHbI83ew57GIwQmoJ10MMQaUNo7PlHf/3nnMn0bWnJ11BoG1hycgwLujZa6q+zjcFjlTwJiRFBRiDG1jzTkE4aCDoQ2hpsAwFog//NExKYhcrKEAMYMufO4JOSM9hbg7vu3+PjV86zj2////JdQlVvVG70NlMrXR0P///9Po2VoUSZApBR5DptHZ3fruPMIBprnIbWRySeDi5tADXGOmFzg9Oy6CDFiyIbW//NExHMVQhqYAMPEmCIgGwQNCCG0MYBj4YOTlYyGwKmaoEXPMiRhtlA9nT+aH8m3ymfebFq4hOmkeE7sYNQoTmEi1weNYIAwo8AALFNLtmf/6k3zGq/M/RryFUN5N6nn//NExHEhEnaYANUOuQ1G56INSbo/6WdJw/zKneZy93cVzpdL4K6d2Mip0eywVPGGZj6a3dGDKodFMCikCwcdossAhWFB5s4lwqa1ka2cfSPZx8pPmL7Pkq1iAkm6xzSb//NExD8ZEqKgANUOuEVl8q1BGZ4RlkQHZZFN7//XUx9dSPXm/10O7ce1Ivj2rdFqRqoV1i0Yw0I2ZJqqwRmF5pAMrb0zb4HnRl+i9qasPrvKCFvxlhIhAT6q2nCfq79n//NExC0S6UKYANZQcB4G3617Nx/s3DXqvQ0OjnMAWH8q36xisSnRKd///1ICAAXBxUsPjAjMQ5QIVF0gQQBtBEYOHDqNUlc1hyDzIRAVHASMkS0lTVskWilDSRq1Wv2b//NExDQSIUpkAN4ElZ394////8/zP/+4YGAlKy+q+AvrGgSnAbQNTKD2NU3k/MrCAgybE+alUSQlQuGYeq2Lm51gKmqpUxVBWIu6BCgJqUEzJFl4deisXcJkHTwkQWeS//NExD4RkHpEAVsQAHdqTIBKj3baqhGWE8whDGlEGUbE11qfxOdNiTDBP/D+kEiX73QWoijgRVegs3PlIdoVADG70E0E1iSidiOBMgAX9uq5uhAKMQIAMAG4Ctkh/qZl//NExEoiCypcAZpoACDDkKiiIUPYxxi/+gz0F0CSEvKI4CTCrmo5xhP/+t9PpjaOc2HI48zE+ozLX////+hkmbHDRCSakDc0NTYoVQ+AgKE6clExWvTLfJqHj5rm2tb///NExBQXoW6cAc94AP/9Wz8wnkeLAc/STrpzZLuDe4uzqOImpDk60zD4FvLghR4VVcpQKFszK/hRJY+Je93COhDK4mjwBofpMuB8+ObF2bI/Rq1/q/+2lSiIpPiTncIY//NExAgP+WKoAHlQlJoetzQuBW+bVShzo7/t3TqsPuAcXfa3SYOUk1rQ0sBaA9ExjN0OpFmZgVFSRh0jdFOxTv+qml/SrUMZFFSnh+es/KPoZxmQ88aHnoGapoXt/8/4//NExBsRMUasAMlecHtswBuWtRg+PJ/6236btddqKNEUjLrMRzrqA9x4Z1Dv///3Ifx//Q4oZv1QjpRfutPYPGmcaHf+Jiubq36dX0FnOAyncWL20eqWIIAqCxOpnpSo//NExCkRYUq0AMFElJcc1H0F//8L0OioPuQEWmwwK8QDDDnk3OSD6z6qXUABROJwjhKRbMygTySn////5qTP//ZP+X//OzpsfYhNysy9zkjT19y82NomZ3pef9XqjNYa//NExDYSgmawAIhGuaoKdQQLF1c3J400Vvu2vRDmqbOkxkASdDv//ZCNtEznGBxjIQXu1XGi7WSTdm20X153oiMu8+cxKMp3d5ORuQ1TEECnOxzpEwHD4uxGzh9xMjGq//NExD8Povq0AFAKufpeDUEkq1FsQie8B5n/8x88wfIAK/3/ylvl21WpWtuv/Nrf7aaf/Q03N/6TdS1ZDVbrUzqhjOVkM7lLKQpQFEFP1V1kldUroD2h+kPRo49YLfgM//NExFMRKt7AAHhEuUzC2z4G4uKYGNqlfhJY5uwF0I2JCwyhRPE0pSP/rwzh81nFD9lfrx/7/ajeJEInjBQloas0p2YHCgBrVDTBJffcUrUMvKsvW4AVZeaG4LRGgtA6//NExGEQMTaoAMMScLEJnnrgwlrI/22/Jzn0/ELW4hZhD/crdaq+gyUhwkPhoW////+pV2YVtUrjB5QiZP6VRAVFyicWGEmMCxoLWTcF5nR/DFi0bp/Rw34Fe36+jeQ2//NExHMSETakANPMcECq7g1NkDB8unz/Hy1zkq3////8VcJZFcIfRMN54gwUd9j4lxOu3EwcrFimNEHXvmEFzRrFfQO6u/pdOPa0HXC3K9bydfnaKxq7JA7ZsFx9ux9b//NExH0QYT6cANPQcDBWEIOqO//Ff//zVPXQ8kq7MIzmMfKg7oCMrEnqH4HMOJ37oizKvILI42qTSv073IndZO930YenXsuYIVriaunAm8UB+4JITOX3OkXf///yDv/i//NExI4SmP6MANvWcIDlxuOiFOpOKcKqCNF0hW2YuJNC0du8ci6eOjbLtCo1jAZrN6s3yNn9n5v2cemNEzR0DRMq+P6KT6r6yZ4ydVuYsw///w+r/y9KTHLhjIMMnQGd//NExJYRKPaQANvWcC54wGRozrcWyRFxWkzLTERXSUdDWKgXqJuV6SXSh0ik9GSwQEuDTQkPKsONVpeE/9K4mpSkMtTX/p///R/1I0VD0GgAVBz95pFNlJii0HGVpBED//NExKQR6PaQANvScERh6+hwilRspTTw9NQDZl1Jj4a9fFv2OtzATVbnG6wxx+i7WgHuIKDk1z9QSYtMn3XQVcCZuNfqQW/u//9Gx+owIGidRbWvp/0qaTfU0P+K0YWF//NExK8SKTaMAOMQcAw+BBBmIw8ehnOqlu5bk1VzcaJnSj2Nq7r9tjVkjaeIZhrE+PrC+e1KH7PnR9wD8XWboVE3HdV7HN193HwmRAAADjhMHZO69//////+nU65ndXH//NExLkXGU6MANvSlMcZTEHwBjEJc+4ES6U3AQq8hcpauo50VWc3hhIkLLEOkAqFASxkwTLtbR2snWtN2MahyTKbCkEk23yGL20YLjSU+saRTHiwhpJRC1ZS3o77Pm4a//NExK8balqQANvOuLag9VqLXnNdH///X5kQlyaHDtP0YbpSpYCEQ89l5hrxmBni02UoanMAQm5DnUEo82WRm2ThoRTfCRoefBdSsj0JzJUq4QvRLdo2sSFg/0ii5hz///NExJQV+U6cANvWlPn2Xsb5SxQoaJ7hR3///++Zc5fZ/oq5AYoaNlhVIreYzGpfLQosDUs69BQjDqqsiiQiErRfR2Ji3ZY8uONNIdYFvm3qN4bWYLwSF4QFFeygabYt//NExI8UYTqYANPWcLL+/jh7t55YDnUpf///kfr1Vcpxe5xoMlG4Bgx0gcycVOCKYhLpJp5IAmjxYC/wKwnxPQKgcBfE/mix9pywez2nnOeoTxUdUSahci44E6MQzc15//NExJATiTqYANYWcFLVNyidH6Wlmhws/pmS0AGWTUXEOzA4GISsGrKtyEcWD1ZYLM5RgcSMEXZo/E3H5/un/v8v4fd1+qfv5YarOD7NJlFJIqBYPlGLOCe/PM1d6huc//NExJQR4VKcANxOlYP1aw63ybg+n9SV1degGQzUdKh72xZGYSXvwyVVV+xogCnNKIwqnfpRE1IDrvDaYP3GYv2rJ/3S9+r/7w7+65T2ratRUfVgspRSJQxZM1ofcilE//NExJ8VoW6gAM4WlJlyMF6UowYq39c04KuyQ2B+WxGBLbZIa9/2Q8mCY8sA1fB/RqScZ+CZk+N2m23uIz/ftf9Xv6y/xt8fz5U+JL4DWw+mUU7F+GeYLuBCqBYRVomy//NExJsTyXasAM4QlYDl0/CZRD0oWSoJBEYq+04aFDWaBUL3kHD0kiKhCFueTy/2vJ9/Z/t2//2f9X315LQvUNzRWWSVytI9cqXnhqwoHlf/rq/91yJJ/lCc6X9odWPX//NExJ4SeW6sAM5QlabSu7moa2c4PkHpmga50hrjMKLwNQJJEPDC6ShzHWYH6i48z5m8//t3PzxPYavuqeZXuPy8ssl4I/LWzlaq/sAA/sHWmIN9ZfFbuNdfUnhljJrI//NExKcSsW6wAJ5OlNTfSx6qmlzpmhLLNYnjDtjWsePrw9elWQuxdnUYPdQMZFaqa7Gs1Ud3ESQ5SuzaHYFz2nTAIWNOMiqcYC7jFiN4SF1lFOXkUW7qaL41bti5gaDw//NExK8RiX60AMTMlBcnEwuY1LZfuvh3tqmneTZ2bek8r////4qZ/i7QCly//+tyKpK1EwaDfMCgqnC0V0oJQHJiFuJdV8xKKM2zWfPZa7tvrNapSaIQ9H4EVM49LQZI//NExLsQYWa4AMPKlYldKnQoDQSAp3/qDin///R/iI8GlnVP//6Kw8ogNokk1aw1//////////99s+JpN7K/6YyXqHE4HeuqCGCOfJAeCwdhoOwsfL6HsHB1ywJZDjYU//NExMwSURqsAMvWcI61oNJUNGuOMYaIm7yWXvWJZ97mjvPHCQHgmK3JukTHp2xkm66BPem45HqOMGdtRAQAZGc77gAhwARfLyBjrB//AgA1T7//1//invfO/A3qGzv7//NExNUSILaMAMvYTDAyMjfjF7/58ONWHmE9jJByQxM2bFGojISL5ULaRXTRAhupTRcllGKwk5EJeGrGdUPrOm5/HiR1S3MeGyG4zPorc1tjkr3z1VrDnDZJ47Dq0O8H//NExN8Y4wqQAFgWuVh8+r5M7Ax16C52f7KYcnqbGIOBuyCKuIBbi3dkltgoKAkH1pp9WeWU/WodNc3x/031NUosLPA0RLdh9s3qtqqrZNGoxI4WmB4NSAXLDSrPS6rU//NExM4gqwqoABBeuRywy+l18cz/MHQNN3SFBRX23Hf3zv4qrPCZ6gbcSqxfJ2HHrOA5FLSIYfpxi0GSdLzU7HaJPNFiO2B02sb2DAYK6kjZpmc5yIrM7nDUez3OZWvR//NExJ4YSo6sADDQufXdrPliARPMOhuXcZee3P/7fZJ1wtg4otaNhUebxrep38bm+qnanJlgO7MJoC8QolCJwjU/peowOk8vGm2OBDH6mWbMlImYeIlEMxTHRYhAog8B//NExI8T2WqkAMPKlPLp4yo773bxl77MBc4XE49oGFXn//nP7w+J3Vr7gyiabKta3AMXoXKyiK3pGIYhxsltdG84TJ6NBZtRpquUbR5ORP5ZGiLCiVn1uYhdQc3VHs1a//NExJIWqVqsAMPMlJjI9j28tnYZkRkgehsGUmBb////TcpkKxjMpEsXve7BTXUpJsEqdQTmu1MuVy6zErpx7Daw/NF49Y3Nopyl7ValZ3coxu0mtKhIdOqKug00RBUA//NExIoS6Wq8AMPGlKw0C3///121Kr08JolZoiKBDLpEBEPOEUJRpyTcGZAxkzE2RUJWwfP5N4gvnA5LI8lllWe2ajbene7++cpbnWGgGEjddF7V31G7f//6NYLccmqq//NExJERiQK0AMPWcKdGJ0JEMqNeIh8hAK313khb3ycJsLBeyC5KLV9K7SKBd2Y8jtU4viOPXZILFTpv9fr///+MIBko5rgQBN9wqX0/GxPPigYEFbNoAvCZT4SnRdBj//NExJ0SEPacAMvYcFUU5f/G9Bh3/f9jU/////////+n7/0IQjIrsp2JTnOlHCMdGK6oyEYOLocds7gDFdFFnnFhThBCvD8A94e8PSACiolggiyPSQioa3////3t557C//NExKcSGPKYANLQcPZ+eQyaPdvblUofJTi1vzaTUTQ+UZpJaRzbbIS0FvTrVkRLKJw+HqbmoqaGz6sl3svk6ScnNR9WZbJzaxG9LtKQVUE1qIqv/////9///////805//NExLETGsKsAHiEuQowaecVcgcEhU5iFIjTuY1hdnLM43EZxajXR9RhSuogrr52Yo2UzOrFLKWww0jGZ1HiTAKIiQeIjNqgnSjOzf/8v3yVDKM3/l///7WZ2ORQTpsp//NExLcVGxq0AFASvU5BSiVLdllK0yqS9OUu3lMYuCBtY3FF4Lk/nLsamCwmJqYxbwg4444FBuTQgAAkLUdyItff9lkRn79Pl26fmdNOOxg9lfOZtM2d1LR+Xfr/13lU//NExLUSKvrAABBKuc6lY1KIioYKJJHms/wEi87nWf9VT+hK3FTyOhWtMAmQKby+mJYSY50V3hHHcHDNdN7XLGaaPbUfMoAyrIHDhJJcU0orKDtKnqaVLOcT/P+/+/f9//NExL8Qwja8ABBEuce92ftaf///Z/+71pVCGhHOowkLoFhUcDipuIJGTKBVhhuHC34JkooLmqfAQqEpz2PGhjk5u2RrARJXTM2kjSaKkKiYZZ0QtT8vcb+78nV5mS8a//NExM8ROY6wAMDElGuTM///+xP+o8am+NRVlqzhQWdaUUFUnQLPATedJS40DZOxDTMeAxo/S/Fn2j1f1acDphQ50tlSLGtot2/hNavZ2B4r2xvV7kyQGS8BQwyURcZU//NExN0QuT6kAMsWcFHV2o///yldTj6yQHQH3Ip1qp+82QwKBUZiowsjzFDTRQU0t9Keo14WDs1o7To9VB40iVrBGCzPo4T6bYS2mPHU489SNDTh+Er8Q/5LUZ6aj6ph//NExO0VCT6YANvScM8Uvr+JkUcij///6CgZOCo91zXloQONTZI78ABfJLpSMQwcOlcsMeUUQeDUPt0J3eZDD9e74GbYKFcVrLAxWGRrwTkzUzMRMEsbeUec6Tl+10tl//NExOsViN6UANPecEH1lk+WfUMl6P///2mQ1D6loJdJQv5fuSCkdlktesCQYJfEBODWUIWdyFLS7DTcJN3wfzhbnbFkCFNFsjdcoZ3KmmCByQyQpx9FPmfbayay+UHl//NExOcWKSKcANvecEruVOx+1qmPwXe3/0f/rcOcm1CtdbsaD1GpoLIwixLHiMAcSiNTELFosjzqF9p3mrzhjiyYdbUwjbI1K419SIU47XLFVtJDL8qzefNvSlthic8e//NExOES4SKkANMecARe+VUW8s/VR/p//yVMimqzTNJPLtHiMDJ8h8GEUhjSUCX7ki+DY1vnjnyzft29bWvhMRbaFhfQk+D3m2SGa0QcxkC1tGNTJbwRH+e4Ijeh0ssl//NExOgVOTagANPecN3J+YQOif/X2fcuhdDyLxyq5TLIOKIFRyEt0Cl2jYYBhVva2+bCLnITq2QO9P1m+fr24szEI5IA/AgHUDi0cTglBoMSYtHyiMRKO65QazafVopM//NExOYT0UagANNecO1zb18j1HZBxTepP/+rcpv+qqq5DYIiGJFvsFCxqEaLDMho3EmtvPyooXMKzGF6GG1a7P/32r7Nthx8vqTsTENoEU0M0y+ZuI1dTbok7Ix2izFa//NExOkU4VqYANPWlAV0eex6+/sWd/9cZzkUZd7UnGawfamzdhgx67BBAL1CoUyapZzxCEGpNMeKW+442rxy3cylc//PX39qYPYPxMHgQ3E2qUvzNQ28KLCwEKR0HD44//NExOgVEYqUANsMlMxxwEEwmJUKf/////02//f60T7bdSZKiI7+UcXiCqMpMP8FIjo4O+bdIGjs2q9MYOB4BzHQxDE2/T6UZR6J4X/n/+fP5dvlFWYdTMZeH2IZCUCJ//NExOYWeWaUANMMlIyT/u//O/UpY8OkFK/FlvN/uJIVwUXP4IWB+KjILj4nRRHjcBfMz6DCAsjtCCOh9G/2tOGgLzRuCEn6UlO9QuPGwSLGsUzU9DHxZQwZZpQ8Ydnv//NExN8U8rKcANIKuP//+jH//UqLIBTtCYHBhsb0EKBb01MDUiDkJVcEAMngqRFDrYJrcfIjrQoUAUJkUbdS1LPTJSwJCEDJKmJQREhAoHpAzKDwwpfcTGYKShSjUBIM//NExN4S0WqgAMlMlLPbv//qAAkAoqOJM1V9RUSNnn0HwbogYFGhIO3lxmFAa31ZBYHtQAWAeWCaJCwvUYHd4f1x4BstFu58YUj1ccSww6vfWYpToB3aOLtM6rsv037f//NExOURWWagAMHQlK2/X+k9Z979f/lFOAxXxn0xdYi0oxy+CCgwqLMPDknQUghA+hKMdAYUFw7nQij8ZBW2Ylsyi4vGohHZbEJAPTggFCRJwwiSOkcNoqUiUrW9poRg//NExPIWKUqEANpGlDV+UtOf6hEYV/rKlv/qkSnBr9CLOJUJyOETICogaiGkwI/AkDxhMdkoBweOnSxCJ58WjwyIViUvOlRlcrYmRqRPHU20Z2TmFcfkcj7rwnJTWBts//NExOwV4g6AANsEmLTN/TiS7/+ADP/oD6qtAJhaNrJL3GNVUY0BDJQMFQ4wNMlJN3ZfjThjBP9+rU5Fqo2JVLamVTpri2jEILFi4qUCggoUiT5xzf9dTZqnUNvPiQ4T//NExOcTwNqIANsMcLUeh6en6KYgDh+n6EbCVYdXUYg1nXLAsIhUMNLQ0Nn4aeJBE8oan3adJIuXiEEZ5YulvcvV20C6955ztpzA5j+Xw7LdaJ7ta/l590Sz9MiOQ6MQ//NExOsUSQqIANsScK4RMJA0PAmE5IHBQHIbAAEgTA4B4OnMYfMPp//////1p+9aEAwcCBA8tdk+DjvXWkmqqR8UCHSitIiZiDoc7ijdQFUc2VpCRS5uRrtpYNSqTWvE//NExOwVGRaIAOPQcP4lNatSAqMqQcDIdqSaIbbHvDhTXblHtSqOOkUe/M4rYb5FKN2xK9/RdZhJ5rvU8WSE/iag0t///68KJWKg00Ud9TiY0WqsqRtznnJXTKyCzapI//NExOodSlKQANsOuEEmZ2wspRiRXiXj6L/F3pX+x/4hF8dVL+UzDo31A7cUTSDMzZmHGiEPsSbIjpiJ8hZUoiS9Nok2HskSTZYmWWQ47i6v///65ORE+AKpJpaGwWK6//NExMcZoWKgANPelCAkNCq7RQSItUIXCqMcgKYngktW/svdJgkDhoNUYmFKwa6dz8NPw3/ULbae7UqonWBdns9M1+e3moq0Ms+qjfOX9w/8HTjf//0/5EsAqpqqOBh8//NExLMWMVaoANPSlJsEW2YEgi2y8LiQMlbxc6VsOvCzGK5Oh9ILcRmSA0SBoSxBIVS8hstdQt/P/r/YzoBCoUBEHARNloZ//zPsXeYTMf//+t3xCNpui7DPyAl8AgJY//NExK0VEWKkANPYlBiPwQOABMCGyYYDgSUqat6Efpk5itzkw1Vp3KtVBAQDlULSqvTFfi3zr//+VdCiU/+v+a0xjKJMGFf///9dICQFEkGk0aRHVAWDgqS6aJhwyfUu//NExKsTYXKgANPElKF+Z29vDuXcP+7l1AIjQaC+DrGBehXa2WyFKN60gVKACB2dX///26bvWm7uI+MubMWfv4yzJTNT/8cCUiMSzWw+AMSF0P8MUgxiXloAZhA2YFKB//NExLAR6XJsANPElGVgWsToDdwbB3yOIgiX3E/CwjhGZM/00003QcgJeTOL/ugyboOsyNCfSQJz/mBcGYLjJqZRiOQHFilBy3Umaf/t/63ZJWaOs4kTf//p09AmCcME//NExLsPqJJMAVpIAD9byZPkuRAWWVDSijgroQUoajphVlxDabtOW+JZztfhWi0jw0PAiIYOgcE4BhQPxccgqzxLwlK3R8HwKGf8zdxz9d/d/HETHFz7X9sWMHtOCiqX//NExM8h4xqAAZiYAX/+rla7jSCIw8+NjkjCzwaYs5lkQisviMacBTSq0hyKKXmEYKARxAGGEno7fMsSEJKJ0ZR02Evm3vvYT7dXO227lOez3fr/ZpLvISpN///////S//NExJoUgZ6cAcxAAHkGMcMBgX/orZDsQ+ZWVvJmMR0N+poYKVb1X6tNcdBhPi7LO0clX5b3KAbk9BkTJ8MNBRCodMaOiv0Ln7Bu7dl+5bYFi7epI7Gl4+Xl4YZw4rLs//NExJsUAkakAMpEuHOQgRaCQYcAGCCQ52OdH///26fZ5KFdyCmCB6iiABxC3AwAzDVBiv/oyvLBFDZWju0G4yGv1daxAFxesasiUVurq3UObMmc7ULhTH1u4enhd3Io//NExJ4dAl6kAMvEuPm+xms1ml9xa7fP93m4l+SKrEqFs///vSmRU8kWfRXCkBGRaVSpXA/jSai3I57p9l7MVnVbrVqsYU5TVMYrIb/oaXtUrf///10/f/enkIxz2dlc//NExH0SGQq4AMPYcOL87IyNU7nNRiMd1OhLkAIQACCLzzmU51dTjK5AAAGOcjAbkoIYgEBlTo3///////nu///88f9z/1sJz9P2WOTTlqONp/mcaYuKcVIetXWjLcpJ//NExIcWgxa0AHiEuUeemfFDROhFYleOCPZkxW1wYms0aQoy6ZhGYJg6yxUlVEayqv///////6KufdJxiqpyMbQcU0cOOeUPHCUohp0kPmnD7FiwqG5AcHxuMHECwwIo//NExIAUGxq0ACgSvT88NiQQYaDQmzD0dIEiAWR1/qSAmfj/l//f//+B///////98tpxHX////KpH/5ekvUX68V5T7M1dw0OqzV0qrIgh81ElWTR0kmh6LWDwLsk02M6//NExIIP+wLAAAAOuWtLgor4tdjkAOB4QznUbOwIWp04EGQVxcZW7V/+/fxszs2YL26TvfjY3iP/tKN1H/xKIjr/qxz4lDRURHT1mq6LyX4izpIOywaU+pXFbQNaiiIS//NExJUR4wa4AAhQubWmVrDS+IphKaCTUxIWgjc2+vWF69OVSCq+zaE6VBgdA0k/s/nuYeevoh22O97/UMHmgIJAmP+U///YxqS62+41pW9dFM0F9G4reS0XG5FJ1AjX//NExKARUQKkAHmMcNp69dmF1kJq+MFtTMQEoiAUcB3WOIiouIjCgcoHFRxSMXt//exClOInEYdT///9S5kcGNaZ6LpcBXsymcwwHBex4ZmLWVlsSTePXGNapbOb1iWt//NExK0RKPawAMGYcFcYTWhxNuS698i1GuEuIhYKRpK6RxXf9f/fF3Iw4hvLCgd/f//9aF3yR5WlhZPBRZsz1qFCqi/aeyZ8F5NhhBSCKX4ezpit+/LjVIHEx2cjuVW3//NExLsRQW60AMJKlI/ZMhBYXJMBcLjz5TrT++v6t/VJ1MoBA8An+2c///rV8sPIlOCRxT8rsbTOWCFnJzkZnxhMMM1znZi7T02N65nUq9tbpFE5mSiOxcbEFmYoOho///NExMkSqWqsAMPQlBSs10Xc19jrXip152xLLen///TMKtEC0m1FyLCOzeOCr94nHCwxraSsqbdekcikSlk7F5vcqsT9JNSyHZGZwjIybPj6rla/F9/t1OrFBFIqD63j//NExNESkVqkAMMQlAVpFig8kPDajVHTRdFhEmiYaTupKQ29aOUtDgmVhQCGgiWUjg3vQEw+oPI0QJQ5MBoA30Z+4os91S3TvQZInql0p32dmL9fmN+bkvaKn2W55ENv//NExNkRyOqkAMYScCTr+Xh7978qC59SUXlaBpmvUU///1UrwDhIo7gGlTDXXJNJTouAyi/BbAqAfRByeG+jz+UBqlcCnHpC4BjFNCbGF6+tb63fWN5/+u2X9KebC3YY//NExOQSaOqkAMYYcIz+S00Uwhz6Mmn11esxOgJgBlzCRiCFriqwsIvow0AyAxiR5K4XNSzQkt2YgnOpmYgGMiAdfj9QzEabCvhYv55fv/7+/3z737f739XOmgFeIrSV//NExO0XgVaYAM4SlEXcXWOUeckmNQSMRBEQQy3////+le0hnTJXqIuziMsLaoGHqsXCMIBQLyCIy8IIj+GNRlwbogVINYIJERJ0mHSPqVdX9///1a2KUUYOPCYuo8yB//NExOIR4U6oAHvGlY7B0QDHqKrUFmJOHXs8Drl6L5BxjTxASZAy3G+A3ijwBku+PBcwYgELNjEmGUsVkcpllSVV86uVy9nl3+f/6w13+9/r/O3xvmM1miS4xNz/ZyWp//NExO0W4WqcAM4MlJE0QUcRomQylYQoTQmn///+isbSchPFMkEbu0iRSeUZGXXZiAYeNEmgMyJcXwGZjrE8AB2M2YC3HiwT7rPzp51vtVu3Hr8ev368Xy2MPHkBdw56//NExOQRKXaoAMSElUPcVLy6g0vDktn2He////fXZVXlMOPE+WxxseDwKoq/rYUHIg6cQNi5zQIJjoJ8N8DpiSAOAJkZjtNVEZmuWdte+jQ+9F3++8rY8xReESUHuIi8//NExPIXYY6cAM4MlCLqMFnI5xEeInO///+y4opyVcY0FMhM62XtIgrpUHfp6AYUl1HENBSwngHg7RawNBbhQ4B8NImxmjRB0GNlLSWr+930qu/r/rsdmdhJXMp0ODGI//NExOcU2ZacAMyQlAhREFBAOlTb////faNMKrTIDDYBNIGh5k5Enk/oQHLLJgJSKqiwarAgASclpEI41BMRYhcx6CxJ9vlhbvJCzaDjVbfNvuudtqaf39OyLqy1K5QV//NExOYUUY6YAMzKlMSF4zFmI0aFAij//6kOEiEniJY2uuoeAzSnwDGI0RVwDjVGpq4qtjTo1GgSgAwZBIFEYD65g9D0ufZPdfM17f+f////8ysV1KVnSZzBj50JBwcO//NExOcTyYKYAMwElBccS//+ijoqX6YFGR09mGNwoJCZnhhMKBwKLrPYqq3jEnaa0Qp0MoQklocrVtPQ15mYXUetXurWg1rXGPa2s4mZ7l1ZUmQy7ejGKVlK6zG1LMZB//NExOoWIZqIANvKlGSYxRVwFAEOsHRV///7agDIGkhNw2gbJisSYTtRZyY7HYzbVgJ8JsXEXGZEsOXuo0XWYu/RJcFPU/Yp2H7WkSoKMJB0Ehc6o0WCM0KQWsZJGQ6O//NExOQRUXKEANLElBdJJv+2pA3tftKsx8bMs7X66kbTxqDoxIFwVcsRabLZNTUyMiMcCB8JkodBuqtUpI254kkNDygBLkSwdUVeoVQNHHYial5XZLNOY8XI3apd2dT6//NExPEWgbZcAOPKlGYINPkdkAi/1lfbWmo1VNdoRS2c7EmxlWqqpu4ngtFMq5M0vI3rLVy4gfsWoO1TK3uqCosvB3AldrGn5m/7pKA/Rci389lzfo31ouOJCpTpjb8///NExOoVUP44AMvGcNzjf/GbmOo3J3t/pyrL8anMbgdkwDQGuTDsZlussdUzUahKKLAnCqpHve0HcgRgUtU788gptIGCB8hywFKrCZgXGohMk1jQNzbDjT0kZGi8O34l//NExOcTUKIsAMpQTGMb9ZUWaZocO4lGv3lqBmqNldaSbObZqxildWjnbl0QRucqVw1LHEMhRk53I5UH2F1Y5IDim6rSei+t5Or7joqYTI7us75kjN1Z+Mk9juAKW8xV//NExOwV8N4gAMJGcab1uXaIzj5Rrrv2FTbpCtU0OtTosmjYly3SfUMY6RqYYzBEYsXQMkKGOlJSBbLkZvCIGpg1CVlWYM1hhTZxzo195BL3299sdO+RD0O0+2CgKM2o//NExOcToNoYAMDGcKvO+AG/cB+Sp+iiaHzfd/95KgZrWtmqO0uK6muXXKjhUkHGF0gbN7EXJgyKBSMBNgXIg5qcsUGgGERfxxCWLhDqFkyAvlKml32bb+HJhr/e62Hq//NExOsUwaoMAJjKlX/v//j6oMttt/yVv9fy+2IGa1PVQVrWkc8ogIGWM1JwxERIVYkFCWCSxyUjBqt3HohsGZjAzBkRM5KY3XQjbDNoIRMouennj/8t3tPf4/jjP3s1//NExOsVkW4MAJjGldvc5jxDWDu+uIXtR+634NzdJ7oGUqe1VTs6kNbNhysolc3DGzo+SkbPomW5RoH8EY+WlMYGLNUjK4T0Zt2aevNLd/z7epf+661nT/0Um6MVs6Zx//NExOcUMSIMAJjGcZQpzXu+B25luao0BX++kmldNSV7dftJVv2FeM2HBO30tyRyWGMLEGylLJQQqUj1Y6oYY2WHNsM3doO43Yg6RZWXMEHeciZY6btXzrVfVKcV+Ck3//NExOkVYXoMAJjGlUua2b+W7caecV/9HF+JvpG/KrUKkTrStaVI39lEWlN+M1JdM3gJxNEhnGb1pNSarPaoyk0ZerGR2N5kdkdZlt6GCqAgKRCQwCkQk/GeEvURCT8k//NExOYSYRIQAJhGcRUBEoVATf+KP/9o9UxBTUUzLjEwMFVVVVVVVVVVVVVVVVVVVVVVVVVVVVVVVVVVVVVVVVVVVVVVVVVVVVVVVVVVVVVVVVVVVVVVVVVVVVVVVVVV//NExO8W2Y4IAMDGlVVVVVVVVVVVVVVVVVVVVVVVVVVVVVVVVVVVVVVVVVVVVVVVVVVVVVVVVVVVVVVVVVVVVVVVVVVVVVVVVVVVVVVVVVVVVVVVVVVVVVVVVVVVVVVV//NExOYS4UngAMDElFVVVVVVVVVVVVVVVVVVVVVVVVVVVVVVVVVVVVVVVVVVVVVVVVVVVVVVVVVVVVVVVVVVVVVVVVVVVVVVVVVVVVVVVVVVVVVVVVVVVVVVVVVVVVVV\" type=\"audio/x-wav\" />\n",
              "                    Your browser does not support the audio element.\n",
              "                </audio>\n",
              "              "
            ]
          },
          "metadata": {}
        },
        {
          "output_type": "stream",
          "name": "stdout",
          "text": [
            "[커피 주문 머신 메뉴]\n",
            "-------------------------------------\n",
            "- 아메리카노 : 2500원\n",
            "- 카페라떼 : 3000원\n",
            "- 카페모카 : 3000원\n",
            "-------------------------------------\n",
            "원하시는 커피종류와 잔수를 입력하세요.\n",
            "아메리카노 몇잔:3\n",
            "카페라떼  몇잔:2\n",
            "카페모카  몇잔:1\n",
            "지불하실 총 금액은 16,500원 입니다\n",
            "돈을 넣어주세요:20000\n",
            "거스름돈은 3,500입니다. 커피 맛있게 드세요\n"
          ]
        }
      ]
    },
    {
      "cell_type": "code",
      "source": [
        "import time\n",
        "for i in range(1,11,1):\n",
        "        time.sleep(1)\n",
        "        print(i)"
      ],
      "metadata": {
        "colab": {
          "base_uri": "https://localhost:8080/"
        },
        "id": "U71d8Eh4I_eb",
        "outputId": "4af37c69-9ae9-4e90-ecc4-a119dcd06b70"
      },
      "execution_count": 72,
      "outputs": [
        {
          "output_type": "stream",
          "name": "stdout",
          "text": [
            "1\n",
            "2\n",
            "3\n",
            "4\n",
            "5\n",
            "6\n",
            "7\n",
            "8\n",
            "9\n",
            "10\n"
          ]
        }
      ]
    },
    {
      "cell_type": "code",
      "source": [
        "!pip install gTTS\n"
      ],
      "metadata": {
        "colab": {
          "base_uri": "https://localhost:8080/"
        },
        "id": "Xxn6-A1TA6dM",
        "outputId": "29591ea7-0451-462e-8154-1c3a347b5912"
      },
      "execution_count": 58,
      "outputs": [
        {
          "output_type": "stream",
          "name": "stdout",
          "text": [
            "Collecting gTTS\n",
            "  Downloading gTTS-2.5.1-py3-none-any.whl (29 kB)\n",
            "Requirement already satisfied: requests<3,>=2.27 in /usr/local/lib/python3.10/dist-packages (from gTTS) (2.31.0)\n",
            "Requirement already satisfied: click<8.2,>=7.1 in /usr/local/lib/python3.10/dist-packages (from gTTS) (8.1.7)\n",
            "Requirement already satisfied: charset-normalizer<4,>=2 in /usr/local/lib/python3.10/dist-packages (from requests<3,>=2.27->gTTS) (3.3.2)\n",
            "Requirement already satisfied: idna<4,>=2.5 in /usr/local/lib/python3.10/dist-packages (from requests<3,>=2.27->gTTS) (3.6)\n",
            "Requirement already satisfied: urllib3<3,>=1.21.1 in /usr/local/lib/python3.10/dist-packages (from requests<3,>=2.27->gTTS) (2.0.7)\n",
            "Requirement already satisfied: certifi>=2017.4.17 in /usr/local/lib/python3.10/dist-packages (from requests<3,>=2.27->gTTS) (2024.2.2)\n",
            "Installing collected packages: gTTS\n",
            "Successfully installed gTTS-2.5.1\n"
          ]
        }
      ]
    }
  ]
}