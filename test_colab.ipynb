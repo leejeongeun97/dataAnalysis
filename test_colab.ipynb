{
  "nbformat": 4,
  "nbformat_minor": 0,
  "metadata": {
    "colab": {
      "provenance": [],
      "toc_visible": true,
      "authorship_tag": "ABX9TyMW11g9/TpZdLSAIqwdjwfU",
      "include_colab_link": true
    },
    "kernelspec": {
      "name": "python3",
      "display_name": "Python 3"
    },
    "language_info": {
      "name": "python"
    }
  },
  "cells": [
    {
      "cell_type": "markdown",
      "metadata": {
        "id": "view-in-github",
        "colab_type": "text"
      },
      "source": [
        "<a href=\"https://colab.research.google.com/github/leejeongeun97/dataAnalysis/blob/main/test_colab.ipynb\" target=\"_parent\"><img src=\"https://colab.research.google.com/assets/colab-badge.svg\" alt=\"Open In Colab\"/></a>"
      ]
    },
    {
      "cell_type": "markdown",
      "source": [
        "# **파이썬**\n",
        "## 파이썬\n",
        "### 파이썬\n",
        "#### 파이썬\n",
        "\n",
        "\n",
        "---\n",
        "\n",
        "\n"
      ],
      "metadata": {
        "id": "q_wDOx0yD6fq"
      }
    },
    {
      "cell_type": "markdown",
      "source": [
        "## 1.제목"
      ],
      "metadata": {
        "id": "lJZ_BuoMEcIT"
      }
    },
    {
      "cell_type": "code",
      "source": [
        "print('코렙에서 작성하는 코드')"
      ],
      "metadata": {
        "id": "K7cQxTYIE1Yi"
      },
      "execution_count": null,
      "outputs": []
    },
    {
      "cell_type": "code",
      "source": [
        "a=10\n",
        "b=20\n",
        "print(a+b)\n",
        "print(a-b)\n",
        "print(a*b)\n",
        "print(a/b)"
      ],
      "metadata": {
        "id": "yTJ18gp1FCtQ"
      },
      "execution_count": null,
      "outputs": []
    },
    {
      "cell_type": "markdown",
      "source": [
        "## 2.파이썬 패키지 확인"
      ],
      "metadata": {
        "id": "qS-xNfwIEop5"
      }
    },
    {
      "cell_type": "code",
      "execution_count": null,
      "metadata": {
        "id": "meZhG0ZzDfTP"
      },
      "outputs": [],
      "source": [
        "pip list"
      ]
    },
    {
      "cell_type": "code",
      "source": [
        "\n"
      ],
      "metadata": {
        "id": "vNqQMWJvFwTr"
      },
      "execution_count": null,
      "outputs": []
    }
  ]
}