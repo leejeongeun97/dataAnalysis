{
  "nbformat": 4,
  "nbformat_minor": 0,
  "metadata": {
    "colab": {
      "provenance": [],
      "authorship_tag": "ABX9TyOwFInyqRQ6PDQtNfD6IQVg",
      "include_colab_link": true
    },
    "kernelspec": {
      "name": "python3",
      "display_name": "Python 3"
    },
    "language_info": {
      "name": "python"
    }
  },
  "cells": [
    {
      "cell_type": "markdown",
      "metadata": {
        "id": "view-in-github",
        "colab_type": "text"
      },
      "source": [
        "<a href=\"https://colab.research.google.com/github/leejeongeun97/dataAnalysis/blob/main/homework0404.ipynb\" target=\"_parent\"><img src=\"https://colab.research.google.com/assets/colab-badge.svg\" alt=\"Open In Colab\"/></a>"
      ]
    },
    {
      "cell_type": "markdown",
      "source": [
        "###1. 반복문을 이용하여 퀴즈를 맞히는 프로그램을 만들어 보세요. 정답은 키보드로 입력합니다.\n",
        "\n"
      ],
      "metadata": {
        "id": "LuCvcxaosgKw"
      }
    },
    {
      "cell_type": "code",
      "execution_count": 3,
      "metadata": {
        "colab": {
          "base_uri": "https://localhost:8080/"
        },
        "id": "kxsExb-wrkTm",
        "outputId": "4a0ee3dc-7618-42d1-aa97-1b3cd9bd5d97"
      },
      "outputs": [
        {
          "output_type": "stream",
          "name": "stdout",
          "text": [
            "프로그램을 작성할때 일정한 구간의 명령을 반복해서 \n",
            "실행하도록 구성한 구문을 무엇이라 하는가?\n",
            "정답은?모름\n",
            "정답이 아닙니다 다시 입력하세요\n",
            "정답은?반복문\n",
            "정답입니다\n",
            "끝!\n"
          ]
        }
      ],
      "source": [
        "print('''프로그램을 작성할때 일정한 구간의 명령을 반복해서\n",
        "실행하도록 구성한 구문을 무엇이라 하는가?''')\n",
        "\n",
        "while True:\n",
        "    answer = input('정답은?')\n",
        "    if answer == '반복문' :\n",
        "        print(\"정답입니다\")\n",
        "        break\n",
        "    else:\n",
        "        print(\"정답이 아닙니다 다시 입력하세요\")\n",
        "print (\"끝!\")\n"
      ]
    },
    {
      "cell_type": "markdown",
      "source": [
        "###2. 1000만원을 년 이자율 7%로 저금했을 경우 2000만원이 되는 데 몇 년이 걸리는지 계산하는 프로그램을 만들어 보세요"
      ],
      "metadata": {
        "id": "uV5zTppHuL9G"
      }
    },
    {
      "cell_type": "code",
      "source": [
        "account = 1000\n",
        "year = 1\n",
        "while True:\n",
        "    account += account*0.07\n",
        "    if account >= 2000 : break\n",
        "    year+=1\n",
        "\n",
        "print(f\"걸리는 년수는 {year}입니다.\")\n"
      ],
      "metadata": {
        "colab": {
          "base_uri": "https://localhost:8080/"
        },
        "id": "_MyWX6ItuIFn",
        "outputId": "7b1b0d31-e920-4d1a-bdde-21fab565b6f5"
      },
      "execution_count": 5,
      "outputs": [
        {
          "output_type": "stream",
          "name": "stdout",
          "text": [
            "걸리는 년수는 11입니다.\n"
          ]
        }
      ]
    },
    {
      "cell_type": "markdown",
      "source": [
        "###3.Turtle 이용해서 정오각형을 그리기 → while & for 반복문으로 변환하기   --> idle에서 해야함"
      ],
      "metadata": {
        "id": "XAhD4Rk1vnjv"
      }
    },
    {
      "cell_type": "code",
      "source": [
        "##idle에서\n",
        "import turtle\n",
        "\n",
        "t= turtle.Turtle()\n",
        "\n",
        "for i in range(5):\n",
        "    t.forward(100)\n",
        "    t.right(72)\n",
        "\n",
        "##-----while--\n",
        "import turtle\n",
        "\n",
        "t= turtle.Turtle()\n",
        "\n",
        "i=0\n",
        "while i < 5 :\n",
        "    t.forward(100)\n",
        "    t.right(72)\n",
        "    i+=1\n"
      ],
      "metadata": {
        "id": "w52rDuy1vwEH"
      },
      "execution_count": null,
      "outputs": []
    },
    {
      "cell_type": "markdown",
      "source": [
        "###4. 반복문을 사용해 1부터 1000까지의 자연수 중 3의 배수의 합을 구해 보자."
      ],
      "metadata": {
        "id": "soGsXRtfxF5G"
      }
    },
    {
      "cell_type": "code",
      "source": [
        "##for\n",
        "hap = 0\n",
        "for i in range(1,1000+1,1) :\n",
        "    if i%3 == 0 : hap += i\n",
        "\n",
        "print(f\"3의 배수의 합은 {hap}입니다\")\n",
        "\n",
        "##while\n",
        "hap = 0\n",
        "i = 0\n",
        "while i <= 1000 :\n",
        "    if i%3 == 0 : hap += i\n",
        "    i+=1\n",
        "\n",
        "print(f\"3의 배수의 합은 {hap}입니다\")\n",
        "\n",
        "##list\n",
        "hap = sum([i for i in range(3,1000+1,3)])\n",
        "print(f\"3의 배수의 합은 {hap}입니다\")\n"
      ],
      "metadata": {
        "colab": {
          "base_uri": "https://localhost:8080/"
        },
        "id": "1OvybXFQxKl8",
        "outputId": "9271b50d-2675-42c7-97e7-43fd8d65d03a"
      },
      "execution_count": 3,
      "outputs": [
        {
          "output_type": "stream",
          "name": "stdout",
          "text": [
            "3의 배수의 합은 166833입니다\n",
            "3의 배수의 합은 166833입니다\n",
            "3의 배수의 합은 166833입니다\n"
          ]
        }
      ]
    },
    {
      "cell_type": "markdown",
      "source": [
        "###5.사용자가 숫자를 입력하면 별 모양을 입력한 숫자의 두 배만큼 출력하는프로그램을 만드세요. 예를 들어 5915를 입력하면 각 행에 10, 18, 2, 10 개의 별을 출력해 보세요."
      ],
      "metadata": {
        "id": "n7xOCwZ-49Zk"
      }
    },
    {
      "cell_type": "code",
      "source": [
        "num_list =list(input(\"숫자를 여러개 입력하세요 : \"))\n",
        "\n",
        "for i, in num_list :\n",
        "    for j in range(0,int(i)*2) :\n",
        "        print('\\u2605',end=\" \")\n",
        "    print(\"\")\n"
      ],
      "metadata": {
        "colab": {
          "base_uri": "https://localhost:8080/"
        },
        "id": "d0Bv89ve3hF7",
        "outputId": "38858bb9-1fef-4d98-acba-074f920c0bfb"
      },
      "execution_count": 11,
      "outputs": [
        {
          "output_type": "stream",
          "name": "stdout",
          "text": [
            "숫자를 여러개 입력하세요 : 5915\n",
            "★ ★ ★ ★ ★ ★ ★ ★ ★ ★ \n",
            "★ ★ ★ ★ ★ ★ ★ ★ ★ ★ ★ ★ ★ ★ ★ ★ ★ ★ \n",
            "★ ★ \n",
            "★ ★ ★ ★ ★ ★ ★ ★ ★ ★ \n"
          ]
        }
      ]
    },
    {
      "cell_type": "markdown",
      "source": [
        "###6.아래와 같이 구구단을 출력해 보세요.\n"
      ],
      "metadata": {
        "id": "fXnMy1N-GjYF"
      }
    },
    {
      "cell_type": "code",
      "source": [
        "#방법 1: 세로\n",
        "for i in range(2,10) :\n",
        "    print(f\"=== {i} 단 ====\")\n",
        "    for j in range(1,10) :\n",
        "        print(f\"{i} x {j} = {i*j}\")\n",
        "\n",
        "\n"
      ],
      "metadata": {
        "colab": {
          "base_uri": "https://localhost:8080/"
        },
        "id": "CT799IZ4Gp8E",
        "outputId": "e49e5403-4a05-45c9-d2c9-e7fedbd89dc3"
      },
      "execution_count": 58,
      "outputs": [
        {
          "output_type": "stream",
          "name": "stdout",
          "text": [
            "=== 2 단 ====\n",
            "2 x 1 = 2\n",
            "2 x 2 = 4\n",
            "2 x 3 = 6\n",
            "2 x 4 = 8\n",
            "2 x 5 = 10\n",
            "2 x 6 = 12\n",
            "2 x 7 = 14\n",
            "2 x 8 = 16\n",
            "2 x 9 = 18\n",
            "=== 3 단 ====\n",
            "3 x 1 = 3\n",
            "3 x 2 = 6\n",
            "3 x 3 = 9\n",
            "3 x 4 = 12\n",
            "3 x 5 = 15\n",
            "3 x 6 = 18\n",
            "3 x 7 = 21\n",
            "3 x 8 = 24\n",
            "3 x 9 = 27\n",
            "=== 4 단 ====\n",
            "4 x 1 = 4\n",
            "4 x 2 = 8\n",
            "4 x 3 = 12\n",
            "4 x 4 = 16\n",
            "4 x 5 = 20\n",
            "4 x 6 = 24\n",
            "4 x 7 = 28\n",
            "4 x 8 = 32\n",
            "4 x 9 = 36\n",
            "=== 5 단 ====\n",
            "5 x 1 = 5\n",
            "5 x 2 = 10\n",
            "5 x 3 = 15\n",
            "5 x 4 = 20\n",
            "5 x 5 = 25\n",
            "5 x 6 = 30\n",
            "5 x 7 = 35\n",
            "5 x 8 = 40\n",
            "5 x 9 = 45\n",
            "=== 6 단 ====\n",
            "6 x 1 = 6\n",
            "6 x 2 = 12\n",
            "6 x 3 = 18\n",
            "6 x 4 = 24\n",
            "6 x 5 = 30\n",
            "6 x 6 = 36\n",
            "6 x 7 = 42\n",
            "6 x 8 = 48\n",
            "6 x 9 = 54\n",
            "=== 7 단 ====\n",
            "7 x 1 = 7\n",
            "7 x 2 = 14\n",
            "7 x 3 = 21\n",
            "7 x 4 = 28\n",
            "7 x 5 = 35\n",
            "7 x 6 = 42\n",
            "7 x 7 = 49\n",
            "7 x 8 = 56\n",
            "7 x 9 = 63\n",
            "=== 8 단 ====\n",
            "8 x 1 = 8\n",
            "8 x 2 = 16\n",
            "8 x 3 = 24\n",
            "8 x 4 = 32\n",
            "8 x 5 = 40\n",
            "8 x 6 = 48\n",
            "8 x 7 = 56\n",
            "8 x 8 = 64\n",
            "8 x 9 = 72\n",
            "=== 9 단 ====\n",
            "9 x 1 = 9\n",
            "9 x 2 = 18\n",
            "9 x 3 = 27\n",
            "9 x 4 = 36\n",
            "9 x 5 = 45\n",
            "9 x 6 = 54\n",
            "9 x 7 = 63\n",
            "9 x 8 = 72\n",
            "9 x 9 = 81\n"
          ]
        }
      ]
    },
    {
      "cell_type": "code",
      "source": [
        "#방법 2: 가로\n",
        "for i in range(2,10):\n",
        "    print(f'-{i}단--',end=\" \")\n",
        "print(\"\")\n",
        "\n",
        "for i in range(1,10) :\n",
        "    for j in range(2,10) :\n",
        "        print(f\"{j}x{i}= {i*j}\",end=\" \")\n",
        "    print(\"\")"
      ],
      "metadata": {
        "colab": {
          "base_uri": "https://localhost:8080/"
        },
        "id": "p7s6PzjCI4WS",
        "outputId": "b5e2081f-1e9e-46f9-f3df-9a856f5152f1"
      },
      "execution_count": 19,
      "outputs": [
        {
          "output_type": "stream",
          "name": "stdout",
          "text": [
            "-2단-- -3단-- -4단-- -5단-- -6단-- -7단-- -8단-- -9단-- \n",
            "2x0= 0 3x0= 0 4x0= 0 5x0= 0 6x0= 0 7x0= 0 8x0= 0 9x0= 0 \n",
            "2x1= 2 3x1= 3 4x1= 4 5x1= 5 6x1= 6 7x1= 7 8x1= 8 9x1= 9 \n",
            "2x2= 4 3x2= 6 4x2= 8 5x2= 10 6x2= 12 7x2= 14 8x2= 16 9x2= 18 \n",
            "2x3= 6 3x3= 9 4x3= 12 5x3= 15 6x3= 18 7x3= 21 8x3= 24 9x3= 27 \n",
            "2x4= 8 3x4= 12 4x4= 16 5x4= 20 6x4= 24 7x4= 28 8x4= 32 9x4= 36 \n",
            "2x5= 10 3x5= 15 4x5= 20 5x5= 25 6x5= 30 7x5= 35 8x5= 40 9x5= 45 \n",
            "2x6= 12 3x6= 18 4x6= 24 5x6= 30 6x6= 36 7x6= 42 8x6= 48 9x6= 54 \n",
            "2x7= 14 3x7= 21 4x7= 28 5x7= 35 6x7= 42 7x7= 49 8x7= 56 9x7= 63 \n",
            "2x8= 16 3x8= 24 4x8= 32 5x8= 40 6x8= 48 7x8= 56 8x8= 64 9x8= 72 \n",
            "2x9= 18 3x9= 27 4x9= 36 5x9= 45 6x9= 54 7x9= 63 8x9= 72 9x9= 81 \n"
          ]
        }
      ]
    },
    {
      "cell_type": "markdown",
      "source": [
        "##7.공이 튕긴 횟수 구하기"
      ],
      "metadata": {
        "id": "N2zqqSsFKk4j"
      }
    },
    {
      "cell_type": "code",
      "source": [
        "length = int(input(\"공의 높이를 입력하세요(meter):\"))\n",
        "heigthball = float(length)\n",
        "count_ball =0\n",
        "while heigthball >= 0.00001 :\n",
        "        heigthball /= 2\n",
        "        count_ball += 1\n",
        "\n",
        "print(f\"{length}위치에서 공의 튕긴 횟수는 총 {count_ball}번 입니다\")"
      ],
      "metadata": {
        "colab": {
          "base_uri": "https://localhost:8080/"
        },
        "id": "MdJGi7u3Kqbi",
        "outputId": "392ce563-77f2-4eba-eb61-66dd0545f14c"
      },
      "execution_count": 57,
      "outputs": [
        {
          "output_type": "stream",
          "name": "stdout",
          "text": [
            "공의 높이를 입력하세요(meter):30\n",
            "30위치에서 공의 튕긴 횟수는 총 22번 입니다\n"
          ]
        }
      ]
    },
    {
      "cell_type": "markdown",
      "source": [
        "##8.도둑잡기 게임 만들기"
      ],
      "metadata": {
        "id": "kf0pj57nOpZw"
      }
    },
    {
      "cell_type": "code",
      "source": [
        "import random\n",
        "\n",
        "while True :\n",
        "    thiefroom = random.randint(1,3)\n",
        "    usersel = int(input(\"방 번호를 선택해 주세요(1~3):\"))\n",
        "    if thiefroom == usersel :\n",
        "        print(\"범인 체포\")\n",
        "        break\n",
        "    else:\n",
        "        print(f\"범인은 {thiefroom}방에 있습니다.\\n범인을 찾지 못했습니다  \")\n",
        "\n"
      ],
      "metadata": {
        "colab": {
          "base_uri": "https://localhost:8080/"
        },
        "id": "6UcEt_C0OtnW",
        "outputId": "de48fc27-0825-4954-93c8-d001f221ca86"
      },
      "execution_count": 32,
      "outputs": [
        {
          "output_type": "stream",
          "name": "stdout",
          "text": [
            "방 번호를 선택해 주세요(1~3):3\n",
            "범인은 1방에 있습니다.\n",
            "범인을 찾지 못했습니다  \n",
            "방 번호를 선택해 주세요(1~3):2\n",
            "범인은 1방에 있습니다.\n",
            "범인을 찾지 못했습니다  \n",
            "방 번호를 선택해 주세요(1~3):2\n",
            "범인은 3방에 있습니다.\n",
            "범인을 찾지 못했습니다  \n",
            "방 번호를 선택해 주세요(1~3):1\n",
            "범인은 3방에 있습니다.\n",
            "범인을 찾지 못했습니다  \n",
            "방 번호를 선택해 주세요(1~3):1\n",
            "범인 체포\n"
          ]
        }
      ]
    },
    {
      "cell_type": "markdown",
      "source": [
        "##9. 커피 자동주문 프로그램 만들기"
      ],
      "metadata": {
        "id": "K115Xkh7Q6qn"
      }
    },
    {
      "cell_type": "code",
      "source": [
        "print_menu= '''[커피 주문 머신 메뉴]\n",
        "-------------------------------------\n",
        "- 아메리카노는  2500원\n",
        "- 카페라떼는    3000원\n",
        "- 카페모카는    3000원 입니다\n",
        "원하시는 커피종류와 잔수를 입력하세요.\n",
        "-------------------------------------'''\n",
        "\n",
        "print(print_menu)\n",
        "coffee1 = int(input('아메리카노 몇잔? '))\n",
        "coffee2 = int(input('카페라떼  몇잔? '))\n",
        "coffee3 = int(input('카페모카  몇잔? '))\n",
        "\n",
        "total = 2500*coffee1+ 3000*coffee2+ 3000*coffee3\n",
        "print(f'지불하실 총 금액은 {total:,}원 입니다')\n",
        "\n",
        "change = total\n",
        "money =0\n",
        "while total > money :\n",
        "    print(\"-\"*30)\n",
        "    print(f\"[지불할 금액:{change:,}]\",end=\"  \")\n",
        "    money += int(input('돈을 넣어주세요:'))\n",
        "    change= total-money\n",
        "\n",
        "    if total <= money : break\n",
        "    print(f'입력한 금액이 부족합니다. {change:,}를 더 넣어주세요')\n",
        "print(\"-\"*30)\n",
        "print(f\"거스름돈은 {abs(change):,}입니다. \\n커피 맛있게 드세요\")"
      ],
      "metadata": {
        "colab": {
          "base_uri": "https://localhost:8080/"
        },
        "id": "joD2NT-5Q96i",
        "outputId": "07ba09da-d0f7-48c6-d757-198b50c9f677"
      },
      "execution_count": 45,
      "outputs": [
        {
          "output_type": "stream",
          "name": "stdout",
          "text": [
            "[커피 주문 머신 메뉴]\n",
            "-------------------------------------\n",
            "- 아메리카노는  2500원\n",
            "- 카페라떼는    3000원\n",
            "- 카페모카는    3000원 입니다\n",
            "원하시는 커피종류와 잔수를 입력하세요.\n",
            "-------------------------------------\n",
            "아메리카노 몇잔? 1\n",
            "카페라떼  몇잔? 1\n",
            "카페모카  몇잔? 1\n",
            "지불하실 총 금액은 8,500원 입니다\n",
            "------------------------------\n",
            "[지불할 금액:8,500]  돈을 넣어주세요:5000\n",
            "입력한 금액이 부족합니다. 3,500를 더 넣어주세요\n",
            "------------------------------\n",
            "[지불할 금액:3,500]  돈을 넣어주세요:2000\n",
            "입력한 금액이 부족합니다. 1,500를 더 넣어주세요\n",
            "------------------------------\n",
            "[지불할 금액:1,500]  돈을 넣어주세요:2000\n",
            "------------------------------\n",
            "거스름돈은 500입니다. \n",
            "커피 맛있게 드세요\n"
          ]
        }
      ]
    },
    {
      "cell_type": "markdown",
      "source": [
        "## 10.아래 조건을 만족하는 <무인 호텔 관리 프로그램>을 작성해 주세요."
      ],
      "metadata": {
        "id": "CdmH4f8-YaFr"
      }
    },
    {
      "cell_type": "code",
      "source": [
        "room_num= int(input(\"방 개수:\"))\n",
        "roomlist = [0 for _ in range(room_num)]\n",
        "print(roomlist)\n",
        "print_menu='''--------------\n",
        "1. 체크인\n",
        "2. 체크아웃\n",
        "3. 현황 보기\n",
        "0. 종료하기'''\n",
        "\n",
        "while True :\n",
        "    print(print_menu)\n",
        "    menu_sel= int(input(\"-->선택:\"))\n",
        "\n",
        "    if menu_sel == 1 :\n",
        "        check_room=int(input(\"체크인 하실 호수 : \"))-1\n",
        "        if(roomlist[check_room] == 1) : print(\"입실 중인 방은 체크인 하실 수 없습니다\")\n",
        "        else :\n",
        "            roomlist[check_room] = 1\n",
        "            print(\"입실완료!\")\n",
        "    elif menu_sel == 2 :\n",
        "        check_room=int(input(\"체크아웃 하실 호수 : \"))-1\n",
        "        if(roomlist[check_room] == 0) : print(\"빈 방은 체크아웃 하실 수 없습니다\")\n",
        "        else :\n",
        "            roomlist[check_room] = 0\n",
        "            print(\"퇴실완료!\")\n",
        "    elif menu_sel == 3 :\n",
        "        print(\"---객실현황----\")\n",
        "        for i in range(0,room_num) :\n",
        "            room_used = \"입실 중\" if roomlist[i] == 1 else \"빈 방\"\n",
        "            print(f\"{i+1}번 방 - {room_used}\")\n",
        "    elif menu_sel == 0 :\n",
        "        break\n",
        "    else:\n",
        "        print(\"잘못된 입력입니다. 다시 입력해 주세요\")\n",
        "print(\"프로그램 종료!\")\n",
        "\n"
      ],
      "metadata": {
        "colab": {
          "base_uri": "https://localhost:8080/"
        },
        "id": "h1U1jCIhYfCi",
        "outputId": "056686d9-12ec-4916-ea6e-ae6d2334c19d"
      },
      "execution_count": 56,
      "outputs": [
        {
          "output_type": "stream",
          "name": "stdout",
          "text": [
            "방 개수:4\n",
            "[0, 0, 0, 0]\n",
            "--------------\n",
            "1. 체크인\n",
            "2. 체크아웃\n",
            "3. 현황 보기\n",
            "0. 종료하기\n",
            "-->선택:1\n",
            "체크인 하실 호수 : 2\n",
            "입실완료!\n",
            "--------------\n",
            "1. 체크인\n",
            "2. 체크아웃\n",
            "3. 현황 보기\n",
            "0. 종료하기\n",
            "-->선택:3\n",
            "---객실현황----\n",
            "1번 방 - 빈 방\n",
            "2번 방 - 입실 중\n",
            "3번 방 - 빈 방\n",
            "4번 방 - 빈 방\n",
            "--------------\n",
            "1. 체크인\n",
            "2. 체크아웃\n",
            "3. 현황 보기\n",
            "0. 종료하기\n",
            "-->선택:9\n",
            "잘못된 입력입니다. 다시 입력해 주세요\n",
            "--------------\n",
            "1. 체크인\n",
            "2. 체크아웃\n",
            "3. 현황 보기\n",
            "0. 종료하기\n",
            "-->선택:0\n",
            "프로그램 종료!\n"
          ]
        }
      ]
    }
  ]
}