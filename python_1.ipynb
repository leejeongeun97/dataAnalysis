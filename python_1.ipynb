{
  "nbformat": 4,
  "nbformat_minor": 0,
  "metadata": {
    "colab": {
      "provenance": [],
      "authorship_tag": "ABX9TyN30Ly5riNbJnFsXin69yvK",
      "include_colab_link": true
    },
    "kernelspec": {
      "name": "python3",
      "display_name": "Python 3"
    },
    "language_info": {
      "name": "python"
    }
  },
  "cells": [
    {
      "cell_type": "markdown",
      "metadata": {
        "id": "view-in-github",
        "colab_type": "text"
      },
      "source": [
        "<a href=\"https://colab.research.google.com/github/leejeongeun97/dataAnalysis/blob/main/python_1.ipynb\" target=\"_parent\"><img src=\"https://colab.research.google.com/assets/colab-badge.svg\" alt=\"Open In Colab\"/></a>"
      ]
    },
    {
      "cell_type": "code",
      "execution_count": null,
      "metadata": {
        "id": "Ox2M7FwNqGdd"
      },
      "outputs": [],
      "source": [
        "a= 1 #number\n",
        "b='파이썬'  #string\n",
        "#print(a+b)"
      ]
    },
    {
      "cell_type": "code",
      "source": [],
      "metadata": {
        "id": "fXwd-o4zzH0R"
      },
      "execution_count": null,
      "outputs": []
    },
    {
      "cell_type": "markdown",
      "source": [
        "###파이썬 버전 출력"
      ],
      "metadata": {
        "id": "TLMLq8UqzJiy"
      }
    },
    {
      "cell_type": "markdown",
      "source": [
        "#물리적 폴더 위치\n"
      ],
      "metadata": {
        "id": "u5WHwXVM0cSB"
      }
    },
    {
      "cell_type": "code",
      "source": [
        "!python -V\n"
      ],
      "metadata": {
        "colab": {
          "base_uri": "https://localhost:8080/"
        },
        "id": "9bkbwMUPzNKR",
        "outputId": "c11b37db-3cb0-4cd6-b32a-665f48ea0aed"
      },
      "execution_count": null,
      "outputs": [
        {
          "output_type": "stream",
          "name": "stdout",
          "text": [
            "Python 3.10.12\n"
          ]
        }
      ]
    },
    {
      "cell_type": "code",
      "source": [
        "import sys\n",
        "\n",
        "print('---',sys.version)\n",
        "sys.version\n",
        "\n",
        "##파이썬 설치 위치\n",
        "print(sys.executable)\n",
        "\n",
        "\n"
      ],
      "metadata": {
        "colab": {
          "base_uri": "https://localhost:8080/",
          "height": 72
        },
        "id": "MhLbQR_yzUEP",
        "outputId": "5a58143e-d8e5-45df-febc-64bca60e9366"
      },
      "execution_count": null,
      "outputs": [
        {
          "output_type": "stream",
          "name": "stdout",
          "text": [
            "--- 3.10.12 (main, Nov 20 2023, 15:14:05) [GCC 11.4.0]\n",
            "/usr/bin/python3\n"
          ]
        },
        {
          "output_type": "execute_result",
          "data": {
            "text/plain": [
              "'/content'"
            ],
            "application/vnd.google.colaboratory.intrinsic+json": {
              "type": "string"
            }
          },
          "metadata": {},
          "execution_count": 13
        }
      ]
    },
    {
      "cell_type": "code",
      "source": [
        "import os\n",
        "os.getcwd()"
      ],
      "metadata": {
        "colab": {
          "base_uri": "https://localhost:8080/",
          "height": 35
        },
        "id": "42pCN2si2lkh",
        "outputId": "079c481e-3cfc-4320-a70a-9f3b5574d231"
      },
      "execution_count": null,
      "outputs": [
        {
          "output_type": "execute_result",
          "data": {
            "text/plain": [
              "'/content'"
            ],
            "application/vnd.google.colaboratory.intrinsic+json": {
              "type": "string"
            }
          },
          "metadata": {},
          "execution_count": 14
        }
      ]
    },
    {
      "cell_type": "code",
      "source": [
        "10%5\n"
      ],
      "metadata": {
        "colab": {
          "base_uri": "https://localhost:8080/"
        },
        "id": "INL_BDTMzlZV",
        "outputId": "28bf3531-2077-4709-98ca-074c84ad9272"
      },
      "execution_count": null,
      "outputs": [
        {
          "output_type": "execute_result",
          "data": {
            "text/plain": [
              "0"
            ]
          },
          "metadata": {},
          "execution_count": 15
        }
      ]
    },
    {
      "cell_type": "markdown",
      "source": [
        "###✓ 문제1: 10 + 3 x 4 결과 출력\n",
        "###✓ 문제2: 아이폰 15대를 가지고 있다. 아이폰의 가격이 130만원 일 때 총 금액은?\n",
        "###✓ 문제3: 주어진 임의의 자연수가 홀수인지 짝수인지 판별하는 방법은?\n",
        "###✓ 문제4: 2x2x2x5x5x5x5x3x3x3x3을 제곱형태로 나타낸 후 그 결과 출력하기\n"
      ],
      "metadata": {
        "id": "HiOF00OP3iEJ"
      }
    },
    {
      "cell_type": "code",
      "source": [
        "\n",
        "print('2''^''3''*''5''^''4''*''3''^''4')"
      ],
      "metadata": {
        "colab": {
          "base_uri": "https://localhost:8080/"
        },
        "id": "iyRIpDyn3Y2d",
        "outputId": "bcd74f90-8a8d-4ec4-9605-38801d73f68d"
      },
      "execution_count": null,
      "outputs": [
        {
          "output_type": "stream",
          "name": "stdout",
          "text": [
            "2^3*5^4*3^4\n"
          ]
        }
      ]
    },
    {
      "cell_type": "code",
      "source": [
        "print(2**3*5**4*3**4)"
      ],
      "metadata": {
        "colab": {
          "base_uri": "https://localhost:8080/"
        },
        "id": "WiWcaP5L6ttB",
        "outputId": "78adecaf-cec4-4159-aee7-fd9df87dc27b"
      },
      "execution_count": null,
      "outputs": [
        {
          "output_type": "stream",
          "name": "stdout",
          "text": [
            "405000\n"
          ]
        }
      ]
    },
    {
      "cell_type": "code",
      "source": [
        "print(10+3*4)\n",
        "print(15*130)\n",
        "\n",
        "a=int(input(\"숫자를 입력해주세요\"))\n",
        "if a%2 == 0 :\n",
        "  print(\"짝수입니다\")\n",
        "else:\n",
        "  print(\"홀수입니다\")\n"
      ],
      "metadata": {
        "colab": {
          "base_uri": "https://localhost:8080/"
        },
        "id": "xaY-V8vx3D9Q",
        "outputId": "b7ddc8f9-5208-4072-9675-d09ecf4e4688"
      },
      "execution_count": null,
      "outputs": [
        {
          "output_type": "stream",
          "name": "stdout",
          "text": [
            "22\n",
            "1950\n",
            "숫자를 입력해주세요3\n",
            "홀수입니다\n"
          ]
        }
      ]
    },
    {
      "cell_type": "markdown",
      "source": [
        "## 1. 파이썬 자료형과 연산"
      ],
      "metadata": {
        "id": "We0aM0vt97TX"
      }
    },
    {
      "cell_type": "code",
      "source": [
        "d1 = 123\n",
        "d2 = '123'\n",
        "d3 = [123]\n",
        "d4 = (123,)\n",
        "d5 = {'key':123}\n",
        "d6 = {123}\n",
        "d7 = True\n",
        "\n",
        "print(f'{d1}의 자료형: {type(d1)}')\n",
        "print(f'{d2}의 자료형: {type(d2)}')\n",
        "print(f'{d3}의 자료형: {type(d3)}')\n",
        "print(f'{d4}의 자료형: {type(d4)}')\n",
        "print(f'{d5}의 자료형: {type(d5)}')\n",
        "print(f'{d6}의 자료형: {type(d6)}')\n",
        "print(f'{d7}의 자료형: {type(d7)}')\n",
        "\n",
        "print(f'{d1}의 자료형: {type(d1)}')"
      ],
      "metadata": {
        "colab": {
          "base_uri": "https://localhost:8080/"
        },
        "id": "kDRz_rWb9jXA",
        "outputId": "7e228a6f-2c99-45dc-fb9e-0f47f89a524d"
      },
      "execution_count": null,
      "outputs": [
        {
          "output_type": "stream",
          "name": "stdout",
          "text": [
            "123의 자료형: <class 'int'>\n",
            "123의 자료형: <class 'str'>\n",
            "[123]의 자료형: <class 'list'>\n",
            "(123,)의 자료형: <class 'tuple'>\n",
            "{'key': 123}의 자료형: <class 'dict'>\n",
            "{123}의 자료형: <class 'set'>\n",
            "True의 자료형: <class 'bool'>\n",
            "123의 자료형: type(d1)\n"
          ]
        }
      ]
    },
    {
      "cell_type": "code",
      "source": [
        "print(type(123))\n",
        "print(type(3.123))\n",
        "print(type(\"123\"))\n",
        "print(type([123]))\n",
        "print(type((123,)))\n",
        "print(type({'123':123}))\n",
        "print(type({123}))\n",
        "print(type(True))\n"
      ],
      "metadata": {
        "colab": {
          "base_uri": "https://localhost:8080/"
        },
        "id": "LGvfc6fU-E-4",
        "outputId": "1c16bd86-93bc-4a26-e254-b30d307f82e8"
      },
      "execution_count": null,
      "outputs": [
        {
          "output_type": "stream",
          "name": "stdout",
          "text": [
            "<class 'int'>\n",
            "<class 'float'>\n",
            "<class 'str'>\n",
            "<class 'list'>\n",
            "<class 'tuple'>\n",
            "<class 'dict'>\n",
            "<class 'set'>\n",
            "<class 'bool'>\n"
          ]
        }
      ]
    },
    {
      "cell_type": "markdown",
      "source": [],
      "metadata": {
        "id": "uz7GJdBfCtYl"
      }
    },
    {
      "cell_type": "markdown",
      "source": [],
      "metadata": {
        "id": "UbEWGrF_Cn5b"
      }
    },
    {
      "cell_type": "markdown",
      "source": [
        "##2.표준 입출력"
      ],
      "metadata": {
        "id": "vKY1VLZgCcCA"
      }
    },
    {
      "cell_type": "code",
      "source": [
        "a= input('키보드로 숫자를 입력해 주세요:')\n",
        "print( type(a))\n",
        "\n",
        "b= int(a)\n",
        "print( type(b))"
      ],
      "metadata": {
        "colab": {
          "base_uri": "https://localhost:8080/"
        },
        "id": "YNo4iyKOCjqH",
        "outputId": "f6a2062c-0c3d-45d0-e99e-6639f1cb8bbe"
      },
      "execution_count": null,
      "outputs": [
        {
          "output_type": "stream",
          "name": "stdout",
          "text": [
            "키보드로 숫자를 입력해 주세요:2\n",
            "<class 'str'>\n",
            "<class 'int'>\n"
          ]
        }
      ]
    },
    {
      "cell_type": "code",
      "source": [
        "print(type(int(input(\"입력해주세요\"))))"
      ],
      "metadata": {
        "colab": {
          "base_uri": "https://localhost:8080/"
        },
        "id": "rb5ZjJcxENe1",
        "outputId": "87f99394-0006-468a-bdb1-9acf44c3338e"
      },
      "execution_count": null,
      "outputs": [
        {
          "output_type": "stream",
          "name": "stdout",
          "text": [
            "입력해주세요3\n",
            "<class 'int'>\n"
          ]
        }
      ]
    },
    {
      "cell_type": "code",
      "source": [
        "a= input('키보드로 숫자를 입력해 주세요')\n",
        "print('변수 a에 기억된 값은',a,'입니다')\n",
        "print('변수 a에 기억된 값은 %s 입니다'%a)\n",
        "print(f'변수 a에 기억된 값은 {a} 입니다')"
      ],
      "metadata": {
        "colab": {
          "base_uri": "https://localhost:8080/"
        },
        "id": "fA6IaNdyFUZF",
        "outputId": "3cac04e7-b30f-489d-f3ed-4e735f834765"
      },
      "execution_count": null,
      "outputs": [
        {
          "output_type": "stream",
          "name": "stdout",
          "text": [
            "키보드로 숫자를 입력해 주세요사과\n",
            "변수 a에 기억된 값은 사과 입니다\n",
            "변수 a에 기억된 값은 사과 입니다\n",
            "변수 a에 기억된 값은 사과 입니다\n"
          ]
        }
      ]
    },
    {
      "cell_type": "code",
      "source": [
        "a=int(input(\"첫번재 숫자:\"))\n",
        "b=int(input(\"두번재 숫자:\"))\n",
        "\n",
        "print(\"\")\n",
        "print(f'덧셈:{a}+{b}={a+b:13}')\n",
        "print(f'뺄셈:{a}-{b}={a-b:13}')\n",
        "print(f'곱셈:{a}*{b}={a*b:13}')\n",
        "print(f'몫:{a}//{b}={a//b:13}')\n",
        "print(f'나머지:{a}%{b}={a%b:13}')\n"
      ],
      "metadata": {
        "colab": {
          "base_uri": "https://localhost:8080/"
        },
        "id": "vo9pl7i9GvT2",
        "outputId": "28ad9a95-4adb-4996-89f6-fc00dc5b17b0"
      },
      "execution_count": null,
      "outputs": [
        {
          "output_type": "stream",
          "name": "stdout",
          "text": [
            "첫번재 숫자:50\n",
            "두번재 숫자:3\n",
            "\n",
            "덧셈:50+3=           53\n",
            "뺄셈:50-3=           47\n",
            "곱셈:50*3=          150\n",
            "몫:50//3=           16\n",
            "나머지:50%3=            2\n"
          ]
        }
      ]
    },
    {
      "cell_type": "code",
      "source": [
        "s=input(\"문자를 입력하세요\")\n",
        "print(f'값은 {s:<10}')  ##오른쪽 정렬  : 자릿수\n",
        "print(f'값은 {s:>10}')  ##왼쪽 정렬\n",
        "print(f'값은 {s:^10}')    ##중간 정렬"
      ],
      "metadata": {
        "colab": {
          "base_uri": "https://localhost:8080/"
        },
        "id": "iE59JABSKWtc",
        "outputId": "fdfff366-9eb4-4651-d83e-1c847a865362"
      },
      "execution_count": null,
      "outputs": [
        {
          "output_type": "stream",
          "name": "stdout",
          "text": [
            "문자를 입력하세요강아지\n",
            "값은 강아지       \n",
            "값은        강아지\n",
            "값은    강아지    \n"
          ]
        }
      ]
    },
    {
      "cell_type": "code",
      "source": [
        "velocity= float(input('속력을 입력해 주세요(km/h):'))\n",
        "distance= float(input('거리을 입력해 주세요(km):'))\n",
        "\n",
        "print('-\"*30')\n",
        "print(f'속력  :  {velocity} km/h')\n",
        "print(f'거리  :  {distance} km')\n",
        "print(f'시간  :  {distance/velocity} h')"
      ],
      "metadata": {
        "colab": {
          "base_uri": "https://localhost:8080/"
        },
        "id": "lJM9uX-LLogO",
        "outputId": "55a741ae-ed96-4732-e025-fb4c1b9132d5"
      },
      "execution_count": null,
      "outputs": [
        {
          "output_type": "stream",
          "name": "stdout",
          "text": [
            "속력을 입력해 주세요(km/h):100\n",
            "거리을 입력해 주세요(km):340\n",
            "-\"*30\n",
            "속력  :  100.0 km/h\n",
            "거리  :  340.0 km\n",
            "시간  :  3.4 h\n"
          ]
        }
      ]
    },
    {
      "cell_type": "code",
      "source": [
        "### 내장된 수학함수"
      ],
      "metadata": {
        "id": "LsdGkUfGOs0M"
      },
      "execution_count": null,
      "outputs": []
    },
    {
      "cell_type": "code",
      "source": [
        "import math\n",
        "\n",
        "print(f'반지금이 4인 원의 넓이 출력:  {math.pi*math.pow(4,2)}')\n",
        "a= round((round(math.pi,2)*2/7))\n",
        "print(f'3.14 곱하기 2나누기 7의 값을 반올림하여 계산 결과 출력: {a}')\n",
        "b=round(math.pi,2)*4*2\n",
        "print(f'원주율을 3.14로 만들어서 반지름이 4인 원의 둘레의 길이 출력: {b}')"
      ],
      "metadata": {
        "colab": {
          "base_uri": "https://localhost:8080/"
        },
        "id": "GZQYxW0CPt29",
        "outputId": "44f08228-37de-4de6-fbbb-1676bc04735f"
      },
      "execution_count": null,
      "outputs": [
        {
          "output_type": "stream",
          "name": "stdout",
          "text": [
            "반지금이 4인 원의 넓이 출력:  50.26548245743669\n",
            "3.14 곱하기 2나누기 7의 값을 반올림하여 계산 결과 출력: 1\n",
            "원주율을 3.14로 만들어서 반지름이 4인 원의 둘레의 길이 출력: 25.12\n"
          ]
        }
      ]
    },
    {
      "cell_type": "code",
      "source": [
        "import math\n",
        "\n",
        "print(f'원주율:  {math.pi}')\n",
        "print(f'절대값: {abs(-20)}')\n",
        "print(f'반올림: {round(math.pi,3)}')"
      ],
      "metadata": {
        "colab": {
          "base_uri": "https://localhost:8080/"
        },
        "id": "7jz4LGruO4DF",
        "outputId": "6f2d7ebe-b4e8-4691-8a00-d8a48bd57548"
      },
      "execution_count": null,
      "outputs": [
        {
          "output_type": "stream",
          "name": "stdout",
          "text": [
            "원주율:  3.141592653589793\n",
            "절대값: 20\n",
            "반올림: 3.142\n"
          ]
        }
      ]
    },
    {
      "cell_type": "code",
      "source": [
        "a= input('정수를 입력하세요(1~9):')\n",
        "a= int(a)\n",
        "a10= a*10+a\n",
        "a100= a*100+a10\n",
        "sum=a+a10+a100\n",
        "print(f'{a}+{a10}+{a100}={sum}')"
      ],
      "metadata": {
        "colab": {
          "base_uri": "https://localhost:8080/"
        },
        "id": "PSpgW492HKXg",
        "outputId": "66b0c96f-5cda-4c2e-bbc5-7874da20a430"
      },
      "execution_count": 3,
      "outputs": [
        {
          "output_type": "stream",
          "name": "stdout",
          "text": [
            "정수를 입력하세요(1~9):3\n",
            "3+33+333=369\n"
          ]
        }
      ]
    },
    {
      "cell_type": "code",
      "source": [],
      "metadata": {
        "colab": {
          "base_uri": "https://localhost:8080/",
          "height": 184
        },
        "id": "tgDIg1UcNwNN",
        "outputId": "4d411e4f-69b6-4c97-ad33-df88fc1d226d"
      },
      "execution_count": 6,
      "outputs": [
        {
          "output_type": "error",
          "ename": "TypeError",
          "evalue": "'str' object is not callable",
          "traceback": [
            "\u001b[0;31m---------------------------------------------------------------------------\u001b[0m",
            "\u001b[0;31mTypeError\u001b[0m                                 Traceback (most recent call last)",
            "\u001b[0;32m<ipython-input-6-dc261b1487ac>\u001b[0m in \u001b[0;36m<cell line: 3>\u001b[0;34m()\u001b[0m\n\u001b[1;32m      1\u001b[0m \u001b[0meval\u001b[0m\u001b[0;34m=\u001b[0m\u001b[0;34m(\u001b[0m\u001b[0;34m'7+77+777'\u001b[0m\u001b[0;34m)\u001b[0m\u001b[0;34m\u001b[0m\u001b[0;34m\u001b[0m\u001b[0m\n\u001b[1;32m      2\u001b[0m \u001b[0mcalc\u001b[0m\u001b[0;34m=\u001b[0m\u001b[0;34mf'{a}+{a*2}+{a*3}'\u001b[0m\u001b[0;34m\u001b[0m\u001b[0;34m\u001b[0m\u001b[0m\n\u001b[0;32m----> 3\u001b[0;31m \u001b[0mprint\u001b[0m\u001b[0;34m(\u001b[0m\u001b[0;34mf'{calc}={eval(calc)}'\u001b[0m\u001b[0;34m)\u001b[0m\u001b[0;34m\u001b[0m\u001b[0;34m\u001b[0m\u001b[0m\n\u001b[0m",
            "\u001b[0;31mTypeError\u001b[0m: 'str' object is not callable"
          ]
        }
      ]
    }
  ]
}