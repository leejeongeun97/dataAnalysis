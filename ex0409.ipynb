{
  "nbformat": 4,
  "nbformat_minor": 0,
  "metadata": {
    "colab": {
      "provenance": [],
      "authorship_tag": "ABX9TyObHdmDD9gOsG29KSj7mIkN",
      "include_colab_link": true
    },
    "kernelspec": {
      "name": "python3",
      "display_name": "Python 3"
    },
    "language_info": {
      "name": "python"
    }
  },
  "cells": [
    {
      "cell_type": "markdown",
      "metadata": {
        "id": "view-in-github",
        "colab_type": "text"
      },
      "source": [
        "<a href=\"https://colab.research.google.com/github/leejeongeun97/dataAnalysis/blob/main/ex0409.ipynb\" target=\"_parent\"><img src=\"https://colab.research.google.com/assets/colab-badge.svg\" alt=\"Open In Colab\"/></a>"
      ]
    },
    {
      "cell_type": "markdown",
      "source": [
        "##암스트롱 수 출력하기\n"
      ],
      "metadata": {
        "id": "zZqjvN3pOunK"
      }
    },
    {
      "cell_type": "code",
      "source": [
        "def is_arm(N):\n",
        "    num_list=list(str(N))\n",
        "    cal= int(num_list[0])**3+int(num_list[1])**3+int(num_list[2])**3\n",
        "    if int(N)== cal   :\n",
        "        return True\n",
        "    else :\n",
        "        return False\n",
        "\n",
        "for i in range(100,1000):\n",
        "    if is_arm(i):\n",
        "        print(f\"{i} is armstrong number\")"
      ],
      "metadata": {
        "colab": {
          "base_uri": "https://localhost:8080/"
        },
        "id": "RKfqbBVHQl_K",
        "outputId": "3e61fb4d-6f12-4940-d29e-7edfcdd44179"
      },
      "execution_count": 23,
      "outputs": [
        {
          "output_type": "stream",
          "name": "stdout",
          "text": [
            "153 is armstrong number\n",
            "370 is armstrong number\n",
            "371 is armstrong number\n",
            "407 is armstrong number\n"
          ]
        }
      ]
    },
    {
      "cell_type": "code",
      "source": [],
      "metadata": {
        "id": "Xno0wStuY4la"
      },
      "execution_count": null,
      "outputs": []
    },
    {
      "cell_type": "code",
      "source": [
        "1\n",
        "def coffeeMachine(coffee1,coffee2,coffee3):\n",
        "\n",
        "    total = 2500*coffee1+ 3000*coffee2+ 3000*coffee3\n",
        "    print(f'지불하실 총 금액은 {total:,}원 입니다')\n",
        "\n",
        "    change = total\n",
        "    money =0\n",
        "    while total > money :\n",
        "        print(\"-\"*30)\n",
        "        print(f\"[지불할 금액:{change:,}]\",end=\"  \")\n",
        "        money += int(input('돈을 넣어주세요:'))\n",
        "        change= total-money\n",
        "\n",
        "        if total <= money : break\n",
        "        print(f'입력한 금액이 부족합니다. {change:,}를 더 넣어주세요')\n",
        "    print(\"-\"*30)\n",
        "    print(f\"거스름돈은 {abs(change):,}입니다. \\n커피 맛있게 드세요\")\n",
        "\n",
        "\n",
        "print_menu= '''[커피 주문 머신 메뉴]\n",
        "-------------------------------------\n",
        "- 아메리카노는  2500원\n",
        "- 카페라떼는    3000원\n",
        "- 카페모카는    3000원 입니다\n",
        "원하시는 커피종류와 잔수를 입력하세요.\n",
        "-------------------------------------'''\n",
        "\n",
        "print(print_menu)\n",
        "coffee1 = int(input('아메리카노 몇잔? '))\n",
        "coffee2 = int(input('카페라떼  몇잔? '))\n",
        "coffee3 = int(input('카페모카  몇잔? '))\n",
        "\n",
        "coffeeMachine(coffee1,coffee2,coffee3)\n",
        "\n"
      ],
      "metadata": {
        "colab": {
          "base_uri": "https://localhost:8080/"
        },
        "id": "Ejc-iX3PTsWJ",
        "outputId": "a344bebe-6fde-4027-afff-23452c8ad9ab"
      },
      "execution_count": 27,
      "outputs": [
        {
          "output_type": "stream",
          "name": "stdout",
          "text": [
            "[커피 주문 머신 메뉴]\n",
            "-------------------------------------\n",
            "- 아메리카노는  2500원\n",
            "- 카페라떼는    3000원\n",
            "- 카페모카는    3000원 입니다\n",
            "원하시는 커피종류와 잔수를 입력하세요.\n",
            "-------------------------------------\n",
            "아메리카노 몇잔? 1\n",
            "카페라떼  몇잔? 2\n",
            "카페모카  몇잔? 1\n",
            "지불하실 총 금액은 11,500원 입니다\n",
            "------------------------------\n",
            "[지불할 금액:11,500]  돈을 넣어주세요:20000\n",
            "------------------------------\n",
            "거스름돈은 8,500입니다. \n",
            "커피 맛있게 드세요\n"
          ]
        }
      ]
    },
    {
      "cell_type": "code",
      "source": [
        "def is_arm(N):\n",
        "    num_list=list(str(N))\n",
        "    cal= int(num_list[0])**3+int(num_list[1])**3+int(num_list[2])**3\n",
        "    if int(N)== cal   :\n",
        "        return True\n",
        "    else :\n",
        "        return False\n",
        "\n",
        "for i in range(100,1000):\n",
        "    if is_arm(i):\n",
        "        print(f\"{i} is armstrong number\")"
      ],
      "metadata": {
        "id": "EOY_Otibaf76"
      },
      "execution_count": null,
      "outputs": []
    },
    {
      "cell_type": "code",
      "source": [
        "myList=[1,2,3,4,5,6,7,8,9,10]\n",
        "\n",
        "func= lambda x : str(x) if x%3== 0 else x\n",
        "mylist = list(map(func,myList))\n",
        "print(mylist)"
      ],
      "metadata": {
        "colab": {
          "base_uri": "https://localhost:8080/"
        },
        "id": "p4RP0eqOdrb9",
        "outputId": "d620c373-efc7-4e96-ca6a-27c3f66326a6"
      },
      "execution_count": 33,
      "outputs": [
        {
          "output_type": "stream",
          "name": "stdout",
          "text": [
            "[1, 2, '3', 4, 5, '6', 7, 8, '9', 10]\n"
          ]
        }
      ]
    },
    {
      "cell_type": "code",
      "source": [
        "mylist1=[1,2,3,4,5]\n",
        "mylist2=[2,4,6,8,10]\n",
        "func=lambda x,y: x*y\n",
        "mylist= list(map(func,mylist1,mylist2))\n",
        "print(mylist)"
      ],
      "metadata": {
        "colab": {
          "base_uri": "https://localhost:8080/"
        },
        "id": "DLCyuJRrfx1-",
        "outputId": "cf4550c1-521d-4501-a0a1-16c5e0c38bac"
      },
      "execution_count": 38,
      "outputs": [
        {
          "output_type": "stream",
          "name": "stdout",
          "text": [
            "[2, 8, 18, 32, 50]\n"
          ]
        }
      ]
    },
    {
      "cell_type": "code",
      "source": [
        "mylist1=[1,2,3,4,5]\n",
        "mylist2=[2,4,6,8,10]\n",
        "func=lambda x,y: x*y\n",
        "mylist= list(map(func,mylist1,mylist2))\n",
        "print(mylist)\n",
        "\n"
      ],
      "metadata": {
        "id": "S12JCqVfgyyr"
      },
      "execution_count": null,
      "outputs": []
    }
  ]
}