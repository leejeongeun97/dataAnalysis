{
  "cells": [
    {
      "cell_type": "markdown",
      "metadata": {
        "id": "view-in-github",
        "colab_type": "text"
      },
      "source": [
        "<a href=\"https://colab.research.google.com/github/leejeongeun97/dataAnalysis/blob/main/3_%EB%A8%B8%EC%8B%A0%EB%9F%AC%EB%8B%9D_%EB%B6%84%EB%A5%98_2_%EC%82%AC%EC%9D%B4%ED%82%B7%EB%9F%B0_%EB%B6%93%EA%BD%83%EB%B6%84%EB%A5%98_%EB%B0%B0%ED%8F%AC.ipynb\" target=\"_parent\"><img src=\"https://colab.research.google.com/assets/colab-badge.svg\" alt=\"Open In Colab\"/></a>"
      ]
    },
    {
      "cell_type": "markdown",
      "id": "45cc5f86",
      "metadata": {
        "id": "45cc5f86"
      },
      "source": [
        "# [실습] 붓꽃 종류 분류하기"
      ]
    },
    {
      "cell_type": "markdown",
      "id": "1b1615b5",
      "metadata": {
        "id": "1b1615b5"
      },
      "source": [
        "### 목표\n",
        "- **붓꽃 종류를 분류하는 모델을 구현하세요.**"
      ]
    },
    {
      "cell_type": "markdown",
      "id": "9eb71076",
      "metadata": {
        "id": "9eb71076"
      },
      "source": [
        "### 모델\n",
        "- 로지스틱 회귀\n",
        "- KNN"
      ]
    },
    {
      "cell_type": "markdown",
      "id": "9d74fd40",
      "metadata": {
        "id": "9d74fd40"
      },
      "source": [
        "### 평가지표\n",
        "- 정확도(accuracy_score)\n",
        "- ROC정확도(roc_auc_score)"
      ]
    },
    {
      "cell_type": "markdown",
      "id": "34670f5a",
      "metadata": {
        "id": "34670f5a"
      },
      "source": [
        "## [실습] Scikit-learn Logistic Regression으로 붓꽃 종류 분류하기"
      ]
    },
    {
      "cell_type": "markdown",
      "id": "ca594c91",
      "metadata": {
        "id": "ca594c91"
      },
      "source": [
        "### 1. Scikit-learn으로 붓꽃 데이터 가져오기"
      ]
    },
    {
      "cell_type": "code",
      "execution_count": 1,
      "id": "133d215c",
      "metadata": {
        "scrolled": true,
        "colab": {
          "base_uri": "https://localhost:8080/",
          "height": 242
        },
        "id": "133d215c",
        "outputId": "ff1c4d02-59ba-469a-f987-9c8b53c67cdb"
      },
      "outputs": [
        {
          "output_type": "stream",
          "name": "stdout",
          "text": [
            "<class 'numpy.ndarray'>\n",
            "(150, 4)\n"
          ]
        },
        {
          "output_type": "execute_result",
          "data": {
            "text/plain": [
              "   sepal length (cm)  sepal width (cm)  petal length (cm)  petal width (cm)  \\\n",
              "0                5.1               3.5                1.4               0.2   \n",
              "1                4.9               3.0                1.4               0.2   \n",
              "2                4.7               3.2                1.3               0.2   \n",
              "3                4.6               3.1                1.5               0.2   \n",
              "4                5.0               3.6                1.4               0.2   \n",
              "\n",
              "   label  \n",
              "0      0  \n",
              "1      0  \n",
              "2      0  \n",
              "3      0  \n",
              "4      0  "
            ],
            "text/html": [
              "\n",
              "  <div id=\"df-45146f8c-b46d-438d-9123-7f640b740ba1\" class=\"colab-df-container\">\n",
              "    <div>\n",
              "<style scoped>\n",
              "    .dataframe tbody tr th:only-of-type {\n",
              "        vertical-align: middle;\n",
              "    }\n",
              "\n",
              "    .dataframe tbody tr th {\n",
              "        vertical-align: top;\n",
              "    }\n",
              "\n",
              "    .dataframe thead th {\n",
              "        text-align: right;\n",
              "    }\n",
              "</style>\n",
              "<table border=\"1\" class=\"dataframe\">\n",
              "  <thead>\n",
              "    <tr style=\"text-align: right;\">\n",
              "      <th></th>\n",
              "      <th>sepal length (cm)</th>\n",
              "      <th>sepal width (cm)</th>\n",
              "      <th>petal length (cm)</th>\n",
              "      <th>petal width (cm)</th>\n",
              "      <th>label</th>\n",
              "    </tr>\n",
              "  </thead>\n",
              "  <tbody>\n",
              "    <tr>\n",
              "      <th>0</th>\n",
              "      <td>5.1</td>\n",
              "      <td>3.5</td>\n",
              "      <td>1.4</td>\n",
              "      <td>0.2</td>\n",
              "      <td>0</td>\n",
              "    </tr>\n",
              "    <tr>\n",
              "      <th>1</th>\n",
              "      <td>4.9</td>\n",
              "      <td>3.0</td>\n",
              "      <td>1.4</td>\n",
              "      <td>0.2</td>\n",
              "      <td>0</td>\n",
              "    </tr>\n",
              "    <tr>\n",
              "      <th>2</th>\n",
              "      <td>4.7</td>\n",
              "      <td>3.2</td>\n",
              "      <td>1.3</td>\n",
              "      <td>0.2</td>\n",
              "      <td>0</td>\n",
              "    </tr>\n",
              "    <tr>\n",
              "      <th>3</th>\n",
              "      <td>4.6</td>\n",
              "      <td>3.1</td>\n",
              "      <td>1.5</td>\n",
              "      <td>0.2</td>\n",
              "      <td>0</td>\n",
              "    </tr>\n",
              "    <tr>\n",
              "      <th>4</th>\n",
              "      <td>5.0</td>\n",
              "      <td>3.6</td>\n",
              "      <td>1.4</td>\n",
              "      <td>0.2</td>\n",
              "      <td>0</td>\n",
              "    </tr>\n",
              "  </tbody>\n",
              "</table>\n",
              "</div>\n",
              "    <div class=\"colab-df-buttons\">\n",
              "\n",
              "  <div class=\"colab-df-container\">\n",
              "    <button class=\"colab-df-convert\" onclick=\"convertToInteractive('df-45146f8c-b46d-438d-9123-7f640b740ba1')\"\n",
              "            title=\"Convert this dataframe to an interactive table.\"\n",
              "            style=\"display:none;\">\n",
              "\n",
              "  <svg xmlns=\"http://www.w3.org/2000/svg\" height=\"24px\" viewBox=\"0 -960 960 960\">\n",
              "    <path d=\"M120-120v-720h720v720H120Zm60-500h600v-160H180v160Zm220 220h160v-160H400v160Zm0 220h160v-160H400v160ZM180-400h160v-160H180v160Zm440 0h160v-160H620v160ZM180-180h160v-160H180v160Zm440 0h160v-160H620v160Z\"/>\n",
              "  </svg>\n",
              "    </button>\n",
              "\n",
              "  <style>\n",
              "    .colab-df-container {\n",
              "      display:flex;\n",
              "      gap: 12px;\n",
              "    }\n",
              "\n",
              "    .colab-df-convert {\n",
              "      background-color: #E8F0FE;\n",
              "      border: none;\n",
              "      border-radius: 50%;\n",
              "      cursor: pointer;\n",
              "      display: none;\n",
              "      fill: #1967D2;\n",
              "      height: 32px;\n",
              "      padding: 0 0 0 0;\n",
              "      width: 32px;\n",
              "    }\n",
              "\n",
              "    .colab-df-convert:hover {\n",
              "      background-color: #E2EBFA;\n",
              "      box-shadow: 0px 1px 2px rgba(60, 64, 67, 0.3), 0px 1px 3px 1px rgba(60, 64, 67, 0.15);\n",
              "      fill: #174EA6;\n",
              "    }\n",
              "\n",
              "    .colab-df-buttons div {\n",
              "      margin-bottom: 4px;\n",
              "    }\n",
              "\n",
              "    [theme=dark] .colab-df-convert {\n",
              "      background-color: #3B4455;\n",
              "      fill: #D2E3FC;\n",
              "    }\n",
              "\n",
              "    [theme=dark] .colab-df-convert:hover {\n",
              "      background-color: #434B5C;\n",
              "      box-shadow: 0px 1px 3px 1px rgba(0, 0, 0, 0.15);\n",
              "      filter: drop-shadow(0px 1px 2px rgba(0, 0, 0, 0.3));\n",
              "      fill: #FFFFFF;\n",
              "    }\n",
              "  </style>\n",
              "\n",
              "    <script>\n",
              "      const buttonEl =\n",
              "        document.querySelector('#df-45146f8c-b46d-438d-9123-7f640b740ba1 button.colab-df-convert');\n",
              "      buttonEl.style.display =\n",
              "        google.colab.kernel.accessAllowed ? 'block' : 'none';\n",
              "\n",
              "      async function convertToInteractive(key) {\n",
              "        const element = document.querySelector('#df-45146f8c-b46d-438d-9123-7f640b740ba1');\n",
              "        const dataTable =\n",
              "          await google.colab.kernel.invokeFunction('convertToInteractive',\n",
              "                                                    [key], {});\n",
              "        if (!dataTable) return;\n",
              "\n",
              "        const docLinkHtml = 'Like what you see? Visit the ' +\n",
              "          '<a target=\"_blank\" href=https://colab.research.google.com/notebooks/data_table.ipynb>data table notebook</a>'\n",
              "          + ' to learn more about interactive tables.';\n",
              "        element.innerHTML = '';\n",
              "        dataTable['output_type'] = 'display_data';\n",
              "        await google.colab.output.renderOutput(dataTable, element);\n",
              "        const docLink = document.createElement('div');\n",
              "        docLink.innerHTML = docLinkHtml;\n",
              "        element.appendChild(docLink);\n",
              "      }\n",
              "    </script>\n",
              "  </div>\n",
              "\n",
              "\n",
              "<div id=\"df-a28d84a3-19f9-49d2-98d8-1abc95d7d6b3\">\n",
              "  <button class=\"colab-df-quickchart\" onclick=\"quickchart('df-a28d84a3-19f9-49d2-98d8-1abc95d7d6b3')\"\n",
              "            title=\"Suggest charts\"\n",
              "            style=\"display:none;\">\n",
              "\n",
              "<svg xmlns=\"http://www.w3.org/2000/svg\" height=\"24px\"viewBox=\"0 0 24 24\"\n",
              "     width=\"24px\">\n",
              "    <g>\n",
              "        <path d=\"M19 3H5c-1.1 0-2 .9-2 2v14c0 1.1.9 2 2 2h14c1.1 0 2-.9 2-2V5c0-1.1-.9-2-2-2zM9 17H7v-7h2v7zm4 0h-2V7h2v10zm4 0h-2v-4h2v4z\"/>\n",
              "    </g>\n",
              "</svg>\n",
              "  </button>\n",
              "\n",
              "<style>\n",
              "  .colab-df-quickchart {\n",
              "      --bg-color: #E8F0FE;\n",
              "      --fill-color: #1967D2;\n",
              "      --hover-bg-color: #E2EBFA;\n",
              "      --hover-fill-color: #174EA6;\n",
              "      --disabled-fill-color: #AAA;\n",
              "      --disabled-bg-color: #DDD;\n",
              "  }\n",
              "\n",
              "  [theme=dark] .colab-df-quickchart {\n",
              "      --bg-color: #3B4455;\n",
              "      --fill-color: #D2E3FC;\n",
              "      --hover-bg-color: #434B5C;\n",
              "      --hover-fill-color: #FFFFFF;\n",
              "      --disabled-bg-color: #3B4455;\n",
              "      --disabled-fill-color: #666;\n",
              "  }\n",
              "\n",
              "  .colab-df-quickchart {\n",
              "    background-color: var(--bg-color);\n",
              "    border: none;\n",
              "    border-radius: 50%;\n",
              "    cursor: pointer;\n",
              "    display: none;\n",
              "    fill: var(--fill-color);\n",
              "    height: 32px;\n",
              "    padding: 0;\n",
              "    width: 32px;\n",
              "  }\n",
              "\n",
              "  .colab-df-quickchart:hover {\n",
              "    background-color: var(--hover-bg-color);\n",
              "    box-shadow: 0 1px 2px rgba(60, 64, 67, 0.3), 0 1px 3px 1px rgba(60, 64, 67, 0.15);\n",
              "    fill: var(--button-hover-fill-color);\n",
              "  }\n",
              "\n",
              "  .colab-df-quickchart-complete:disabled,\n",
              "  .colab-df-quickchart-complete:disabled:hover {\n",
              "    background-color: var(--disabled-bg-color);\n",
              "    fill: var(--disabled-fill-color);\n",
              "    box-shadow: none;\n",
              "  }\n",
              "\n",
              "  .colab-df-spinner {\n",
              "    border: 2px solid var(--fill-color);\n",
              "    border-color: transparent;\n",
              "    border-bottom-color: var(--fill-color);\n",
              "    animation:\n",
              "      spin 1s steps(1) infinite;\n",
              "  }\n",
              "\n",
              "  @keyframes spin {\n",
              "    0% {\n",
              "      border-color: transparent;\n",
              "      border-bottom-color: var(--fill-color);\n",
              "      border-left-color: var(--fill-color);\n",
              "    }\n",
              "    20% {\n",
              "      border-color: transparent;\n",
              "      border-left-color: var(--fill-color);\n",
              "      border-top-color: var(--fill-color);\n",
              "    }\n",
              "    30% {\n",
              "      border-color: transparent;\n",
              "      border-left-color: var(--fill-color);\n",
              "      border-top-color: var(--fill-color);\n",
              "      border-right-color: var(--fill-color);\n",
              "    }\n",
              "    40% {\n",
              "      border-color: transparent;\n",
              "      border-right-color: var(--fill-color);\n",
              "      border-top-color: var(--fill-color);\n",
              "    }\n",
              "    60% {\n",
              "      border-color: transparent;\n",
              "      border-right-color: var(--fill-color);\n",
              "    }\n",
              "    80% {\n",
              "      border-color: transparent;\n",
              "      border-right-color: var(--fill-color);\n",
              "      border-bottom-color: var(--fill-color);\n",
              "    }\n",
              "    90% {\n",
              "      border-color: transparent;\n",
              "      border-bottom-color: var(--fill-color);\n",
              "    }\n",
              "  }\n",
              "</style>\n",
              "\n",
              "  <script>\n",
              "    async function quickchart(key) {\n",
              "      const quickchartButtonEl =\n",
              "        document.querySelector('#' + key + ' button');\n",
              "      quickchartButtonEl.disabled = true;  // To prevent multiple clicks.\n",
              "      quickchartButtonEl.classList.add('colab-df-spinner');\n",
              "      try {\n",
              "        const charts = await google.colab.kernel.invokeFunction(\n",
              "            'suggestCharts', [key], {});\n",
              "      } catch (error) {\n",
              "        console.error('Error during call to suggestCharts:', error);\n",
              "      }\n",
              "      quickchartButtonEl.classList.remove('colab-df-spinner');\n",
              "      quickchartButtonEl.classList.add('colab-df-quickchart-complete');\n",
              "    }\n",
              "    (() => {\n",
              "      let quickchartButtonEl =\n",
              "        document.querySelector('#df-a28d84a3-19f9-49d2-98d8-1abc95d7d6b3 button');\n",
              "      quickchartButtonEl.style.display =\n",
              "        google.colab.kernel.accessAllowed ? 'block' : 'none';\n",
              "    })();\n",
              "  </script>\n",
              "</div>\n",
              "\n",
              "    </div>\n",
              "  </div>\n"
            ],
            "application/vnd.google.colaboratory.intrinsic+json": {
              "type": "dataframe",
              "variable_name": "iris_df",
              "summary": "{\n  \"name\": \"iris_df\",\n  \"rows\": 150,\n  \"fields\": [\n    {\n      \"column\": \"sepal length (cm)\",\n      \"properties\": {\n        \"dtype\": \"number\",\n        \"std\": 0.828066127977863,\n        \"min\": 4.3,\n        \"max\": 7.9,\n        \"num_unique_values\": 35,\n        \"samples\": [\n          6.2,\n          4.5,\n          5.6\n        ],\n        \"semantic_type\": \"\",\n        \"description\": \"\"\n      }\n    },\n    {\n      \"column\": \"sepal width (cm)\",\n      \"properties\": {\n        \"dtype\": \"number\",\n        \"std\": 0.4358662849366982,\n        \"min\": 2.0,\n        \"max\": 4.4,\n        \"num_unique_values\": 23,\n        \"samples\": [\n          2.3,\n          4.0,\n          3.5\n        ],\n        \"semantic_type\": \"\",\n        \"description\": \"\"\n      }\n    },\n    {\n      \"column\": \"petal length (cm)\",\n      \"properties\": {\n        \"dtype\": \"number\",\n        \"std\": 1.7652982332594662,\n        \"min\": 1.0,\n        \"max\": 6.9,\n        \"num_unique_values\": 43,\n        \"samples\": [\n          6.7,\n          3.8,\n          3.7\n        ],\n        \"semantic_type\": \"\",\n        \"description\": \"\"\n      }\n    },\n    {\n      \"column\": \"petal width (cm)\",\n      \"properties\": {\n        \"dtype\": \"number\",\n        \"std\": 0.7622376689603465,\n        \"min\": 0.1,\n        \"max\": 2.5,\n        \"num_unique_values\": 22,\n        \"samples\": [\n          0.2,\n          1.2,\n          1.3\n        ],\n        \"semantic_type\": \"\",\n        \"description\": \"\"\n      }\n    },\n    {\n      \"column\": \"label\",\n      \"properties\": {\n        \"dtype\": \"number\",\n        \"std\": 0,\n        \"min\": 0,\n        \"max\": 2,\n        \"num_unique_values\": 3,\n        \"samples\": [\n          0,\n          1,\n          2\n        ],\n        \"semantic_type\": \"\",\n        \"description\": \"\"\n      }\n    }\n  ]\n}"
            }
          },
          "metadata": {},
          "execution_count": 1
        }
      ],
      "source": [
        "from sklearn.datasets import load_iris\n",
        "import pandas as pd\n",
        "import numpy as np\n",
        "\n",
        "# 붓꽃 데이터 셋트를 로딩\n",
        "iris = load_iris()    #iris의 품종 : [0:'setosa',1:'versicolor',2:'virginica']\n",
        "# print(iris)\n",
        "\n",
        "# X 피쳐만 추출: Features\n",
        "iris_data = iris.data\n",
        "print(type(iris.data))\n",
        "print(iris.data.shape) # (150, 4)\n",
        "\n",
        "# Y 답(label)만 추출: target_Value\n",
        "iris_label = iris.target\n",
        "\n",
        "# Data Frame 만들기\n",
        "iris_df = pd.DataFrame(data=iris_data, columns=iris.feature_names)\n",
        "iris_df['label'] = iris_label  # # 예측(predict) 수행\n",
        "iris_df.head()"
      ]
    },
    {
      "cell_type": "markdown",
      "id": "7ae650f3",
      "metadata": {
        "id": "7ae650f3"
      },
      "source": [
        "### 2.학습데이터 분류하고 분류 알고리즘 적용하여 학습모델(예측모델) 만들기"
      ]
    },
    {
      "cell_type": "markdown",
      "id": "101d86c0",
      "metadata": {
        "id": "101d86c0"
      },
      "source": [
        "#### 로지스틱 회귀 알고리즘 적용"
      ]
    },
    {
      "cell_type": "code",
      "execution_count": 13,
      "id": "22aeddd4",
      "metadata": {
        "colab": {
          "base_uri": "https://localhost:8080/"
        },
        "id": "22aeddd4",
        "outputId": "60d1dcda-cc08-4082-c7ef-d4eb4f59a615"
      },
      "outputs": [
        {
          "output_type": "stream",
          "name": "stdout",
          "text": [
            "예측: [2 2 1 1 2 0 1 0 0 1 1 1 1 2 2 0 2 1 2 2 1 0 0 1 0 0 2 1 0 1]\n",
            "실제: [2 2 2 1 2 0 1 0 0 1 2 1 1 2 2 0 2 1 2 2 1 0 0 1 0 0 2 1 0 1]\n",
            "정확도:0.9333333333333333\n"
          ]
        }
      ],
      "source": [
        "from sklearn.model_selection import train_test_split\n",
        "from sklearn.linear_model import LogisticRegression\n",
        "from sklearn.metrics import accuracy_score\n",
        "\n",
        "# 학습데이터/테스트테이터 분리\n",
        "x_train,x_test,y_train,y_test = train_test_split(iris_data,iris_label,test_size=0.2,  # test_size:0.2(20%)\n",
        "                                                  random_state=11) # random seed 고정\n",
        "\n",
        "# 학습모델(분류) : 로지스틱 회귀\n",
        "model_lr = LogisticRegression()\n",
        "\n",
        "# 모델 훈련\n",
        "model_lr.fit(x_train, y_train)\n",
        "\n",
        "# 예측(predict) 수행하기\n",
        "y_pred_lr = model_lr.predict(x_test)\n",
        "print('예측:', y_pred_lr)\n",
        "\n",
        "# 실제데이터와 예측데이터 비교하기\n",
        "print('실제:', y_test)\n",
        "\n",
        "print(f'정확도:{accuracy_score(y_test, y_pred_lr)}')\n"
      ]
    },
    {
      "cell_type": "markdown",
      "id": "c4b77464",
      "metadata": {
        "id": "c4b77464"
      },
      "source": [
        "#### K-NN알고리즘 적용"
      ]
    },
    {
      "cell_type": "code",
      "execution_count": 11,
      "id": "8f3c6914",
      "metadata": {
        "colab": {
          "base_uri": "https://localhost:8080/"
        },
        "id": "8f3c6914",
        "outputId": "8bc35736-068b-4aad-91d0-2be9a30406b7"
      },
      "outputs": [
        {
          "output_type": "stream",
          "name": "stdout",
          "text": [
            "예측: [2 2 2 1 2 0 1 0 0 1 1 1 1 2 2 0 2 1 2 2 1 0 0 1 0 0 2 1 0 1]\n",
            "실제: [2 2 2 1 2 0 1 0 0 1 2 1 1 2 2 0 2 1 2 2 1 0 0 1 0 0 2 1 0 1]\n",
            "정확도:0.9666666666666667\n"
          ]
        }
      ],
      "source": [
        "from sklearn.model_selection import train_test_split\n",
        "from sklearn.neighbors import KNeighborsClassifier\n",
        "from sklearn.metrics import accuracy_score\n",
        "\n",
        "# 학습데이터/테스트테이터 분리\n",
        "x_train,x_test,y_train,y_test = train_test_split(iris_data,iris_label,test_size=0.2,  # test_size:0.2(20%)\n",
        "                                                  random_state=11) # random seed 고정\n",
        "\n",
        "# 학습모델(분류) : KNN\n",
        "model_knn = KNeighborsClassifier(n_neighbors=5)\n",
        "model_knn.fit(x_train, y_train)\n",
        "\n",
        "# 테스트테이터로 예측(predict) 수행하기\n",
        "y_pred_kn = model_knn.predict(x_test)\n",
        "\n",
        "# 실제데이터와 예측데이터 비교하기\n",
        "print('예측:', y_pred_kn)\n",
        "print('실제:', y_test)\n",
        "\n",
        "print(f'정확도:{accuracy_score(y_test, y_pred_kn)}')"
      ]
    },
    {
      "cell_type": "markdown",
      "id": "1d8fdbdc",
      "metadata": {
        "id": "1d8fdbdc"
      },
      "source": [
        "### 3. 모델 정확도 측정하기"
      ]
    },
    {
      "cell_type": "code",
      "execution_count": 15,
      "id": "4d5534e8",
      "metadata": {
        "colab": {
          "base_uri": "https://localhost:8080/"
        },
        "id": "4d5534e8",
        "outputId": "213dea93-be3b-4c38-bdb3-cd06d49c3fa4"
      },
      "outputs": [
        {
          "output_type": "stream",
          "name": "stdout",
          "text": [
            "정확도(LR): 0.9333333333333333\n",
            "정확도(KNN): 0.9666666666666667\n",
            "roc_auc(LR): 0.9521531100478469\n",
            "roc_auc(KNN): 0.9760765550239234\n"
          ]
        }
      ],
      "source": [
        "# 정확도 측정 : accuracy\n",
        "from sklearn.metrics import accuracy_score, roc_curve, auc, classification_report\n",
        "\n",
        "# 정확도 출력하기 (로지스틱회귀, KNN)\n",
        "print(f'정확도(LR): {accuracy_score(y_test, y_pred_lr)}')\n",
        "print(f'정확도(KNN): {accuracy_score(y_test, y_pred_kn)}')\n",
        "\n",
        "# 로지스틱회귀 roc_auc :  출력하기\n",
        "fpr, tpr, thresholds =roc_curve(y_test, y_pred_lr , pos_label=2)\n",
        "print(f'roc_auc(LR): {auc(fpr, tpr)}')\n",
        "\n",
        "# KNN roc_auc :  출력하기\n",
        "fpr, tpr, thresholds =roc_curve(y_test, y_pred_kn , pos_label=2)\n",
        "print(f'roc_auc(KNN): {auc(fpr, tpr)}')\n"
      ]
    },
    {
      "cell_type": "markdown",
      "id": "e35112c5",
      "metadata": {
        "id": "e35112c5"
      },
      "source": [
        "### 4. 교차 검증하기(cross validation)"
      ]
    },
    {
      "cell_type": "code",
      "execution_count": 16,
      "id": "6ad6794f",
      "metadata": {
        "colab": {
          "base_uri": "https://localhost:8080/"
        },
        "id": "6ad6794f",
        "outputId": "9780bf05-daf8-4854-c210-9527a75cb40d"
      },
      "outputs": [
        {
          "output_type": "stream",
          "name": "stdout",
          "text": [
            "교차 검증 정확도(LR): [0.98 0.96 0.98]\n",
            "교차 검증 정확도(KNN): [0.98 0.98 0.98]\n",
            "교차 검증 평균 정확도(LR): 0.9733\n",
            "교차 검증 평균 정확도(KNN): 0.98\n"
          ]
        },
        {
          "output_type": "stream",
          "name": "stderr",
          "text": [
            "/usr/local/lib/python3.10/dist-packages/sklearn/linear_model/_logistic.py:458: ConvergenceWarning: lbfgs failed to converge (status=1):\n",
            "STOP: TOTAL NO. of ITERATIONS REACHED LIMIT.\n",
            "\n",
            "Increase the number of iterations (max_iter) or scale the data as shown in:\n",
            "    https://scikit-learn.org/stable/modules/preprocessing.html\n",
            "Please also refer to the documentation for alternative solver options:\n",
            "    https://scikit-learn.org/stable/modules/linear_model.html#logistic-regression\n",
            "  n_iter_i = _check_optimize_result(\n"
          ]
        }
      ],
      "source": [
        "# 테스트 데이터에만 과적합 될 수 있으므로 데이터를 여러개로 나누어 테스트를 여러번 수행하여 평균 정확도를 구함\n",
        "from sklearn.model_selection import cross_val_score\n",
        "\n",
        "# 로지스틱회귀 교차 검증\n",
        "cv_score_lr = cross_val_score(model_lr, iris.data, iris.target,  # Estimator,X,Y값\n",
        "                           scoring='accuracy', cv = 3) # cv = 3, 3개로 쪼개어 검증(predict를 3회 수행)\n",
        "\n",
        "# KNN 교차 검증\n",
        "cv_score_knn = cross_val_score(model_knn, iris.data, iris.target,  # Estimator,X,Y값\n",
        "                           scoring='accuracy', cv = 3)\n",
        "\n",
        "# 내부적으로 Stratified K-Fold 사용됨, 평가지표를 한개만 구할 수 있어서 StatifiedKFold사용 권장\n",
        "print('교차 검증 정확도(LR):',cv_score_lr)\n",
        "print('교차 검증 정확도(KNN):',cv_score_knn )\n",
        "print('교차 검증 평균 정확도(LR):',np.round(np.mean(cv_score_lr),4))    # 예측 한 결과의 정확도들의 평균\n",
        "print('교차 검증 평균 정확도(KNN):', np.round(np.mean(cv_score_knn),4) )"
      ]
    },
    {
      "cell_type": "markdown",
      "id": "db0a5386",
      "metadata": {
        "id": "db0a5386"
      },
      "source": [
        "### [실습문제] 고흐가 그린 붓꽃의 종류는 무엇일까?\n",
        "학습모델에 넣어  테스트데이터 예측하기"
      ]
    },
    {
      "cell_type": "code",
      "execution_count": 21,
      "id": "cabe9269",
      "metadata": {
        "colab": {
          "base_uri": "https://localhost:8080/"
        },
        "id": "cabe9269",
        "outputId": "e6021a5c-a908-445e-9803-b2658140866f"
      },
      "outputs": [
        {
          "output_type": "stream",
          "name": "stdout",
          "text": [
            "예측(KNN): [0 0 2]\n",
            "고흐의 붓꽃데이터 결과는? :\n",
            "[2.7, 2.4, 1.65, 0.67]: 0->setosa\n",
            "[2.7, 2.4, 1.65, 0.67]: 0->setosa\n",
            "[5.8, 2.7, 5.1, 1.9]: 2->virginica\n"
          ]
        }
      ],
      "source": [
        "# 그림에서 수집한 데이터\n",
        "my=[[2.7,2.4, 1.65, 0.67],[5.84,5.48,3,2.16],[5.8,2.7,5.1,1.9]]\n",
        "X_test = np.array(my)\n",
        "\n",
        "# K-NN을 이용한 예측(predict) 수행\n",
        "y_pred_knn_my=model_knn.predict(X_test)\n",
        "print(f'예측(KNN): {y_pred_knn_my}')\n",
        "# 분류 결과 출력하기\n",
        "print('고흐의 붓꽃데이터 결과는? :',)\n",
        "names={0:'setosa',1:'versicolor',2:'virginica'}\n",
        "for i in y_pred_knn_my:\n",
        "    print(f'{my[i]}: {i}->{names[i]}')"
      ]
    },
    {
      "cell_type": "markdown",
      "id": "dbf74dde",
      "metadata": {
        "id": "dbf74dde"
      },
      "source": [
        "-------------------"
      ]
    },
    {
      "cell_type": "markdown",
      "id": "13f4a68a",
      "metadata": {
        "id": "13f4a68a"
      },
      "source": [
        "끝"
      ]
    }
  ],
  "metadata": {
    "kernelspec": {
      "display_name": "Python 3 (ipykernel)",
      "language": "python",
      "name": "python3"
    },
    "language_info": {
      "codemirror_mode": {
        "name": "ipython",
        "version": 3
      },
      "file_extension": ".py",
      "mimetype": "text/x-python",
      "name": "python",
      "nbconvert_exporter": "python",
      "pygments_lexer": "ipython3",
      "version": "3.10.9"
    },
    "colab": {
      "provenance": [],
      "include_colab_link": true
    }
  },
  "nbformat": 4,
  "nbformat_minor": 5
}