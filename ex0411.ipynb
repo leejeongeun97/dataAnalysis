{
  "nbformat": 4,
  "nbformat_minor": 0,
  "metadata": {
    "colab": {
      "provenance": [],
      "authorship_tag": "ABX9TyO0psBeEfIVMeapm9uGWFik",
      "include_colab_link": true
    },
    "kernelspec": {
      "name": "python3",
      "display_name": "Python 3"
    },
    "language_info": {
      "name": "python"
    }
  },
  "cells": [
    {
      "cell_type": "markdown",
      "metadata": {
        "id": "view-in-github",
        "colab_type": "text"
      },
      "source": [
        "<a href=\"https://colab.research.google.com/github/leejeongeun97/dataAnalysis/blob/main/ex0411.ipynb\" target=\"_parent\"><img src=\"https://colab.research.google.com/assets/colab-badge.svg\" alt=\"Open In Colab\"/></a>"
      ]
    },
    {
      "cell_type": "markdown",
      "source": [
        "##파일입출력 클래스 실습"
      ],
      "metadata": {
        "id": "NACFOF5imm1N"
      }
    },
    {
      "cell_type": "markdown",
      "source": [],
      "metadata": {
        "id": "4staGjtQmvaU"
      }
    },
    {
      "cell_type": "code",
      "execution_count": 27,
      "metadata": {
        "colab": {
          "base_uri": "https://localhost:8080/"
        },
        "id": "2SRjwsGWkMD4",
        "outputId": "165b2be0-5701-4966-c5a3-0c778313df21"
      },
      "outputs": [
        {
          "output_type": "stream",
          "name": "stdout",
          "text": [
            "01팀 : ['35,최준희', '22,이숙미', '30,전혜진', '3,김미영']\n",
            "02팀 : ['34,최원희', '20,이미경', '25,인선미', '16,유지연']\n",
            "03팀 : ['37,황수산나', '7,박성미', '9,박지연', '8,박윤경']\n",
            "04팀 : ['38,정재순', '21,이수진', '33,최민지', '14,안지영']\n",
            "05팀 : ['10,박지영', '31,조현정', '29,전현주', '28,전유진']\n",
            "06팀 : ['24,이주현', '32,천윤희', '6,김혜정', '12,서남미']\n",
            "07팀 : ['23,이정', '1,고정미', '11,박효미', '39,권명숙']\n",
            "08팀 : ['17,유지은', '15,오현주', '4,김선형', '27,임은희']\n",
            "09팀 : ['19,윤영순', '5,김현아', '36,한진희', '2,권지선']\n",
            "10팀 : ['13,송인경', '18,윤노숙', '26,임미숙']\n"
          ]
        }
      ],
      "source": [
        "# 아래 조건을 만족하도록 팀 구성 프로그램을 만들어 보세요.\n",
        "# ① (members.txt)파일에 있는 수강생 데이터를 읽은 후 리스트로 만들고\n",
        "# ② 리스트를 섞은 후\n",
        "# ③ 팀당 4명의 수강생 만들어 { 팀명: [수강생] } 딕셔너리 형태로 만들고\n",
        "# ④ 화면과 (teams.txt) 파일로 출력하세요\n",
        "# ⑤ 팀명은 서로 연관성 있는 이름(과일, 야채, 동물 등)으로 구성된 리스트에서 임의로 부\n",
        "# 여되도록 한다.\n",
        "\n",
        "#파일 열고 몰록 가져오기\n",
        "f=open(\"./members.txt\",\"r\")\n",
        "fw=open(\"./result_members.txt\",\"w\")\n",
        "members = [member.strip() for member in f.readlines()]\n",
        "\n",
        "#리스트 섞기\n",
        "import random\n",
        "random.shuffle(members)\n",
        "\n",
        "#팀 배정\n",
        "team_cnt = 4\n",
        "teams_dic, tmp =dict(), list()\n",
        "i =0\n",
        "for idx, member in enumerate(members):\n",
        "    if idx>0 and idx%team_cnt == 0 :\n",
        "        teams_dic[f\"{i+1:02}팀\"]= tmp\n",
        "        print(f\"{i+1:02}팀 : {tmp}\")\n",
        "        fw.write(f\"{i+1:02}팀 : {tmp}\\n\")\n",
        "        i+= 1\n",
        "        tmp =[]\n",
        "    tmp.append(member)\n",
        "\n",
        "if tmp :\n",
        "    teams_dic[f\"{i+1:02}팀\"]= tmp\n",
        "    print(f\"{i+1:02}팀 : {tmp}\")\n",
        "    fw.write(f\"{i+1:02}팀 : {tmp}\")\n",
        "\n",
        "f.close()\n",
        "fw.close()\n",
        "\n",
        "# #파일에 저장하기\n",
        "#\n",
        "# members = [member.strip() for member in f.readlines()]\n",
        "# print(members)\n",
        "# f.close()"
      ]
    },
    {
      "cell_type": "code",
      "source": [
        "import pandas as pd\n",
        "df = pd.read_csv(\"./members.txt\")\n",
        "print(df)"
      ],
      "metadata": {
        "colab": {
          "base_uri": "https://localhost:8080/"
        },
        "id": "Sxd710s-oWy_",
        "outputId": "1d95330f-9c79-4195-be88-89bca56657f4"
      },
      "execution_count": 8,
      "outputs": [
        {
          "output_type": "stream",
          "name": "stdout",
          "text": [
            "     1   고정미\n",
            "0    2   권지선\n",
            "1    3   김미영\n",
            "2    4   김선형\n",
            "3    5   김현아\n",
            "4    6   김혜정\n",
            "5    7   박성미\n",
            "6    8   박윤경\n",
            "7    9   박지연\n",
            "8   10   박지영\n",
            "9   11   박효미\n",
            "10  12   서남미\n",
            "11  13   송인경\n",
            "12  14   안지영\n",
            "13  15   오현주\n",
            "14  16   유지연\n",
            "15  17   유지은\n",
            "16  18   윤노숙\n",
            "17  19   윤영순\n",
            "18  20   이미경\n",
            "19  21   이수진\n",
            "20  22   이숙미\n",
            "21  23    이정\n",
            "22  24   이주현\n",
            "23  25   인선미\n",
            "24  26   임미숙\n",
            "25  27   임은희\n",
            "26  28   전유진\n",
            "27  29   전현주\n",
            "28  30   전혜진\n",
            "29  31   조현정\n",
            "30  32   천윤희\n",
            "31  33   최민지\n",
            "32  34   최원희\n",
            "33  35   최준희\n",
            "34  36   한진희\n",
            "35  37  황수산나\n",
            "36  38   정재순\n",
            "37  39   권명숙\n"
          ]
        }
      ]
    },
    {
      "cell_type": "code",
      "source": [],
      "metadata": {
        "id": "rdyECiVmED04"
      },
      "execution_count": null,
      "outputs": []
    }
  ]
}