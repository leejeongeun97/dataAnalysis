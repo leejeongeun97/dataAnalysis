{
  "nbformat": 4,
  "nbformat_minor": 0,
  "metadata": {
    "colab": {
      "provenance": [],
      "authorship_tag": "ABX9TyNPqdLPUIVB+TxXj+YWJX21",
      "include_colab_link": true
    },
    "kernelspec": {
      "name": "python3",
      "display_name": "Python 3"
    },
    "language_info": {
      "name": "python"
    }
  },
  "cells": [
    {
      "cell_type": "markdown",
      "metadata": {
        "id": "view-in-github",
        "colab_type": "text"
      },
      "source": [
        "<a href=\"https://colab.research.google.com/github/leejeongeun97/dataAnalysis/blob/main/ex0408.ipynb\" target=\"_parent\"><img src=\"https://colab.research.google.com/assets/colab-badge.svg\" alt=\"Open In Colab\"/></a>"
      ]
    },
    {
      "cell_type": "markdown",
      "source": [
        "#random"
      ],
      "metadata": {
        "id": "cGhnnU_LobYA"
      }
    },
    {
      "cell_type": "code",
      "execution_count": 1,
      "metadata": {
        "colab": {
          "base_uri": "https://localhost:8080/"
        },
        "id": "DFdGMl3UnRa7",
        "outputId": "ac86f927-2e2a-4ff7-9b6e-61a30dc3fb9e"
      },
      "outputs": [
        {
          "output_type": "stream",
          "name": "stdout",
          "text": [
            "7 + 2 = 9\n"
          ]
        }
      ],
      "source": [
        "import random\n",
        "\n",
        "a=random.randint(1,10)\n",
        "b=random.randint(1,10)\n",
        "\n",
        "print(f'{a} + {b} = {a + b}')"
      ]
    },
    {
      "cell_type": "code",
      "source": [
        "import random\n",
        "dice=[0,0,0,0,0,0]\n",
        "\n",
        "for i in range(0,100) :\n",
        "    a=random.randint(1,6)\n",
        "    dice[a-1] +=1\n",
        "\n",
        "print(f\"숫자별 개수:{dice}\")\n",
        "list_max= max(dice)\n",
        "max_list=[idx+1 for idx,v in enumerate(dice) if v == list_max]\n",
        "print(f\"가장 많이 나온 주사위 숫자:{max_list},횟수: {list_max}\")\n"
      ],
      "metadata": {
        "colab": {
          "base_uri": "https://localhost:8080/"
        },
        "id": "m8R5ZEQ4pBGK",
        "outputId": "e92e8a7e-61da-4664-b499-38d82e6ca517"
      },
      "execution_count": 21,
      "outputs": [
        {
          "output_type": "stream",
          "name": "stdout",
          "text": [
            "숫자별 개수:[19, 14, 19, 13, 19, 16]\n",
            "가장 많이 나온 주사위 숫자:[1, 3, 5],횟수: 19\n"
          ]
        }
      ]
    },
    {
      "cell_type": "code",
      "source": [
        "import random\n",
        "\n",
        "print(f\"로또 번호는: {sorted(random.sample(range(1,46),6))}\")"
      ],
      "metadata": {
        "colab": {
          "base_uri": "https://localhost:8080/"
        },
        "id": "7nHEKWtQsjkx",
        "outputId": "c05355fc-4c12-4a81-f782-7309a6c9ed8f"
      },
      "execution_count": 12,
      "outputs": [
        {
          "output_type": "stream",
          "name": "stdout",
          "text": [
            "로또 번호는: [8, 13, 20, 31, 33, 44]\n"
          ]
        }
      ]
    },
    {
      "cell_type": "code",
      "source": [
        "rows= range(1,4)\n",
        "cols= range(1,3)\n",
        "cells=[(row,col)for row in rows for col in cols]\n",
        "print(cells)"
      ],
      "metadata": {
        "colab": {
          "base_uri": "https://localhost:8080/"
        },
        "id": "CpGFgpXiwX7i",
        "outputId": "06f4c6fd-cd21-4346-d9b8-127aa35cc01a"
      },
      "execution_count": 22,
      "outputs": [
        {
          "output_type": "stream",
          "name": "stdout",
          "text": [
            "[(1, 1), (1, 2), (2, 1), (2, 2), (3, 1), (3, 2)]\n"
          ]
        }
      ]
    },
    {
      "cell_type": "code",
      "source": [
        "##zip"
      ],
      "metadata": {
        "id": "CEVATBSmxFgx"
      },
      "execution_count": null,
      "outputs": []
    },
    {
      "cell_type": "code",
      "source": [
        "foods=['떡볶이','짜장면','라면','피자']\n",
        "sides = ['오뎅','단무지','김치']\n",
        "tuplist = list(zip(foods,sides))\n",
        "dic = dict(zip(foods,sides))\n",
        "print(tuplist)\n",
        "print(dic)\n"
      ],
      "metadata": {
        "colab": {
          "base_uri": "https://localhost:8080/"
        },
        "id": "KXqvgwJ7xHNx",
        "outputId": "a9f605d6-7e7a-4d2c-c8e0-cff3541c6592"
      },
      "execution_count": 23,
      "outputs": [
        {
          "output_type": "stream",
          "name": "stdout",
          "text": [
            "[('떡볶이', '오뎅'), ('짜장면', '단무지'), ('라면', '김치')]\n",
            "{'떡볶이': '오뎅', '짜장면': '단무지', '라면': '김치'}\n"
          ]
        }
      ]
    },
    {
      "cell_type": "markdown",
      "source": [
        "#함수와 모듈"
      ],
      "metadata": {
        "id": "H_jWT90QzpDY"
      }
    },
    {
      "cell_type": "code",
      "source": [
        "def test03(*args):\n",
        "    print(args)\n",
        "    for i in range(len(args)) :\n",
        "        print(f'{i}:{args[i]}')\n",
        "\n",
        "test03('abc','def',1,True)\n"
      ],
      "metadata": {
        "colab": {
          "base_uri": "https://localhost:8080/"
        },
        "id": "rgrBiNaYzw1v",
        "outputId": "64fb7bc0-884a-48ee-8e60-fcb40ff5b60c"
      },
      "execution_count": 28,
      "outputs": [
        {
          "output_type": "stream",
          "name": "stdout",
          "text": [
            "('abc', 'def', 1, True)\n",
            "0:abc\n",
            "1:def\n",
            "2:1\n",
            "3:True\n"
          ]
        }
      ]
    },
    {
      "cell_type": "code",
      "source": [
        "def is_arm(N)\n",
        "\n",
        "for i in range(100,1000):\n",
        "    if is_arm(i)\n",
        "        print(\"\")"
      ],
      "metadata": {
        "id": "EVRKO6ba9lVB"
      },
      "execution_count": null,
      "outputs": []
    }
  ]
}