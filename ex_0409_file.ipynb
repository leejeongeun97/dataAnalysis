{
  "nbformat": 4,
  "nbformat_minor": 0,
  "metadata": {
    "colab": {
      "provenance": [],
      "authorship_tag": "ABX9TyN3yQZwNbuLAvcK8SaqmmWZ",
      "include_colab_link": true
    },
    "kernelspec": {
      "name": "python3",
      "display_name": "Python 3"
    },
    "language_info": {
      "name": "python"
    }
  },
  "cells": [
    {
      "cell_type": "markdown",
      "metadata": {
        "id": "view-in-github",
        "colab_type": "text"
      },
      "source": [
        "<a href=\"https://colab.research.google.com/github/leejeongeun97/dataAnalysis/blob/main/ex_0409_file.ipynb\" target=\"_parent\"><img src=\"https://colab.research.google.com/assets/colab-badge.svg\" alt=\"Open In Colab\"/></a>"
      ]
    },
    {
      "cell_type": "markdown",
      "source": [
        "#파일 입출력"
      ],
      "metadata": {
        "id": "gXjV2K_jmJ8O"
      }
    },
    {
      "cell_type": "code",
      "execution_count": null,
      "metadata": {
        "id": "f2CdFfTskbD8"
      },
      "outputs": [],
      "source": [
        "f= open('./새파일.txt','w')\n",
        "for i in range(1,11):\n",
        "    data = \"%d 번째 줄입니다\\n\"%i\n",
        "    f.write(data)\n",
        "f.close()"
      ]
    },
    {
      "cell_type": "code",
      "source": [
        "f= open('./새파일.txt','a')\n",
        "for i in range(1,11):\n",
        "    data = \"%d 번째 줄입니다\\n\"%i\n",
        "    f.write(data)\n",
        "f.close()"
      ],
      "metadata": {
        "id": "yv9VZrP8nhrU"
      },
      "execution_count": null,
      "outputs": []
    },
    {
      "cell_type": "code",
      "source": [
        "f= open('C:\\python\\새파일2.txt','w')\n",
        "for i in range(1,11):\n",
        "    data = \"%d 번째 줄입니다\\n\"%i\n",
        "    f.write(data)\n",
        "f.close()"
      ],
      "metadata": {
        "id": "g5akF9MUnuK7"
      },
      "execution_count": null,
      "outputs": []
    },
    {
      "cell_type": "code",
      "source": [
        "f= open('./새파일.txt','r')\n",
        "while True:\n",
        "    line = f.readline()\n",
        "    if not line : break\n",
        "    print(line.strip())\n",
        "f.close()"
      ],
      "metadata": {
        "colab": {
          "base_uri": "https://localhost:8080/"
        },
        "id": "21Uu7Zr7oNF5",
        "outputId": "fb3da9cd-b9a0-420c-8d5d-8ece1d418718"
      },
      "execution_count": null,
      "outputs": [
        {
          "output_type": "stream",
          "name": "stdout",
          "text": [
            "1 번째 줄입니다\n",
            "2 번째 줄입니다\n",
            "3 번째 줄입니다\n",
            "4 번째 줄입니다\n",
            "5 번째 줄입니다\n",
            "6 번째 줄입니다\n",
            "7 번째 줄입니다\n",
            "8 번째 줄입니다\n",
            "9 번째 줄입니다\n",
            "10 번째 줄입니다\n",
            "1 번째 줄입니다\n",
            "2 번째 줄입니다\n",
            "3 번째 줄입니다\n",
            "4 번째 줄입니다\n",
            "5 번째 줄입니다\n",
            "6 번째 줄입니다\n",
            "7 번째 줄입니다\n",
            "8 번째 줄입니다\n",
            "9 번째 줄입니다\n",
            "10 번째 줄입니다\n"
          ]
        }
      ]
    },
    {
      "cell_type": "code",
      "source": [
        "f= open('./새파일.txt','r')\n",
        "lines = f.readlines()\n",
        "print(lines)\n",
        "f.close()"
      ],
      "metadata": {
        "colab": {
          "base_uri": "https://localhost:8080/"
        },
        "id": "q-HJGJ1_p68M",
        "outputId": "66fc1841-1b69-452a-a6f9-afc93e6361ea"
      },
      "execution_count": null,
      "outputs": [
        {
          "output_type": "stream",
          "name": "stdout",
          "text": [
            "['1 번째 줄입니다\\n', '2 번째 줄입니다\\n', '3 번째 줄입니다\\n', '4 번째 줄입니다\\n', '5 번째 줄입니다\\n', '6 번째 줄입니다\\n', '7 번째 줄입니다\\n', '8 번째 줄입니다\\n', '9 번째 줄입니다\\n', '10 번째 줄입니다\\n', '1 번째 줄입니다\\n', '2 번째 줄입니다\\n', '3 번째 줄입니다\\n', '4 번째 줄입니다\\n', '5 번째 줄입니다\\n', '6 번째 줄입니다\\n', '7 번째 줄입니다\\n', '8 번째 줄입니다\\n', '9 번째 줄입니다\\n', '10 번째 줄입니다\\n']\n"
          ]
        }
      ]
    },
    {
      "cell_type": "code",
      "source": [
        "f= open('./새파일.txt','r')\n",
        "for line in f.readlines():\n",
        "    print(line.strip())\n",
        "f.close()"
      ],
      "metadata": {
        "colab": {
          "base_uri": "https://localhost:8080/"
        },
        "id": "KH_CRZYNqPdq",
        "outputId": "c8984d97-da5c-40ea-d740-817e752af7e4"
      },
      "execution_count": null,
      "outputs": [
        {
          "output_type": "stream",
          "name": "stdout",
          "text": [
            "1 번째 줄입니다\n",
            "2 번째 줄입니다\n",
            "3 번째 줄입니다\n",
            "4 번째 줄입니다\n",
            "5 번째 줄입니다\n",
            "6 번째 줄입니다\n",
            "7 번째 줄입니다\n",
            "8 번째 줄입니다\n",
            "9 번째 줄입니다\n",
            "10 번째 줄입니다\n",
            "1 번째 줄입니다\n",
            "2 번째 줄입니다\n",
            "3 번째 줄입니다\n",
            "4 번째 줄입니다\n",
            "5 번째 줄입니다\n",
            "6 번째 줄입니다\n",
            "7 번째 줄입니다\n",
            "8 번째 줄입니다\n",
            "9 번째 줄입니다\n",
            "10 번째 줄입니다\n"
          ]
        }
      ]
    },
    {
      "cell_type": "code",
      "source": [
        "f= open('./새파일.txt','r')\n",
        "line= f.read()\n",
        "print(line)\n",
        "f.close()"
      ],
      "metadata": {
        "colab": {
          "base_uri": "https://localhost:8080/"
        },
        "id": "ux0Mwvhcqjkd",
        "outputId": "d81d857a-7aad-481a-8824-d198c06906ca"
      },
      "execution_count": null,
      "outputs": [
        {
          "output_type": "stream",
          "name": "stdout",
          "text": [
            "1 번째 줄입니다\n",
            "2 번째 줄입니다\n",
            "3 번째 줄입니다\n",
            "4 번째 줄입니다\n",
            "5 번째 줄입니다\n",
            "6 번째 줄입니다\n",
            "7 번째 줄입니다\n",
            "8 번째 줄입니다\n",
            "9 번째 줄입니다\n",
            "10 번째 줄입니다\n",
            "1 번째 줄입니다\n",
            "2 번째 줄입니다\n",
            "3 번째 줄입니다\n",
            "4 번째 줄입니다\n",
            "5 번째 줄입니다\n",
            "6 번째 줄입니다\n",
            "7 번째 줄입니다\n",
            "8 번째 줄입니다\n",
            "9 번째 줄입니다\n",
            "10 번째 줄입니다\n",
            "\n"
          ]
        }
      ]
    },
    {
      "cell_type": "code",
      "source": [
        "with open('./새파일.txt','r') as f:\n",
        "    data= f.read()\n",
        "    print(type(data))\n",
        "    print(data.replace('줄','사람'))\n"
      ],
      "metadata": {
        "colab": {
          "base_uri": "https://localhost:8080/"
        },
        "id": "5CCyc9KyrUZc",
        "outputId": "60bfcc83-4d39-4ab7-fb75-5c78c391e49c"
      },
      "execution_count": null,
      "outputs": [
        {
          "output_type": "stream",
          "name": "stdout",
          "text": [
            "<class 'str'>\n",
            "1 번째 사람입니다\n",
            "2 번째 사람입니다\n",
            "3 번째 사람입니다\n",
            "4 번째 사람입니다\n",
            "5 번째 사람입니다\n",
            "6 번째 사람입니다\n",
            "7 번째 사람입니다\n",
            "8 번째 사람입니다\n",
            "9 번째 사람입니다\n",
            "10 번째 사람입니다\n",
            "1 번째 사람입니다\n",
            "2 번째 사람입니다\n",
            "3 번째 사람입니다\n",
            "4 번째 사람입니다\n",
            "5 번째 사람입니다\n",
            "6 번째 사람입니다\n",
            "7 번째 사람입니다\n",
            "8 번째 사람입니다\n",
            "9 번째 사람입니다\n",
            "10 번째 사람입니다\n",
            "\n"
          ]
        }
      ]
    },
    {
      "cell_type": "code",
      "source": [
        "import os\n",
        "print(f'현재위치 : {os.getcwd()}')\n",
        "print(f'현재위치 리스트 : {os.listdir()}')\n",
        "os.chdir('../')\n",
        "print(f'현재위치 리스트 : {os.listdir()}')"
      ],
      "metadata": {
        "colab": {
          "base_uri": "https://localhost:8080/"
        },
        "id": "7YnY_Ctps5f7",
        "outputId": "3bf4de57-79e0-494f-df57-7100738eb2a5"
      },
      "execution_count": null,
      "outputs": [
        {
          "output_type": "stream",
          "name": "stdout",
          "text": [
            "현재위치 : /content\n",
            "현재위치 리스트 : ['.config', '새파일22.txt', 'C:\\\\python\\\\새파일2.txt', '새파일.txt', 'c:\\\\python\\\\새파일2.txt', 'sample_data']\n",
            "현재위치 리스트 : ['srv', 'sys', 'mnt', 'dev', 'proc', 'lib32', 'lib64', 'home', 'libx32', 'var', 'root', 'run', 'sbin', 'tmp', 'usr', 'boot', 'bin', 'lib', 'media', 'etc', 'opt', 'content', 'kaggle', '.dockerenv', 'datalab', 'tools', 'NGC-DL-CONTAINER-LICENSE', 'cuda-keyring_1.0-1_all.deb']\n"
          ]
        }
      ]
    },
    {
      "cell_type": "code",
      "source": [
        "os.chdir('/content')\n",
        "print(f'현재위치 리스트 : {os.listdir()}')"
      ],
      "metadata": {
        "colab": {
          "base_uri": "https://localhost:8080/"
        },
        "id": "IDuDnAdjuSsS",
        "outputId": "da8996c0-4a3d-4507-b511-34fd6a765ddb"
      },
      "execution_count": null,
      "outputs": [
        {
          "output_type": "stream",
          "name": "stdout",
          "text": [
            "현재위치 리스트 : ['.config', '새파일22.txt', 'C:\\\\python\\\\새파일2.txt', '새파일.txt', 'c:\\\\python\\\\새파일2.txt', 'sample_data']\n"
          ]
        }
      ]
    },
    {
      "cell_type": "code",
      "source": [
        "import os\n",
        "\n",
        "file ='새파일.txt'\n",
        "if os.path.isfile(file):\n",
        "    os.remove(file)\n",
        "    print(f'{file}이 삭제되었습니다')\n",
        "else:\n",
        "    print('파일이 존재하지 않습니다')"
      ],
      "metadata": {
        "colab": {
          "base_uri": "https://localhost:8080/"
        },
        "id": "Hctuqu0zucQf",
        "outputId": "1efdc043-78ff-46af-c7ec-d4021b97066b"
      },
      "execution_count": null,
      "outputs": [
        {
          "output_type": "stream",
          "name": "stdout",
          "text": [
            "파일이 존재하지 않습니다\n"
          ]
        }
      ]
    },
    {
      "cell_type": "code",
      "source": [
        "import shutil\n",
        "\n",
        "shutil.copy('새파일22.txt','새파일_copy.txt')\n"
      ],
      "metadata": {
        "colab": {
          "base_uri": "https://localhost:8080/",
          "height": 35
        },
        "id": "lkW8MAEqvZsc",
        "outputId": "726885af-75cd-412a-ea74-da1ba22cc33e"
      },
      "execution_count": null,
      "outputs": [
        {
          "output_type": "execute_result",
          "data": {
            "text/plain": [
              "'새파일_copy.txt'"
            ],
            "application/vnd.google.colaboratory.intrinsic+json": {
              "type": "string"
            }
          },
          "metadata": {},
          "execution_count": 31
        }
      ]
    },
    {
      "cell_type": "code",
      "source": [
        "import random\n",
        "f= open('./sample.txt','w')\n",
        "\n",
        "for _ in range(10):\n",
        "    data = (f'{str(random.randint(1,100))}\\n')\n",
        "    f.write(data)\n",
        "f.close()\n",
        "\n",
        "f= open('./sample.txt','r')\n",
        "data = f.read()\n",
        "print(data)\n",
        "f.close()"
      ],
      "metadata": {
        "colab": {
          "base_uri": "https://localhost:8080/"
        },
        "id": "VRXpLfBDv8KJ",
        "outputId": "2a142e48-6354-444a-edda-3ace5297e789"
      },
      "execution_count": null,
      "outputs": [
        {
          "output_type": "stream",
          "name": "stdout",
          "text": [
            "51\n",
            "54\n",
            "25\n",
            "14\n",
            "27\n",
            "98\n",
            "46\n",
            "35\n",
            "25\n",
            "28\n",
            "\n"
          ]
        }
      ]
    },
    {
      "cell_type": "code",
      "source": [
        "f= open('./sample.txt','r')\n",
        "sum1= 0;\n",
        "for line in f.readlines():\n",
        "    sum1 += int(line)\n",
        "\n",
        "f.close()\n",
        "data1= f\"총합은 {sum1}입니다\"\n",
        "data2= f\"평균은 {sum1/10}입니다\"\n",
        "\n",
        "print(data1)\n",
        "print(data2)\n",
        "\n",
        "f1= open('./result2.txt','w')\n",
        "f1.write(data1+'\\n')\n",
        "f1.write(data2)\n",
        "f1.close()\n",
        "\n",
        "\n",
        "\n"
      ],
      "metadata": {
        "colab": {
          "base_uri": "https://localhost:8080/"
        },
        "id": "hsvlGXTWyxBi",
        "outputId": "dabdbc97-ea70-4391-a515-cc3b66525d65"
      },
      "execution_count": null,
      "outputs": [
        {
          "output_type": "stream",
          "name": "stdout",
          "text": [
            "총합은 676입니다\n",
            "평균은 67.6입니다\n"
          ]
        }
      ]
    },
    {
      "cell_type": "code",
      "source": [
        "with open('./sample.txt','r') as f:\n",
        "    data= [ int(line) for line in f.readlines()]\n",
        "    hap= sum(data)\n",
        "    avg= hap/len(data)\n",
        "    content=f\"{data} \\n총합은 {hap}입니다.\\n평균은 {avg}입니다\"\n",
        "    print(content)\n",
        "\n",
        "with open('./result.txt','w') as f:\n",
        "    f.write(content)\n"
      ],
      "metadata": {
        "colab": {
          "base_uri": "https://localhost:8080/"
        },
        "id": "tGKrf31O0WyK",
        "outputId": "c04d490c-2900-413c-8855-9198a2d593cf"
      },
      "execution_count": null,
      "outputs": [
        {
          "output_type": "stream",
          "name": "stdout",
          "text": [
            "[83, 18, 20, 93, 70, 83, 85, 95, 65, 64] \n",
            "총합은 676입니다.\n",
            "평균은 67.6입니다\n"
          ]
        }
      ]
    },
    {
      "cell_type": "markdown",
      "source": [
        "##클래스"
      ],
      "metadata": {
        "id": "sVWF2zak-kKH"
      }
    },
    {
      "cell_type": "code",
      "source": [
        "data = list()  #인스턴스 생성\n",
        "data2= list()\n",
        "print(type(data))\n",
        "data=[1,2,3,4,5]\n",
        "data2.append(100)\n",
        "print(data)\n",
        "print(data2)"
      ],
      "metadata": {
        "colab": {
          "base_uri": "https://localhost:8080/"
        },
        "id": "Ode3uKXH5J3i",
        "outputId": "43185dfe-4d06-4ecc-eb92-f93e946b6416"
      },
      "execution_count": null,
      "outputs": [
        {
          "output_type": "stream",
          "name": "stdout",
          "text": [
            "<class 'list'>\n",
            "[1, 2, 3, 4, 5]\n",
            "[100]\n"
          ]
        }
      ]
    }
  ]
}