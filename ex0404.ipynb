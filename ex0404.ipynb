{
  "nbformat": 4,
  "nbformat_minor": 0,
  "metadata": {
    "colab": {
      "provenance": [],
      "authorship_tag": "ABX9TyPSksTd/GRKPqyqBlyLTINS",
      "include_colab_link": true
    },
    "kernelspec": {
      "name": "python3",
      "display_name": "Python 3"
    },
    "language_info": {
      "name": "python"
    }
  },
  "cells": [
    {
      "cell_type": "markdown",
      "metadata": {
        "id": "view-in-github",
        "colab_type": "text"
      },
      "source": [
        "<a href=\"https://colab.research.google.com/github/leejeongeun97/dataAnalysis/blob/main/ex0404.ipynb\" target=\"_parent\"><img src=\"https://colab.research.google.com/assets/colab-badge.svg\" alt=\"Open In Colab\"/></a>"
      ]
    },
    {
      "cell_type": "markdown",
      "source": [
        "#반복문"
      ],
      "metadata": {
        "id": "-bWSWoLBmrys"
      }
    },
    {
      "cell_type": "code",
      "execution_count": 12,
      "metadata": {
        "colab": {
          "base_uri": "https://localhost:8080/"
        },
        "id": "cppRvfUceg4N",
        "outputId": "e5e73cb9-9c1e-40e8-aa8a-b76873571d56"
      },
      "outputs": [
        {
          "output_type": "stream",
          "name": "stdout",
          "text": [
            "test\n",
            "test\n",
            "\n",
            "\n",
            "test\n",
            "test\n",
            "test\n",
            "\n",
            "\n",
            "파\n",
            "이\n",
            "썬\n",
            "1 2\n",
            "3 4\n",
            "5 6\n"
          ]
        }
      ],
      "source": [
        "for _ in range(1,3,1):\n",
        " print(\"test\")\n",
        "\n",
        "print(\"\\n\")\n",
        "\n",
        "for _ in range(3):\n",
        " print(\"test\")\n",
        "\n",
        "print(\"\\n\")\n",
        "\n",
        "for b in ['파','이','썬']:\n",
        "    print(b)\n",
        "\n",
        "print(\"\\n\")\n",
        "\n",
        "a=[(1,2),(3,4),(5,6)]\n",
        "for first,last in a :\n",
        "    print(first,last )\n",
        "\n"
      ]
    },
    {
      "cell_type": "markdown",
      "source": [
        "###  한줄에 for"
      ],
      "metadata": {
        "id": "d6eUNpQUt1Nh"
      }
    },
    {
      "cell_type": "code",
      "source": [
        "a= list(range(1,11))\n",
        "print(a)\n",
        "\n",
        "b= list(range(10,0,-1))\n",
        "print(b)\n",
        "\n",
        "for i in a:\n",
        "    print(i,end=' ')  ##붙여서 출력하고 싶을때\n",
        "\n",
        "print()\n",
        "for i in a:\n",
        "    print(i,end=',')  ##',' 출력하고 싶을때\n",
        "print(\"\\n\")\n",
        "for i in 'python':\n",
        "    print(i)\n",
        "print(\"\\n\")\n",
        "\n"
      ],
      "metadata": {
        "colab": {
          "base_uri": "https://localhost:8080/"
        },
        "id": "4CoVeXkkoT_Z",
        "outputId": "b2020435-8d96-4e26-cbbb-a2386dd76752"
      },
      "execution_count": 28,
      "outputs": [
        {
          "output_type": "stream",
          "name": "stdout",
          "text": [
            "[1, 2, 3, 4, 5, 6, 7, 8, 9, 10]\n",
            "[10, 9, 8, 7, 6, 5, 4, 3, 2, 1]\n",
            "1 2 3 4 5 6 7 8 9 10 \n",
            "1,2,3,4,5,6,7,8,9,10,\n",
            "\n",
            "p\n",
            "y\n",
            "t\n",
            "h\n",
            "o\n",
            "n\n",
            "\n",
            "\n"
          ]
        }
      ]
    },
    {
      "cell_type": "markdown",
      "source": [
        "##리스트"
      ],
      "metadata": {
        "id": "4T5sUURWt8jQ"
      }
    },
    {
      "cell_type": "markdown",
      "source": [],
      "metadata": {
        "id": "3x86wIr3t8gS"
      }
    },
    {
      "cell_type": "code",
      "source": [
        "fruits=['사과','포도','딸기','키위']\n",
        "for idx, fruit in enumerate(fruits):\n",
        "    print(idx, fruit)\n",
        "\n",
        "print(\"\")\n",
        "idx=0\n",
        "for fruit in fruits:\n",
        "    print(idx, fruit)\n",
        "    idx+=1"
      ],
      "metadata": {
        "colab": {
          "base_uri": "https://localhost:8080/"
        },
        "id": "4aMFtIXarjYj",
        "outputId": "a14ddedc-d17a-471f-8309-30b43b491172"
      },
      "execution_count": 38,
      "outputs": [
        {
          "output_type": "stream",
          "name": "stdout",
          "text": [
            "0 사과\n",
            "1 포도\n",
            "2 딸기\n",
            "3 키위\n",
            "\n",
            "0 사과\n",
            "1 포도\n",
            "2 딸기\n",
            "3 키위\n"
          ]
        }
      ]
    },
    {
      "cell_type": "code",
      "source": [
        "##딕셔너리"
      ],
      "metadata": {
        "id": "xl8mRmG1uAzi"
      },
      "execution_count": null,
      "outputs": []
    },
    {
      "cell_type": "code",
      "source": [
        "dic ={1:'사과',2:'포도'}\n",
        "\n",
        "for key in dic\n",
        "    print\n",
        "for key, value in dic.items():\n",
        "    print(key,value)"
      ],
      "metadata": {
        "colab": {
          "base_uri": "https://localhost:8080/",
          "height": 110
        },
        "id": "UQb-jNUis2m5",
        "outputId": "c232fb30-661e-4537-f0c4-215f933b6b56"
      },
      "execution_count": 67,
      "outputs": [
        {
          "output_type": "error",
          "ename": "SyntaxError",
          "evalue": "expected ':' (<ipython-input-67-2a6e270073a8>, line 3)",
          "traceback": [
            "\u001b[0;36m  File \u001b[0;32m\"<ipython-input-67-2a6e270073a8>\"\u001b[0;36m, line \u001b[0;32m3\u001b[0m\n\u001b[0;31m    for key in dic\u001b[0m\n\u001b[0m                  ^\u001b[0m\n\u001b[0;31mSyntaxError\u001b[0m\u001b[0;31m:\u001b[0m expected ':'\n"
          ]
        }
      ]
    },
    {
      "cell_type": "markdown",
      "source": [
        "##집합"
      ],
      "metadata": {
        "id": "AQmGWwgduP91"
      }
    },
    {
      "cell_type": "code",
      "source": [
        "for v in {1,2,3,3,4,5,3}:\n",
        "    print(v)"
      ],
      "metadata": {
        "colab": {
          "base_uri": "https://localhost:8080/"
        },
        "id": "rbOLgJL6toTC",
        "outputId": "2d0b173f-2f4f-4f8b-a2e4-2aa1b1e39e10"
      },
      "execution_count": 46,
      "outputs": [
        {
          "output_type": "stream",
          "name": "stdout",
          "text": [
            "1\n",
            "2\n",
            "3\n",
            "4\n",
            "5\n"
          ]
        }
      ]
    },
    {
      "cell_type": "code",
      "source": [
        "for i in range(1,101):\n",
        "    if i%10 != 0:\n",
        "        print(\"%02i\"%i, end=',')\n",
        "    else:\n",
        "        print(i)\n"
      ],
      "metadata": {
        "colab": {
          "base_uri": "https://localhost:8080/"
        },
        "id": "sKmsRjtuqoi7",
        "outputId": "66ea5a32-6e42-41cd-c1ab-672374722b4e"
      },
      "execution_count": 40,
      "outputs": [
        {
          "output_type": "stream",
          "name": "stdout",
          "text": [
            "01,02,03,04,05,06,07,08,09,10\n",
            "11,12,13,14,15,16,17,18,19,20\n",
            "21,22,23,24,25,26,27,28,29,30\n",
            "31,32,33,34,35,36,37,38,39,40\n",
            "41,42,43,44,45,46,47,48,49,50\n",
            "51,52,53,54,55,56,57,58,59,60\n",
            "61,62,63,64,65,66,67,68,69,70\n",
            "71,72,73,74,75,76,77,78,79,80\n",
            "81,82,83,84,85,86,87,88,89,90\n",
            "91,92,93,94,95,96,97,98,99,100\n"
          ]
        }
      ]
    },
    {
      "cell_type": "markdown",
      "source": [
        "###실습1 입력받은 숫자에서 홀수만 더하기"
      ],
      "metadata": {
        "id": "mJpp_IDnxP3A"
      }
    },
    {
      "cell_type": "code",
      "source": [
        "n= int(input('합계를 구할 숫자 입력:'))\n",
        "hap = 0\n",
        "\n",
        "for i in range (0,n+1):\n",
        "    if i%2 != 0:\n",
        "     hap+=i\n",
        "\n",
        "print(f'1~{n}까지 짝수를 제외한 합은: {hap}')"
      ],
      "metadata": {
        "colab": {
          "base_uri": "https://localhost:8080/"
        },
        "id": "QynB24GauXEO",
        "outputId": "884591d8-d8d4-451d-cd8a-098ca3a6e168"
      },
      "execution_count": 49,
      "outputs": [
        {
          "output_type": "stream",
          "name": "stdout",
          "text": [
            "합계를 구할 숫자 입력:10\n",
            "1~10까지 짝수를 제외한 합은: 25\n"
          ]
        }
      ]
    },
    {
      "cell_type": "markdown",
      "source": [
        "###실습1 입력받은 숫자에서 홀수만 더하기  -- 다른 방식"
      ],
      "metadata": {
        "id": "tfnzsrs7xYHA"
      }
    },
    {
      "cell_type": "code",
      "source": [
        "n= int(input('합계를 구할 숫자 입력:'))\n",
        "hap = sum([i for i in range(1,n+1,2)])\n",
        "\n",
        "print(hap)\n",
        "\n",
        "n= int(input('합계를 구할 숫자 입력:'))\n",
        "hap = 0\n",
        "\n",
        "\n",
        "##방법2\n",
        "for i in range (1,n+1,2):\n",
        "     hap+=i\n",
        "\n",
        "print(f'1~{n}까지 짝수를 제외한 합은: {hap}')"
      ],
      "metadata": {
        "colab": {
          "base_uri": "https://localhost:8080/"
        },
        "id": "vltsZgsRwYWC",
        "outputId": "1971a101-4b21-48e3-a941-d7c7e4ce9cab"
      },
      "execution_count": 51,
      "outputs": [
        {
          "output_type": "stream",
          "name": "stdout",
          "text": [
            "합계를 구할 숫자 입력:10\n",
            "25\n",
            "합계를 구할 숫자 입력:10\n",
            "1~10까지 짝수를 제외한 합은: 25\n"
          ]
        }
      ]
    },
    {
      "cell_type": "markdown",
      "source": [
        "##정오각형 그리기\n",
        " - turtle 모듈은 코랩에서 사용할수 없음 다른 곳에서 사용 가능 idle"
      ],
      "metadata": {
        "id": "rjzbiTdE2m8Y"
      }
    },
    {
      "cell_type": "code",
      "source": [
        "import turtle\n",
        "t1= turtle.Pen()\n",
        "t2= turtle.Pen()\n",
        "\n",
        "t1.shape('turtle')\n",
        "t1.color(\"blue\")\n",
        "t1.pensize(5)\n",
        "\n",
        "t2.up()\n",
        "t2.goto(-200,100)\n",
        "t2.down()\n",
        "\n",
        "t2.shape('circle')\n",
        "t2.color(\"red\")\n",
        "t2.pensize(5)\n",
        "\n",
        "for _ in range(5):\n",
        "    t1.forward(100)\n",
        "    t1.right(72)\n",
        "\n",
        "\n",
        "for _ in range(4):\n",
        "    t2.forward(100)\n",
        "    t2.right(90)\n",
        "\n",
        "turtle.exitonclick()\n",
        "\n",
        "\n"
      ],
      "metadata": {
        "colab": {
          "base_uri": "https://localhost:8080/",
          "height": 370
        },
        "id": "YCmTd_O-1rYQ",
        "outputId": "38037111-c6b7-4461-e50f-73a8592a9c6f"
      },
      "execution_count": 53,
      "outputs": [
        {
          "output_type": "error",
          "ename": "TclError",
          "evalue": "no display name and no $DISPLAY environment variable",
          "traceback": [
            "\u001b[0;31m---------------------------------------------------------------------------\u001b[0m",
            "\u001b[0;31mTclError\u001b[0m                                  Traceback (most recent call last)",
            "\u001b[0;32m<ipython-input-53-db30d2e968cc>\u001b[0m in \u001b[0;36m<cell line: 2>\u001b[0;34m()\u001b[0m\n\u001b[1;32m      1\u001b[0m \u001b[0;32mimport\u001b[0m \u001b[0mturtle\u001b[0m\u001b[0;34m\u001b[0m\u001b[0;34m\u001b[0m\u001b[0m\n\u001b[0;32m----> 2\u001b[0;31m \u001b[0mt\u001b[0m\u001b[0;34m=\u001b[0m \u001b[0mturtle\u001b[0m\u001b[0;34m.\u001b[0m\u001b[0mPen\u001b[0m\u001b[0;34m(\u001b[0m\u001b[0;34m)\u001b[0m\u001b[0;34m\u001b[0m\u001b[0;34m\u001b[0m\u001b[0m\n\u001b[0m\u001b[1;32m      3\u001b[0m \u001b[0;34m\u001b[0m\u001b[0m\n\u001b[1;32m      4\u001b[0m \u001b[0mt\u001b[0m\u001b[0;34m.\u001b[0m\u001b[0mshape\u001b[0m\u001b[0;34m(\u001b[0m\u001b[0;34m'turtle'\u001b[0m\u001b[0;34m)\u001b[0m\u001b[0;34m\u001b[0m\u001b[0;34m\u001b[0m\u001b[0m\n\u001b[1;32m      5\u001b[0m \u001b[0mt\u001b[0m\u001b[0;34m.\u001b[0m\u001b[0mcolor\u001b[0m\u001b[0;34m(\u001b[0m\u001b[0;34m\"red\"\u001b[0m\u001b[0;34m)\u001b[0m\u001b[0;34m\u001b[0m\u001b[0;34m\u001b[0m\u001b[0m\n",
            "\u001b[0;32m/usr/lib/python3.10/turtle.py\u001b[0m in \u001b[0;36m__init__\u001b[0;34m(self, shape, undobuffersize, visible)\u001b[0m\n\u001b[1;32m   3812\u001b[0m                  visible=_CFG[\"visible\"]):\n\u001b[1;32m   3813\u001b[0m         \u001b[0;32mif\u001b[0m \u001b[0mTurtle\u001b[0m\u001b[0;34m.\u001b[0m\u001b[0m_screen\u001b[0m \u001b[0;32mis\u001b[0m \u001b[0;32mNone\u001b[0m\u001b[0;34m:\u001b[0m\u001b[0;34m\u001b[0m\u001b[0;34m\u001b[0m\u001b[0m\n\u001b[0;32m-> 3814\u001b[0;31m             \u001b[0mTurtle\u001b[0m\u001b[0;34m.\u001b[0m\u001b[0m_screen\u001b[0m \u001b[0;34m=\u001b[0m \u001b[0mScreen\u001b[0m\u001b[0;34m(\u001b[0m\u001b[0;34m)\u001b[0m\u001b[0;34m\u001b[0m\u001b[0;34m\u001b[0m\u001b[0m\n\u001b[0m\u001b[1;32m   3815\u001b[0m         RawTurtle.__init__(self, Turtle._screen,\n\u001b[1;32m   3816\u001b[0m                            \u001b[0mshape\u001b[0m\u001b[0;34m=\u001b[0m\u001b[0mshape\u001b[0m\u001b[0;34m,\u001b[0m\u001b[0;34m\u001b[0m\u001b[0;34m\u001b[0m\u001b[0m\n",
            "\u001b[0;32m/usr/lib/python3.10/turtle.py\u001b[0m in \u001b[0;36mScreen\u001b[0;34m()\u001b[0m\n\u001b[1;32m   3662\u001b[0m     else return the existing one.\"\"\"\n\u001b[1;32m   3663\u001b[0m     \u001b[0;32mif\u001b[0m \u001b[0mTurtle\u001b[0m\u001b[0;34m.\u001b[0m\u001b[0m_screen\u001b[0m \u001b[0;32mis\u001b[0m \u001b[0;32mNone\u001b[0m\u001b[0;34m:\u001b[0m\u001b[0;34m\u001b[0m\u001b[0;34m\u001b[0m\u001b[0m\n\u001b[0;32m-> 3664\u001b[0;31m         \u001b[0mTurtle\u001b[0m\u001b[0;34m.\u001b[0m\u001b[0m_screen\u001b[0m \u001b[0;34m=\u001b[0m \u001b[0m_Screen\u001b[0m\u001b[0;34m(\u001b[0m\u001b[0;34m)\u001b[0m\u001b[0;34m\u001b[0m\u001b[0;34m\u001b[0m\u001b[0m\n\u001b[0m\u001b[1;32m   3665\u001b[0m     \u001b[0;32mreturn\u001b[0m \u001b[0mTurtle\u001b[0m\u001b[0;34m.\u001b[0m\u001b[0m_screen\u001b[0m\u001b[0;34m\u001b[0m\u001b[0;34m\u001b[0m\u001b[0m\n\u001b[1;32m   3666\u001b[0m \u001b[0;34m\u001b[0m\u001b[0m\n",
            "\u001b[0;32m/usr/lib/python3.10/turtle.py\u001b[0m in \u001b[0;36m__init__\u001b[0;34m(self)\u001b[0m\n\u001b[1;32m   3678\u001b[0m         \u001b[0;31m# preserved (perhaps by passing it as an optional parameter)\u001b[0m\u001b[0;34m\u001b[0m\u001b[0;34m\u001b[0m\u001b[0m\n\u001b[1;32m   3679\u001b[0m         \u001b[0;32mif\u001b[0m \u001b[0m_Screen\u001b[0m\u001b[0;34m.\u001b[0m\u001b[0m_root\u001b[0m \u001b[0;32mis\u001b[0m \u001b[0;32mNone\u001b[0m\u001b[0;34m:\u001b[0m\u001b[0;34m\u001b[0m\u001b[0;34m\u001b[0m\u001b[0m\n\u001b[0;32m-> 3680\u001b[0;31m             \u001b[0m_Screen\u001b[0m\u001b[0;34m.\u001b[0m\u001b[0m_root\u001b[0m \u001b[0;34m=\u001b[0m \u001b[0mself\u001b[0m\u001b[0;34m.\u001b[0m\u001b[0m_root\u001b[0m \u001b[0;34m=\u001b[0m \u001b[0m_Root\u001b[0m\u001b[0;34m(\u001b[0m\u001b[0;34m)\u001b[0m\u001b[0;34m\u001b[0m\u001b[0;34m\u001b[0m\u001b[0m\n\u001b[0m\u001b[1;32m   3681\u001b[0m             \u001b[0mself\u001b[0m\u001b[0;34m.\u001b[0m\u001b[0m_root\u001b[0m\u001b[0;34m.\u001b[0m\u001b[0mtitle\u001b[0m\u001b[0;34m(\u001b[0m\u001b[0m_Screen\u001b[0m\u001b[0;34m.\u001b[0m\u001b[0m_title\u001b[0m\u001b[0;34m)\u001b[0m\u001b[0;34m\u001b[0m\u001b[0;34m\u001b[0m\u001b[0m\n\u001b[1;32m   3682\u001b[0m             \u001b[0mself\u001b[0m\u001b[0;34m.\u001b[0m\u001b[0m_root\u001b[0m\u001b[0;34m.\u001b[0m\u001b[0mondestroy\u001b[0m\u001b[0;34m(\u001b[0m\u001b[0mself\u001b[0m\u001b[0;34m.\u001b[0m\u001b[0m_destroy\u001b[0m\u001b[0;34m)\u001b[0m\u001b[0;34m\u001b[0m\u001b[0;34m\u001b[0m\u001b[0m\n",
            "\u001b[0;32m/usr/lib/python3.10/turtle.py\u001b[0m in \u001b[0;36m__init__\u001b[0;34m(self)\u001b[0m\n\u001b[1;32m    433\u001b[0m     \u001b[0;34m\"\"\"Root class for Screen based on Tkinter.\"\"\"\u001b[0m\u001b[0;34m\u001b[0m\u001b[0;34m\u001b[0m\u001b[0m\n\u001b[1;32m    434\u001b[0m     \u001b[0;32mdef\u001b[0m \u001b[0m__init__\u001b[0m\u001b[0;34m(\u001b[0m\u001b[0mself\u001b[0m\u001b[0;34m)\u001b[0m\u001b[0;34m:\u001b[0m\u001b[0;34m\u001b[0m\u001b[0;34m\u001b[0m\u001b[0m\n\u001b[0;32m--> 435\u001b[0;31m         \u001b[0mTK\u001b[0m\u001b[0;34m.\u001b[0m\u001b[0mTk\u001b[0m\u001b[0;34m.\u001b[0m\u001b[0m__init__\u001b[0m\u001b[0;34m(\u001b[0m\u001b[0mself\u001b[0m\u001b[0;34m)\u001b[0m\u001b[0;34m\u001b[0m\u001b[0;34m\u001b[0m\u001b[0m\n\u001b[0m\u001b[1;32m    436\u001b[0m \u001b[0;34m\u001b[0m\u001b[0m\n\u001b[1;32m    437\u001b[0m     \u001b[0;32mdef\u001b[0m \u001b[0msetupcanvas\u001b[0m\u001b[0;34m(\u001b[0m\u001b[0mself\u001b[0m\u001b[0;34m,\u001b[0m \u001b[0mwidth\u001b[0m\u001b[0;34m,\u001b[0m \u001b[0mheight\u001b[0m\u001b[0;34m,\u001b[0m \u001b[0mcwidth\u001b[0m\u001b[0;34m,\u001b[0m \u001b[0mcheight\u001b[0m\u001b[0;34m)\u001b[0m\u001b[0;34m:\u001b[0m\u001b[0;34m\u001b[0m\u001b[0;34m\u001b[0m\u001b[0m\n",
            "\u001b[0;32m/usr/lib/python3.10/tkinter/__init__.py\u001b[0m in \u001b[0;36m__init__\u001b[0;34m(self, screenName, baseName, className, useTk, sync, use)\u001b[0m\n\u001b[1;32m   2297\u001b[0m                 \u001b[0mbaseName\u001b[0m \u001b[0;34m=\u001b[0m \u001b[0mbaseName\u001b[0m \u001b[0;34m+\u001b[0m \u001b[0mext\u001b[0m\u001b[0;34m\u001b[0m\u001b[0;34m\u001b[0m\u001b[0m\n\u001b[1;32m   2298\u001b[0m         \u001b[0minteractive\u001b[0m \u001b[0;34m=\u001b[0m \u001b[0;32mFalse\u001b[0m\u001b[0;34m\u001b[0m\u001b[0;34m\u001b[0m\u001b[0m\n\u001b[0;32m-> 2299\u001b[0;31m         \u001b[0mself\u001b[0m\u001b[0;34m.\u001b[0m\u001b[0mtk\u001b[0m \u001b[0;34m=\u001b[0m \u001b[0m_tkinter\u001b[0m\u001b[0;34m.\u001b[0m\u001b[0mcreate\u001b[0m\u001b[0;34m(\u001b[0m\u001b[0mscreenName\u001b[0m\u001b[0;34m,\u001b[0m \u001b[0mbaseName\u001b[0m\u001b[0;34m,\u001b[0m \u001b[0mclassName\u001b[0m\u001b[0;34m,\u001b[0m \u001b[0minteractive\u001b[0m\u001b[0;34m,\u001b[0m \u001b[0mwantobjects\u001b[0m\u001b[0;34m,\u001b[0m \u001b[0museTk\u001b[0m\u001b[0;34m,\u001b[0m \u001b[0msync\u001b[0m\u001b[0;34m,\u001b[0m \u001b[0muse\u001b[0m\u001b[0;34m)\u001b[0m\u001b[0;34m\u001b[0m\u001b[0;34m\u001b[0m\u001b[0m\n\u001b[0m\u001b[1;32m   2300\u001b[0m         \u001b[0;32mif\u001b[0m \u001b[0museTk\u001b[0m\u001b[0;34m:\u001b[0m\u001b[0;34m\u001b[0m\u001b[0;34m\u001b[0m\u001b[0m\n\u001b[1;32m   2301\u001b[0m             \u001b[0mself\u001b[0m\u001b[0;34m.\u001b[0m\u001b[0m_loadtk\u001b[0m\u001b[0;34m(\u001b[0m\u001b[0;34m)\u001b[0m\u001b[0;34m\u001b[0m\u001b[0;34m\u001b[0m\u001b[0m\n",
            "\u001b[0;31mTclError\u001b[0m: no display name and no $DISPLAY environment variable"
          ]
        }
      ]
    },
    {
      "cell_type": "markdown",
      "source": [
        "##1~100까지 출력"
      ],
      "metadata": {
        "id": "0bvNKOpL8bqb"
      }
    },
    {
      "cell_type": "code",
      "source": [
        "for i in range (1,101):\n",
        "    print(i,end=' ')\n",
        "\n"
      ],
      "metadata": {
        "colab": {
          "base_uri": "https://localhost:8080/",
          "height": 110
        },
        "id": "LBurYelt8A2v",
        "outputId": "4a376514-3c4b-4eed-a9de-7e90ef4c01bf"
      },
      "execution_count": 58,
      "outputs": [
        {
          "output_type": "stream",
          "name": "stdout",
          "text": [
            "1 2 3 4 5 6 7 8 9 10 11 12 13 14 15 16 17 18 19 20 21 22 23 24 25 26 27 28 29 30 31 32 33 34 35 36 37 38 39 40 41 42 43 44 45 46 47 48 49 50 51 52 53 54 55 56 57 58 59 60 61 62 63 64 65 66 67 68 69 70 71 72 73 74 75 76 77 78 79 80 81 82 83 84 85 86 87 88 89 90 91 92 93 94 95 96 97 98 99 100 "
          ]
        },
        {
          "output_type": "execute_result",
          "data": {
            "text/plain": [
              "'1 2 3 4 5 6 7 8 9 10 11 12 13 14 15 16 17 18 19 20 21 22 23 24 25 26 27 28 29 30 31 32 33 34 35 36 37 38 39 40 41 42 43 44 45 46 47 48 49 50 51 52 53 54 55 56 57 58 59 60 61 62 63 64 65 66 67 68 69 70 71 72 73 74 75 76 77 78 79 80 81 82 83 84 85 86 87 88 89 90 91 92 93 94 95 96 97 98 99 100'"
            ],
            "application/vnd.google.colaboratory.intrinsic+json": {
              "type": "string"
            }
          },
          "metadata": {},
          "execution_count": 58
        }
      ]
    },
    {
      "cell_type": "code",
      "source": [
        "\n",
        "print(' '.join([str(i) for i in range (1,101)]))"
      ],
      "metadata": {
        "colab": {
          "base_uri": "https://localhost:8080/"
        },
        "id": "fXmUXuzp9NOW",
        "outputId": "422b1985-ffa9-4f1a-9543-6b02c7893cce"
      },
      "execution_count": 60,
      "outputs": [
        {
          "output_type": "stream",
          "name": "stdout",
          "text": [
            "1 2 3 4 5 6 7 8 9 10 11 12 13 14 15 16 17 18 19 20 21 22 23 24 25 26 27 28 29 30 31 32 33 34 35 36 37 38 39 40 41 42 43 44 45 46 47 48 49 50 51 52 53 54 55 56 57 58 59 60 61 62 63 64 65 66 67 68 69 70 71 72 73 74 75 76 77 78 79 80 81 82 83 84 85 86 87 88 89 90 91 92 93 94 95 96 97 98 99 100\n"
          ]
        }
      ]
    },
    {
      "cell_type": "code",
      "source": [
        "import random\n",
        "\n",
        "#score = random.sample(range(1,100),5)\n",
        "#for _ in range(5): score.append(random.randint(1,101))\n",
        "score = [random.randint(1,100) for _ in range(5)]\n",
        "\n",
        "\n",
        "\n",
        "for index,i in enumerate(score):\n",
        "    print(f'{index+1}번 학생 {i}점은 ',end='')\n",
        "    mess = \"합격\" if i>=60 else \"불합격\"\n",
        "    print(mess)\n",
        "#    if i >=60 :\n",
        "#        print(\"합격입니다\")\n",
        "#    else:\n",
        "#        print(\"불합격입니다\")\n"
      ],
      "metadata": {
        "colab": {
          "base_uri": "https://localhost:8080/"
        },
        "id": "9NcBISC29gET",
        "outputId": "4d28496a-5719-431b-b173-ca01b1b81167"
      },
      "execution_count": 83,
      "outputs": [
        {
          "output_type": "stream",
          "name": "stdout",
          "text": [
            "1번 학생 72점은 합격\n",
            "2번 학생 8점은 불합격\n",
            "3번 학생 46점은 불합격\n",
            "4번 학생 42점은 불합격\n",
            "5번 학생 24점은 불합격\n"
          ]
        }
      ]
    },
    {
      "cell_type": "code",
      "source": [
        "a_list = list(input('괄호:'))\n",
        "result =0\n",
        "\n",
        "\n",
        "for i in a_list :\n",
        "    result+= 1 if i == '(' else  -1\n",
        "    if result < 0 :\n",
        "        break\n",
        "\n",
        "print(\"성공\" if result == 0 else \"실패\")\n",
        "\n",
        "# if result == 0 :\n",
        "#      print(\"성공\")\n",
        "# else:\n",
        "#      print(\"실패\")\n"
      ],
      "metadata": {
        "colab": {
          "base_uri": "https://localhost:8080/"
        },
        "id": "tru8hFWOD_7N",
        "outputId": "0e4035e8-4607-4907-e265-cff8c99c2de9"
      },
      "execution_count": 114,
      "outputs": [
        {
          "output_type": "stream",
          "name": "stdout",
          "text": [
            "괄호:()\n",
            "성공\n"
          ]
        }
      ]
    },
    {
      "cell_type": "code",
      "source": [
        "p_list =[')))()()(((','()()()()())','()(())()()','))(())((','()(()))(','((())())']\n",
        "\n",
        "for a_list in p_list :\n",
        "    result = 0\n",
        "    print(a_list, end=' ')\n",
        "    for i in a_list :\n",
        "        result+= 1 if i == '(' else  -1\n",
        "        if result < 0 :\n",
        "            break\n",
        "    print(\"=> 성공\" if result == 0 else \"=> 실패\")\n",
        "\n",
        "\n"
      ],
      "metadata": {
        "colab": {
          "base_uri": "https://localhost:8080/"
        },
        "id": "wz95idBbIyuN",
        "outputId": "3ea5c7e9-769d-4d40-fdaf-51e25bb98336"
      },
      "execution_count": 111,
      "outputs": [
        {
          "output_type": "stream",
          "name": "stdout",
          "text": [
            ")))()()((( => 실패\n",
            "()()()()()) => 실패\n",
            "()(())()() => 성공\n",
            "))(())(( => 실패\n",
            "()(()))( => 실패\n",
            "((())()) => 성공\n"
          ]
        }
      ]
    },
    {
      "cell_type": "markdown",
      "source": [],
      "metadata": {
        "id": "8odFRxrePBW9"
      }
    },
    {
      "cell_type": "code",
      "source": [
        "for i in range(3):\n",
        "    for j in range(3):\n",
        "        print(i, j)"
      ],
      "metadata": {
        "colab": {
          "base_uri": "https://localhost:8080/"
        },
        "id": "CGpAUMacHOp9",
        "outputId": "b8b9c3c0-4eff-4b0c-fc48-5d6d316d8609"
      },
      "execution_count": 101,
      "outputs": [
        {
          "output_type": "stream",
          "name": "stdout",
          "text": [
            "0 0\n",
            "0 1\n",
            "0 2\n",
            "1 0\n",
            "1 1\n",
            "1 2\n",
            "2 0\n",
            "2 1\n",
            "2 2\n"
          ]
        }
      ]
    },
    {
      "cell_type": "markdown",
      "source": [
        "##while"
      ],
      "metadata": {
        "id": "8sGf3b48SLiC"
      }
    },
    {
      "cell_type": "code",
      "source": [
        "a=0\n",
        "while a<5 :\n",
        "    print(f'{a}는 5보다 작군요')\n",
        "    a+=1\n",
        "print(f'{a}는 5와 같군요')\n"
      ],
      "metadata": {
        "colab": {
          "base_uri": "https://localhost:8080/"
        },
        "id": "hSkkhOQwRzPr",
        "outputId": "ddd044e2-05e2-41f0-fc0f-565432193750"
      },
      "execution_count": 115,
      "outputs": [
        {
          "output_type": "stream",
          "name": "stdout",
          "text": [
            "0는 5보다 작군요\n",
            "1는 5보다 작군요\n",
            "2는 5보다 작군요\n",
            "3는 5보다 작군요\n",
            "4는 5보다 작군요\n",
            "5는 5군요\n"
          ]
        }
      ]
    },
    {
      "cell_type": "code",
      "source": [
        "a=0\n",
        "while True :\n",
        "    if a>=5:break\n",
        "    print(f'{a}는 5보다 작군요')\n",
        "    a+=1\n",
        "print(f'{a}는 5와 같군요')\n"
      ],
      "metadata": {
        "colab": {
          "base_uri": "https://localhost:8080/"
        },
        "id": "6c6VxQixSRds",
        "outputId": "2fad8480-e4e3-4a45-916b-180cc05d7fa0"
      },
      "execution_count": 116,
      "outputs": [
        {
          "output_type": "stream",
          "name": "stdout",
          "text": [
            "0는 5보다 작군요\n",
            "1는 5보다 작군요\n",
            "2는 5보다 작군요\n",
            "3는 5보다 작군요\n",
            "4는 5보다 작군요\n",
            "5는 5와 같군요\n"
          ]
        }
      ]
    },
    {
      "cell_type": "code",
      "source": [
        "treeHit=0\n",
        "while treeHit<10 :\n",
        "    print(f'나무를 {treeHit+1}번 찍었습니다')\n",
        "    treeHit+=1\n",
        "print(f'나무 넘어갑니다')"
      ],
      "metadata": {
        "colab": {
          "base_uri": "https://localhost:8080/"
        },
        "id": "Dqdq4ChdTApr",
        "outputId": "0765a771-c266-4c56-b030-c4ce5f1ce89f"
      },
      "execution_count": 117,
      "outputs": [
        {
          "output_type": "stream",
          "name": "stdout",
          "text": [
            "나무를 1번 찍었습니다\n",
            "나무를 2번 찍었습니다\n",
            "나무를 3번 찍었습니다\n",
            "나무를 4번 찍었습니다\n",
            "나무를 5번 찍었습니다\n",
            "나무를 6번 찍었습니다\n",
            "나무를 7번 찍었습니다\n",
            "나무를 8번 찍었습니다\n",
            "나무를 9번 찍었습니다\n",
            "나무를 10번 찍었습니다\n",
            "나무 넘어갑니다\n"
          ]
        }
      ]
    }
  ]
}