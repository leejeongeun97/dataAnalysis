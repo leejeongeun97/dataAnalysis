{
  "nbformat": 4,
  "nbformat_minor": 0,
  "metadata": {
    "colab": {
      "provenance": [],
      "authorship_tag": "ABX9TyM42BuJC5U9UsvNyTbodu7x",
      "include_colab_link": true
    },
    "kernelspec": {
      "name": "python3",
      "display_name": "Python 3"
    },
    "language_info": {
      "name": "python"
    }
  },
  "cells": [
    {
      "cell_type": "markdown",
      "metadata": {
        "id": "view-in-github",
        "colab_type": "text"
      },
      "source": [
        "<a href=\"https://colab.research.google.com/github/leejeongeun97/dataAnalysis/blob/main/ex0402.ipynb\" target=\"_parent\"><img src=\"https://colab.research.google.com/assets/colab-badge.svg\" alt=\"Open In Colab\"/></a>"
      ]
    },
    {
      "cell_type": "code",
      "execution_count": 11,
      "metadata": {
        "colab": {
          "base_uri": "https://localhost:8080/"
        },
        "id": "7-OR9EukS4x2",
        "outputId": "1dac7efd-f8c9-4c83-ed4e-db788e3de58f"
      },
      "outputs": [
        {
          "output_type": "stream",
          "name": "stdout",
          "text": [
            "{1, 2, 3, 'a', 'b', 'c'}\n",
            "{1, 2, 3, 'c', 4, 'd', 'b', 'e', 'a'}\n",
            "{1, 2, 3, 'c', 4, 'd', 'end', 'b', 'e', 'a'}\n"
          ]
        }
      ],
      "source": []
    },
    {
      "cell_type": "markdown",
      "source": [
        "#3. 컬렉션 자료형\n"
      ],
      "metadata": {
        "id": "GHSymwWxTwMQ"
      }
    },
    {
      "cell_type": "markdown",
      "source": [
        "#리스트 생성"
      ],
      "metadata": {
        "id": "NAwd7t9rZAn-"
      }
    },
    {
      "cell_type": "code",
      "source": [
        "\n",
        "import math\n",
        "a=[1,2,3,4,5]\n",
        "print(type(a))\n",
        "print(a)\n",
        "\n",
        "b=[1,'apple','딸기',3.14,math.pi,max([10,20,30]) ]\n",
        "print(b)\n",
        "\n",
        "c=[1,2,a,['사과','딸기'],{'k':'kiwi'}]\n",
        "print(c)\n",
        "\n",
        "numlist=[]\n",
        "for num in range (1,21,2):\n",
        "  numlist.append(num)\n",
        "print(numlist)\n",
        "\n",
        "print(b)\n",
        "for i in b:\n",
        "  print(i)\n",
        "\n",
        "num2=list(range(1,21,2))\n",
        "print(num2)"
      ],
      "metadata": {
        "colab": {
          "base_uri": "https://localhost:8080/"
        },
        "id": "u6CMIwwQT4Ef",
        "outputId": "d0c1ef28-ba55-4224-fc46-cd41967c30e4"
      },
      "execution_count": 12,
      "outputs": [
        {
          "output_type": "stream",
          "name": "stdout",
          "text": [
            "<class 'list'>\n",
            "[1, 2, 3, 4, 5]\n",
            "[1, 'apple', '딸기', 3.14, 3.141592653589793, 30]\n",
            "[1, 2, [1, 2, 3, 4, 5], ['사과', '딸기'], {'k': 'kiwi'}]\n",
            "[1, 3, 5, 7, 9, 11, 13, 15, 17, 19]\n",
            "[1, 'apple', '딸기', 3.14, 3.141592653589793, 30]\n",
            "1\n",
            "apple\n",
            "딸기\n",
            "3.14\n",
            "3.141592653589793\n",
            "30\n",
            "[1, 3, 5, 7, 9, 11, 13, 15, 17, 19]\n"
          ]
        }
      ]
    },
    {
      "cell_type": "markdown",
      "source": [
        "##리스트 요소에 접근"
      ],
      "metadata": {
        "id": "1wZaK92VZCjd"
      }
    },
    {
      "cell_type": "code",
      "source": [
        "\n",
        "colors=['빨강','초록','파랑','노랑','검정']\n",
        "print(colors[0])\n",
        "print(colors[2:4])\n",
        "print(colors[::-1])  ##거꾸로\n",
        "\n",
        "for color in colors:\n",
        "  print(f'나는 \"{color}\" 색상을 가장 좋아합니다')"
      ],
      "metadata": {
        "colab": {
          "base_uri": "https://localhost:8080/"
        },
        "id": "dzrM1TCCXWEe",
        "outputId": "1b7d0d19-2eab-4790-ca56-d807fe4059cf"
      },
      "execution_count": 15,
      "outputs": [
        {
          "output_type": "stream",
          "name": "stdout",
          "text": [
            "빨강\n",
            "['파랑', '노랑']\n",
            "['검정', '노랑', '파랑', '초록', '빨강']\n",
            "나는 \"빨강\" 색상을 가장 좋아합니다\n",
            "나는 \"초록\" 색상을 가장 좋아합니다\n",
            "나는 \"파랑\" 색상을 가장 좋아합니다\n",
            "나는 \"노랑\" 색상을 가장 좋아합니다\n",
            "나는 \"검정\" 색상을 가장 좋아합니다\n"
          ]
        }
      ]
    },
    {
      "cell_type": "markdown",
      "source": [
        "##리스트 요소 추가"
      ],
      "metadata": {
        "id": "c-4tib5GZEcm"
      }
    },
    {
      "cell_type": "code",
      "source": [
        "colors=['빨강','초록','파랑','노랑','검정']\n",
        "print(colors)\n",
        "\n",
        "colors.insert(2,'분홍')\n",
        "print(colors)\n",
        "colors.append('주황')\n",
        "print(colors)\n"
      ],
      "metadata": {
        "colab": {
          "base_uri": "https://localhost:8080/"
        },
        "id": "8Sg34B8UYp3D",
        "outputId": "84d45428-f51e-48e9-9ce9-f4e62b81dce8"
      },
      "execution_count": 19,
      "outputs": [
        {
          "output_type": "stream",
          "name": "stdout",
          "text": [
            "['빨강', '초록', '파랑', '노랑', '검정']\n",
            "['빨강', '초록', '분홍', '파랑', '노랑', '검정']\n",
            "['빨강', '초록', '분홍', '파랑', '노랑', '검정', '주황']\n"
          ]
        }
      ]
    },
    {
      "cell_type": "markdown",
      "source": [
        "##리스트 요소 변경하기"
      ],
      "metadata": {
        "id": "fy0Hy7w6Zg7t"
      }
    },
    {
      "cell_type": "code",
      "source": [
        "colors=['빨강','초록','파랑','노랑','검정']\n",
        "print(colors)\n",
        "colors[3]='주황'\n",
        "print(colors)\n",
        "\n",
        "colors[1:3]='흰색'\n",
        "print(colors)\n",
        "\n",
        "colors[1:3]=['흰색','갈색']\n",
        "print(colors)\n",
        "\n",
        "colors[1:4]='흰색'  ##자리가 없으면 그 자리값이 없어짐\n",
        "print(colors)\n"
      ],
      "metadata": {
        "colab": {
          "base_uri": "https://localhost:8080/"
        },
        "id": "DLrhpNq3Zjh1",
        "outputId": "15f9151f-6128-4ad3-81b4-a1fc1520cdc7"
      },
      "execution_count": 26,
      "outputs": [
        {
          "output_type": "stream",
          "name": "stdout",
          "text": [
            "['빨강', '초록', '파랑', '노랑', '검정']\n",
            "['빨강', '초록', '파랑', '주황', '검정']\n",
            "['빨강', '흰', '색', '주황', '검정']\n",
            "['빨강', '흰색', '갈색', '주황', '검정']\n",
            "['빨강', '흰', '색', '검정']\n"
          ]
        }
      ]
    },
    {
      "cell_type": "markdown",
      "source": [
        "##리스트 요소 삭제하기"
      ],
      "metadata": {
        "id": "nYLMFxEabY25"
      }
    },
    {
      "cell_type": "code",
      "source": [
        "colors=['빨강','초록','파랑','노랑','검정','노랑','보라']\n",
        "print(colors)\n",
        "\n",
        "colors.pop()\n",
        "print(colors)\n",
        "\n",
        "colors.remove('노랑')  ## 첫번째 노랑만 삭제됨\n",
        "print(colors)\n",
        "\n",
        "colors.clear()\n",
        "print(colors)\n",
        "\n",
        "##리스트 자체 삭제\n",
        "##del(colors)"
      ],
      "metadata": {
        "colab": {
          "base_uri": "https://localhost:8080/"
        },
        "id": "e29RFTwMba34",
        "outputId": "129565d7-7435-49b4-9661-0b1a2eb8c638"
      },
      "execution_count": 33,
      "outputs": [
        {
          "output_type": "stream",
          "name": "stdout",
          "text": [
            "['빨강', '초록', '파랑', '노랑', '검정', '노랑', '보라']\n",
            "['빨강', '초록', '파랑', '노랑', '검정', '노랑']\n",
            "['빨강', '초록', '파랑', '검정', '노랑']\n",
            "[]\n"
          ]
        }
      ]
    },
    {
      "cell_type": "markdown",
      "source": [
        "##2차원/3차원 리스트 요소 접근"
      ],
      "metadata": {
        "id": "4X6C9-YIc_WU"
      }
    },
    {
      "cell_type": "code",
      "source": [
        "animals=['사자','호랑이','곰',['고양이','강아지',['돌고래','범고래'],'햄스터']]\n",
        "print(animals)\n",
        "print(animals[1])\n",
        "print(animals[3])\n",
        "print(animals[3][1])\n",
        "print(animals[3][2][1])\n",
        "print(animals[3][2][0:2])\n",
        "\n",
        "##요소의 길이\n",
        "print(len(animals))\n",
        "print(len(animals[3]))\n",
        "print(len(animals[3][2]))\n",
        "\n"
      ],
      "metadata": {
        "colab": {
          "base_uri": "https://localhost:8080/"
        },
        "id": "nzZAW6MMdEVR",
        "outputId": "a2f679d8-290e-46cf-d019-29a0a1c0bc49"
      },
      "execution_count": 44,
      "outputs": [
        {
          "output_type": "stream",
          "name": "stdout",
          "text": [
            "['사자', '호랑이', '곰', ['고양이', '강아지', ['돌고래', '범고래'], '햄스터']]\n",
            "호랑이\n",
            "['고양이', '강아지', ['돌고래', '범고래'], '햄스터']\n",
            "강아지\n",
            "범고래\n",
            "['돌고래', '범고래']\n",
            "4\n",
            "4\n",
            "2\n"
          ]
        }
      ]
    },
    {
      "cell_type": "markdown",
      "source": [
        "##리스트 함수"
      ],
      "metadata": {
        "id": "fXFnsb57gMHU"
      }
    },
    {
      "cell_type": "code",
      "source": [
        "colors=['빨강','초록','파랑','노랑','검정','노랑','보라']\n",
        "\n",
        "print(colors)\n",
        "\n",
        "colors.reverse()\n",
        "print(colors)\n",
        "\n",
        "colors.sort() ##가나다 정렬\n",
        "print(colors)\n",
        "\n",
        "print(colors.index('파랑'))\n",
        "print(colors.index('노랑'))  ##젤 앞에 있는 노랑의 index\n",
        "\n",
        "print(colors.count('노랑'))\n",
        "\n",
        "##list를 정렬해서 새로운 list생성\n",
        "newsort= sorted(colors)\n",
        "print(newsort)"
      ],
      "metadata": {
        "colab": {
          "base_uri": "https://localhost:8080/"
        },
        "id": "PMJ6r8SPgN9r",
        "outputId": "efd5a801-f312-4d0f-dde5-c8657e4f14a8"
      },
      "execution_count": 54,
      "outputs": [
        {
          "output_type": "stream",
          "name": "stdout",
          "text": [
            "['빨강', '초록', '파랑', '노랑', '검정', '노랑', '보라']\n",
            "['보라', '노랑', '검정', '노랑', '파랑', '초록', '빨강']\n",
            "['검정', '노랑', '노랑', '보라', '빨강', '초록', '파랑']\n",
            "6\n",
            "1\n",
            "2\n",
            "['검정', '노랑', '노랑', '보라', '빨강', '초록', '파랑']\n"
          ]
        }
      ]
    },
    {
      "cell_type": "code",
      "source": [
        "colors=['빨강','초록','파랑','노랑','검정','노랑','보라']\n",
        "print(colors)\n",
        "new_colors=['red','green','blue']\n",
        "print(new_colors)\n",
        "\n",
        "#colors.extend(new_colors)  //리스트뒤에 추가, +연산자와 같다\n",
        "#print(colors)\n",
        "\n",
        "colors += new_colors\n",
        "print(colors)\n"
      ],
      "metadata": {
        "colab": {
          "base_uri": "https://localhost:8080/"
        },
        "id": "lYayLTl7iBWL",
        "outputId": "50f8e9af-d778-448f-c469-b5193f6ecd2d"
      },
      "execution_count": 58,
      "outputs": [
        {
          "output_type": "stream",
          "name": "stdout",
          "text": [
            "['빨강', '초록', '파랑', '노랑', '검정', '노랑', '보라']\n",
            "['red', 'green', 'blue']\n",
            "['빨강', '초록', '파랑', '노랑', '검정', '노랑', '보라', 'red', 'green', 'blue']\n"
          ]
        }
      ]
    },
    {
      "cell_type": "markdown",
      "source": [
        "#딕셔너리"
      ],
      "metadata": {
        "id": "HF03CxaMngps"
      }
    },
    {
      "cell_type": "code",
      "source": [
        "dic= dict() ## 빈 딕셔너리 생성\n",
        "##dic= {} ## 빈 딕셔너리 생성\n",
        "print(type(dic))\n",
        "\n",
        "members ={1:'이승철',2:'박정현', 'bts':['지민','RM','뷔','지민']}\n",
        "print(members)\n",
        "\n",
        "print(members[2])\n",
        "print(members['bts'])\n",
        "print(members['bts'][1])\n",
        "\n",
        "print(len(members))"
      ],
      "metadata": {
        "colab": {
          "base_uri": "https://localhost:8080/"
        },
        "id": "n-qAu-Z4njR0",
        "outputId": "9ea286e2-9a14-4b04-8d95-74c0427a4b3b"
      },
      "execution_count": 66,
      "outputs": [
        {
          "output_type": "stream",
          "name": "stdout",
          "text": [
            "<class 'dict'>\n",
            "{1: '이승철', 2: '박정현', 'bts': ['지민', 'RM', '뷔', '지민']}\n",
            "박정현\n",
            "['지민', 'RM', '뷔', '지민']\n",
            "RM\n",
            "3\n"
          ]
        }
      ]
    },
    {
      "cell_type": "code",
      "source": [],
      "metadata": {
        "id": "gt18TdGWvMw9"
      },
      "execution_count": null,
      "outputs": []
    },
    {
      "cell_type": "code",
      "source": [
        "##키를 통해서 value에 접근할수 있다\n",
        "\n",
        "members ={1:'이승철',2:'박정현', 'bts':['지민','RM','뷔','지민']}\n",
        "\n",
        "for key in members:\n",
        "  print(f\"key->{key}, value->{members[key]}\")"
      ],
      "metadata": {
        "colab": {
          "base_uri": "https://localhost:8080/"
        },
        "outputId": "9330e8ae-d8b3-426e-b385-90c261b66a73",
        "id": "YLaVne-PvNQW"
      },
      "execution_count": 69,
      "outputs": [
        {
          "output_type": "stream",
          "name": "stdout",
          "text": [
            "key->1, value->이승철\n",
            "key->2, value->박정현\n",
            "key->bts, value->['지민', 'RM', '뷔', '지민']\n"
          ]
        }
      ]
    },
    {
      "cell_type": "markdown",
      "source": [
        "##딕셔너리에서 자주 사용하는 함수"
      ],
      "metadata": {
        "id": "5FUcLgD4wMm4"
      }
    },
    {
      "cell_type": "code",
      "source": [
        "members ={1:'이승철',2:'박정현', 'bts':['지민','RM','뷔','지민']}\n",
        "\n",
        "print(members.keys())\n",
        "print(members.values())\n",
        "print(members.items())\n",
        "\n",
        "for key,value in members.items():\n",
        "  print(key,value)"
      ],
      "metadata": {
        "colab": {
          "base_uri": "https://localhost:8080/"
        },
        "id": "qZTs7cyrwKHY",
        "outputId": "1a0bec90-7801-4066-fb19-8249631619ea"
      },
      "execution_count": 73,
      "outputs": [
        {
          "output_type": "stream",
          "name": "stdout",
          "text": [
            "dict_keys([1, 2, 'bts'])\n",
            "dict_values(['이승철', '박정현', ['지민', 'RM', '뷔', '지민']])\n",
            "dict_items([(1, '이승철'), (2, '박정현'), ('bts', ['지민', 'RM', '뷔', '지민'])])\n",
            "1 이승철\n",
            "2 박정현\n",
            "bts ['지민', 'RM', '뷔', '지민']\n"
          ]
        }
      ]
    },
    {
      "cell_type": "code",
      "source": [
        "members ={1:'이승철',2:'박정현', 'bts':['지민','RM','뷔','지민']}\n",
        "\n",
        "\n",
        "for value in members.values():\n",
        "  print(value)"
      ],
      "metadata": {
        "colab": {
          "base_uri": "https://localhost:8080/"
        },
        "id": "0lFcX5uVxIat",
        "outputId": "970c83fd-5bc8-44ca-8929-0171c2c03ff8"
      },
      "execution_count": 75,
      "outputs": [
        {
          "output_type": "stream",
          "name": "stdout",
          "text": [
            "이승철\n",
            "박정현\n",
            "['지민', 'RM', '뷔', '지민']\n"
          ]
        }
      ]
    },
    {
      "cell_type": "markdown",
      "source": [
        "##딕셔너리 요소 추가/수정/삭제"
      ],
      "metadata": {
        "id": "-pIlSWeIyJND"
      }
    },
    {
      "cell_type": "code",
      "source": [
        "members ={1:'이승철',2:'박정현', 'bts':['지민','RM','뷔','지민']}\n",
        "print(members)\n",
        "\n",
        "members[3] ='NCT Dream'\n",
        "print(members)\n",
        "\n",
        "members['소속사']=['하이브','SM기획']\n",
        "print(members)\n",
        "\n",
        "members[1]='세븐틴'\n",
        "print(members)\n",
        "\n",
        "del(members['소속사'])\n",
        "print(members)\n",
        "\n",
        "##del(members)  ## 딕셔너리 삭제\n",
        "print(members)\n"
      ],
      "metadata": {
        "colab": {
          "base_uri": "https://localhost:8080/"
        },
        "id": "bPdoH3OQx7jB",
        "outputId": "113ed5d3-024d-40df-b29f-1d564efd878a"
      },
      "execution_count": 82,
      "outputs": [
        {
          "output_type": "stream",
          "name": "stdout",
          "text": [
            "{1: '이승철', 2: '박정현', 'bts': ['지민', 'RM', '뷔', '지민']}\n",
            "{1: '이승철', 2: '박정현', 'bts': ['지민', 'RM', '뷔', '지민'], 3: 'NCT Dream'}\n",
            "{1: '이승철', 2: '박정현', 'bts': ['지민', 'RM', '뷔', '지민'], 3: 'NCT Dream', '소속사': ['하이브', 'SM기획']}\n",
            "{1: '세븐틴', 2: '박정현', 'bts': ['지민', 'RM', '뷔', '지민'], 3: 'NCT Dream', '소속사': ['하이브', 'SM기획']}\n",
            "{1: '세븐틴', 2: '박정현', 'bts': ['지민', 'RM', '뷔', '지민'], 3: 'NCT Dream'}\n",
            "{1: '세븐틴', 2: '박정현', 'bts': ['지민', 'RM', '뷔', '지민'], 3: 'NCT Dream'}\n"
          ]
        }
      ]
    },
    {
      "cell_type": "markdown",
      "source": [
        "# 튜플"
      ],
      "metadata": {
        "id": "98--bVgoxvwJ"
      }
    },
    {
      "cell_type": "code",
      "source": [
        "##튜플 생성\n",
        "\n",
        "tup= tuple()\n",
        "## tup=()   ## 빈 튜플 생성\n",
        "print(type(tup))\n",
        "\n",
        "a=[1,2,3,4]\n",
        "print(a)\n",
        "print(tuple(a))"
      ],
      "metadata": {
        "colab": {
          "base_uri": "https://localhost:8080/"
        },
        "id": "dX_K62GMxzdJ",
        "outputId": "e4b44377-1b7c-46ce-d5cf-09ba42247920"
      },
      "execution_count": 84,
      "outputs": [
        {
          "output_type": "stream",
          "name": "stdout",
          "text": [
            "<class 'tuple'>\n",
            "[1, 2, 3, 4]\n",
            "(1, 2, 3, 4)\n"
          ]
        }
      ]
    },
    {
      "cell_type": "code",
      "source": [
        "tup='사과'\n",
        "print(type(tup)) #그냥이면  str타입\n",
        "\n",
        "tup=('사과',) #요소가 하나이상을 때는 맨뒤에 , 추가해서  튜플로 됨\n",
        "print(type(tup))\n",
        "\n",
        "\n",
        "print(tup.index('사과'))\n",
        "print(tup.count('사과'))\n",
        "\n",
        "\n",
        "a,b= 100,200\n",
        "a,b= 100,[1,2,3]\n",
        "print(a,b)\n",
        "print(type(b))\n"
      ],
      "metadata": {
        "colab": {
          "base_uri": "https://localhost:8080/"
        },
        "id": "i0JpuZM60ixp",
        "outputId": "e3b85c7f-7688-495d-9d1f-ab7d97f86888"
      },
      "execution_count": 91,
      "outputs": [
        {
          "output_type": "stream",
          "name": "stdout",
          "text": [
            "<class 'str'>\n",
            "<class 'tuple'>\n",
            "0\n",
            "1\n",
            "100 [1, 2, 3]\n",
            "<class 'list'>\n"
          ]
        }
      ]
    },
    {
      "cell_type": "code",
      "source": [
        "def nSum(a,b):\n",
        "  return a+b\n",
        "\n",
        "nSum(100,200)"
      ],
      "metadata": {
        "colab": {
          "base_uri": "https://localhost:8080/"
        },
        "id": "prUtgsud20LH",
        "outputId": "8c0cc009-cc5d-4b3c-84aa-e43ec4752944"
      },
      "execution_count": 94,
      "outputs": [
        {
          "output_type": "execute_result",
          "data": {
            "text/plain": [
              "300"
            ]
          },
          "metadata": {},
          "execution_count": 94
        }
      ]
    },
    {
      "cell_type": "markdown",
      "source": [
        "#집합"
      ],
      "metadata": {
        "id": "zX6u6sNW53bX"
      }
    },
    {
      "cell_type": "code",
      "source": [
        "a= set() #빈집합\n",
        "print(type(a))\n",
        "\n",
        "a={1,2,3,4,2,2,4}  ## 유니크한 값만 남음\n",
        "print(a)\n",
        "\n",
        "b=[1,2,3,3,4,5,6,7,8,4,5,6,7]\n",
        "print(b)\n",
        "print(set(b))"
      ],
      "metadata": {
        "colab": {
          "base_uri": "https://localhost:8080/"
        },
        "id": "ciPKxWYM59n4",
        "outputId": "97969bf5-b6de-4628-8736-3ad631dfcf60"
      },
      "execution_count": 99,
      "outputs": [
        {
          "output_type": "stream",
          "name": "stdout",
          "text": [
            "<class 'set'>\n",
            "{1, 2, 3, 4}\n",
            "[1, 2, 3, 3, 4, 5, 6, 7, 8, 4, 5, 6, 7]\n",
            "{1, 2, 3, 4, 5, 6, 7, 8}\n"
          ]
        }
      ]
    },
    {
      "cell_type": "code",
      "source": [
        "#집합에 요소 추가 삭제\n",
        "S= {1,2,3,'a','b'}\n",
        "print(S)\n",
        "S.add('c')  ##집합에는 순서가 없다, index 가 없다\n",
        "print(S)\n",
        "S.update(['d','e',4])\n",
        "print(S)\n",
        "S.update('apple')   ##apple이 각 알파벳에 따라 중복되지 않게 들어감\n",
        "print(S)\n",
        "S.discard('c')\n",
        "print(S)\n",
        "S.discard('apple')  ##이건 apple이 통으로 요소로 작용함\n",
        "print(S)\n",
        "S.remove('d')\n",
        "print(S)\n",
        "S.pop()\n",
        "print(S)\n",
        "S.clear()\n",
        "print(S)\n"
      ],
      "metadata": {
        "colab": {
          "base_uri": "https://localhost:8080/"
        },
        "id": "Qg-3kmjR7e_Z",
        "outputId": "7faae476-c12a-4cb3-bfc4-85a8a733ad8e"
      },
      "execution_count": 112,
      "outputs": [
        {
          "output_type": "stream",
          "name": "stdout",
          "text": [
            "{1, 2, 3, 'a', 'b'}\n",
            "{1, 2, 3, 'a', 'b', 'c'}\n",
            "{1, 2, 3, 'c', 4, 'd', 'b', 'e', 'a'}\n",
            "{1, 2, 3, 'c', 4, 'd', 'p', 'b', 'e', 'a', 'l'}\n",
            "{1, 2, 3, 4, 'd', 'p', 'b', 'e', 'a', 'l'}\n",
            "{1, 2, 3, 4, 'd', 'p', 'b', 'e', 'a', 'l'}\n",
            "{1, 2, 3, 4, 'p', 'b', 'e', 'a', 'l'}\n",
            "{2, 3, 4, 'p', 'b', 'e', 'a', 'l'}\n",
            "set()\n"
          ]
        }
      ]
    },
    {
      "cell_type": "markdown",
      "source": [
        "##set 교집합, 합집합, 차집합"
      ],
      "metadata": {
        "id": "jhX3H3BK-Rzl"
      }
    },
    {
      "cell_type": "code",
      "source": [
        "s1={2,4,6,8,10}\n",
        "s2={1,2,3,4,5}\n",
        "s= s1 & s2\n",
        "print(s)\n",
        "print(s1.intersection(s2))\n",
        "\n",
        "s= s1|s2\n",
        "print(s)\n",
        "print(s1.union(s2))\n",
        "\n",
        "s= s1-s2\n",
        "print(s)\n",
        "print(s1.difference(s2))\n",
        "\n",
        "s= s2-s1\n",
        "print(s)\n",
        "print(s2.difference(s1))\n",
        "\n",
        "s1.intersection_update(s2)  ##교집합한 결과를  s1에 저장해 버림\n",
        "print(s1)"
      ],
      "metadata": {
        "colab": {
          "base_uri": "https://localhost:8080/"
        },
        "id": "eV3G6iKX9_6P",
        "outputId": "571eff12-a30a-4741-9799-b9f6c7fc2825"
      },
      "execution_count": 122,
      "outputs": [
        {
          "output_type": "stream",
          "name": "stdout",
          "text": [
            "{2, 4}\n",
            "{2, 4}\n",
            "{1, 2, 3, 4, 5, 6, 8, 10}\n",
            "{1, 2, 3, 4, 5, 6, 8, 10}\n",
            "{8, 10, 6}\n",
            "{8, 10, 6}\n",
            "{1, 3, 5}\n",
            "{1, 3, 5}\n",
            "{2, 4}\n"
          ]
        }
      ]
    }
  ]
}