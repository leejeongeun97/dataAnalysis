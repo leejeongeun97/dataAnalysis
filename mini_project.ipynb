{
  "nbformat": 4,
  "nbformat_minor": 0,
  "metadata": {
    "colab": {
      "provenance": [],
      "authorship_tag": "ABX9TyP3EGD8ApKkTiM9HvYqFYwx",
      "include_colab_link": true
    },
    "kernelspec": {
      "name": "python3",
      "display_name": "Python 3"
    },
    "language_info": {
      "name": "python"
    }
  },
  "cells": [
    {
      "cell_type": "markdown",
      "metadata": {
        "id": "view-in-github",
        "colab_type": "text"
      },
      "source": [
        "<a href=\"https://colab.research.google.com/github/leejeongeun97/dataAnalysis/blob/main/mini_project.ipynb\" target=\"_parent\"><img src=\"https://colab.research.google.com/assets/colab-badge.svg\" alt=\"Open In Colab\"/></a>"
      ]
    },
    {
      "cell_type": "code",
      "execution_count": 22,
      "metadata": {
        "colab": {
          "base_uri": "https://localhost:8080/"
        },
        "id": "Oe8iv-7CIW_t",
        "outputId": "180d2d7e-11e6-466d-f608-10bbe806682b"
      },
      "outputs": [
        {
          "output_type": "stream",
          "name": "stdout",
          "text": [
            "---- 선택메뉴---\n",
            "1. 항목 등록\n",
            "2. 항목 수정\n",
            "3. 항목 보기\n",
            "4. 항목 삭제\n",
            "5. 모든 항목 보기\n",
            "0. 종료하기\n",
            "---------------\n",
            "메뉴 선택(0~5):0\n",
            "프로그램을 종료합니다\n"
          ]
        }
      ],
      "source": [
        "def menu_insert(item_dic):\n",
        "    new_item = input('추가할 항목:')\n",
        "    new_item_price = input('가격:')\n",
        "\n",
        "    item_dic[new_item]=new_item_price\n",
        "\n",
        "def menu_modi(item_dic):\n",
        "    item_name = input('수정할 항목:')\n",
        "    item_price = input('가격:')\n",
        "    item_dic[item_name]=item_price\n",
        "\n",
        "def menu_view(item_dic):\n",
        "    item_name = input('볼 항목:')\n",
        "    print(f'{item_name}={item_dic[item_name]}입니다')\n",
        "\n",
        "def menu_del(item_dic):\n",
        "    item_name = input('삭제할 항목:')\n",
        "    del(item_dic[item_name])\n",
        "\n",
        "def menu_viewall(item_dic):\n",
        "    for item_key,item_name in item_dic.items() :\n",
        "        print(f'{item_key}={item_name}입니다')\n",
        "\n",
        "def list_update(item_dic):\n",
        "    from pathlib import Path\n",
        "\n",
        "    file_path= Path(\"./mini_list.txt\")\n",
        "\n",
        "    if file_path.is_file() == False:\n",
        "        f = open('mini_list.txt','w')\n",
        "        f.close()\n",
        "\n",
        "    f = open('./mini_list.txt','r')\n",
        "\n",
        "    while True:\n",
        "        line = {f.readline()}\n",
        "        if not line: break\n",
        "        item_dic[line[line.]]\n",
        "\n",
        "    f.close()\n",
        "\n",
        "    for item_key,item_name in item_dic.items() :\n",
        "        print(f'{item_key}={item_name}입니다')\n",
        "\n",
        "menu_txt='''---- 선택메뉴---\n",
        "1. 항목 등록\n",
        "2. 항목 수정\n",
        "3. 항목 보기\n",
        "4. 항목 삭제\n",
        "5. 모든 항목 보기\n",
        "0. 종료하기\n",
        "---------------'''\n",
        "\n",
        "\n",
        "item_dic =dict()\n",
        "\n",
        "list_update(item_dic)\n",
        "\n",
        "print(menu_txt)\n",
        "while True:\n",
        "    menu_sel = input('메뉴 선택(0~5):')\n",
        "\n",
        "    if menu_sel == '1':\n",
        "        menu_insert(item_dic)\n",
        "    elif menu_sel == '2':\n",
        "        menu_modi(item_dic)\n",
        "    elif menu_sel == '3':\n",
        "        menu_view(item_dic)\n",
        "    elif menu_sel == '4':\n",
        "        menu_del(item_dic)\n",
        "    elif menu_sel == '5':\n",
        "        menu_viewall(item_dic)\n",
        "    elif menu_sel == '0':\n",
        "        print(\"프로그램을 종료합니다\")\n",
        "        break\n",
        "    else :\n",
        "        print(\"잘못된 입력입니다. 다시 입력하세요\")\n",
        "\n"
      ]
    }
  ]
}