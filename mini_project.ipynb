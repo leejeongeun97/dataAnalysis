{
  "nbformat": 4,
  "nbformat_minor": 0,
  "metadata": {
    "colab": {
      "provenance": [],
      "authorship_tag": "ABX9TyOcCgr85JfeETa2wcMa1EcL",
      "include_colab_link": true
    },
    "kernelspec": {
      "name": "python3",
      "display_name": "Python 3"
    },
    "language_info": {
      "name": "python"
    }
  },
  "cells": [
    {
      "cell_type": "markdown",
      "metadata": {
        "id": "view-in-github",
        "colab_type": "text"
      },
      "source": [
        "<a href=\"https://colab.research.google.com/github/leejeongeun97/dataAnalysis/blob/main/mini_project.ipynb\" target=\"_parent\"><img src=\"https://colab.research.google.com/assets/colab-badge.svg\" alt=\"Open In Colab\"/></a>"
      ]
    },
    {
      "cell_type": "code",
      "execution_count": 28,
      "metadata": {
        "colab": {
          "base_uri": "https://localhost:8080/",
          "height": 612
        },
        "id": "Oe8iv-7CIW_t",
        "outputId": "0a242802-5987-4172-8bf6-08f6f30bb66e"
      },
      "outputs": [
        {
          "output_type": "stream",
          "name": "stdout",
          "text": [
            "가지=1000원입니다\n",
            "휴지=3000원입니다\n",
            "바지=10000원입니다\n",
            "포크=1000원입니다\n",
            "그릇=12000원입니다\n",
            "---- 선택메뉴---\n",
            "1. 항목 등록\n",
            "2. 항목 수정\n",
            "3. 항목 보기\n",
            "4. 항목 삭제\n",
            "5. 모든 항목 보기\n",
            "0. 종료하기\n",
            "---------------\n"
          ]
        },
        {
          "output_type": "error",
          "ename": "KeyboardInterrupt",
          "evalue": "Interrupted by user",
          "traceback": [
            "\u001b[0;31m---------------------------------------------------------------------------\u001b[0m",
            "\u001b[0;31mKeyboardInterrupt\u001b[0m                         Traceback (most recent call last)",
            "\u001b[0;32m<ipython-input-28-738d45c93e6e>\u001b[0m in \u001b[0;36m<cell line: 71>\u001b[0;34m()\u001b[0m\n\u001b[1;32m     70\u001b[0m \u001b[0mprint\u001b[0m\u001b[0;34m(\u001b[0m\u001b[0mmenu_txt\u001b[0m\u001b[0;34m)\u001b[0m\u001b[0;34m\u001b[0m\u001b[0;34m\u001b[0m\u001b[0m\n\u001b[1;32m     71\u001b[0m \u001b[0;32mwhile\u001b[0m \u001b[0;32mTrue\u001b[0m\u001b[0;34m:\u001b[0m\u001b[0;34m\u001b[0m\u001b[0;34m\u001b[0m\u001b[0m\n\u001b[0;32m---> 72\u001b[0;31m     \u001b[0mmenu_sel\u001b[0m \u001b[0;34m=\u001b[0m \u001b[0minput\u001b[0m\u001b[0;34m(\u001b[0m\u001b[0;34m'메뉴 선택(0~5):'\u001b[0m\u001b[0;34m)\u001b[0m\u001b[0;34m\u001b[0m\u001b[0;34m\u001b[0m\u001b[0m\n\u001b[0m\u001b[1;32m     73\u001b[0m \u001b[0;34m\u001b[0m\u001b[0m\n\u001b[1;32m     74\u001b[0m     \u001b[0;32mif\u001b[0m \u001b[0mmenu_sel\u001b[0m \u001b[0;34m==\u001b[0m \u001b[0;34m'1'\u001b[0m\u001b[0;34m:\u001b[0m\u001b[0;34m\u001b[0m\u001b[0;34m\u001b[0m\u001b[0m\n",
            "\u001b[0;32m/usr/local/lib/python3.10/dist-packages/ipykernel/kernelbase.py\u001b[0m in \u001b[0;36mraw_input\u001b[0;34m(self, prompt)\u001b[0m\n\u001b[1;32m    849\u001b[0m                 \u001b[0;34m\"raw_input was called, but this frontend does not support input requests.\"\u001b[0m\u001b[0;34m\u001b[0m\u001b[0;34m\u001b[0m\u001b[0m\n\u001b[1;32m    850\u001b[0m             )\n\u001b[0;32m--> 851\u001b[0;31m         return self._input_request(str(prompt),\n\u001b[0m\u001b[1;32m    852\u001b[0m             \u001b[0mself\u001b[0m\u001b[0;34m.\u001b[0m\u001b[0m_parent_ident\u001b[0m\u001b[0;34m,\u001b[0m\u001b[0;34m\u001b[0m\u001b[0;34m\u001b[0m\u001b[0m\n\u001b[1;32m    853\u001b[0m             \u001b[0mself\u001b[0m\u001b[0;34m.\u001b[0m\u001b[0m_parent_header\u001b[0m\u001b[0;34m,\u001b[0m\u001b[0;34m\u001b[0m\u001b[0;34m\u001b[0m\u001b[0m\n",
            "\u001b[0;32m/usr/local/lib/python3.10/dist-packages/ipykernel/kernelbase.py\u001b[0m in \u001b[0;36m_input_request\u001b[0;34m(self, prompt, ident, parent, password)\u001b[0m\n\u001b[1;32m    893\u001b[0m             \u001b[0;32mexcept\u001b[0m \u001b[0mKeyboardInterrupt\u001b[0m\u001b[0;34m:\u001b[0m\u001b[0;34m\u001b[0m\u001b[0;34m\u001b[0m\u001b[0m\n\u001b[1;32m    894\u001b[0m                 \u001b[0;31m# re-raise KeyboardInterrupt, to truncate traceback\u001b[0m\u001b[0;34m\u001b[0m\u001b[0;34m\u001b[0m\u001b[0m\n\u001b[0;32m--> 895\u001b[0;31m                 \u001b[0;32mraise\u001b[0m \u001b[0mKeyboardInterrupt\u001b[0m\u001b[0;34m(\u001b[0m\u001b[0;34m\"Interrupted by user\"\u001b[0m\u001b[0;34m)\u001b[0m \u001b[0;32mfrom\u001b[0m \u001b[0;32mNone\u001b[0m\u001b[0;34m\u001b[0m\u001b[0;34m\u001b[0m\u001b[0m\n\u001b[0m\u001b[1;32m    896\u001b[0m             \u001b[0;32mexcept\u001b[0m \u001b[0mException\u001b[0m \u001b[0;32mas\u001b[0m \u001b[0me\u001b[0m\u001b[0;34m:\u001b[0m\u001b[0;34m\u001b[0m\u001b[0;34m\u001b[0m\u001b[0m\n\u001b[1;32m    897\u001b[0m                 \u001b[0mself\u001b[0m\u001b[0;34m.\u001b[0m\u001b[0mlog\u001b[0m\u001b[0;34m.\u001b[0m\u001b[0mwarning\u001b[0m\u001b[0;34m(\u001b[0m\u001b[0;34m\"Invalid Message:\"\u001b[0m\u001b[0;34m,\u001b[0m \u001b[0mexc_info\u001b[0m\u001b[0;34m=\u001b[0m\u001b[0;32mTrue\u001b[0m\u001b[0;34m)\u001b[0m\u001b[0;34m\u001b[0m\u001b[0;34m\u001b[0m\u001b[0m\n",
            "\u001b[0;31mKeyboardInterrupt\u001b[0m: Interrupted by user"
          ]
        }
      ],
      "source": [
        "def menu_insert():\n",
        "    new_item = input('추가할 항목:')\n",
        "    new_item_price = input('가격:')\n",
        "\n",
        "    item_dic[new_item]=new_item_price\n",
        "\n",
        "def menu_modi():\n",
        "    item_name = input('수정할 항목:')\n",
        "    item_price = input('가격:')\n",
        "    item_dic[item_name]=item_price\n",
        "\n",
        "def menu_view():\n",
        "    item_name = input('볼 항목:')\n",
        "    print(f'{item_name}={item_dic[item_name]}입니다')\n",
        "\n",
        "def menu_del():\n",
        "    item_name = input('삭제할 항목:')\n",
        "    del(item_dic[item_name])\n",
        "\n",
        "def menu_viewall():\n",
        "    for item_key,item_name in item_dic.items() :\n",
        "        print(f'{item_key}={item_name}입니다')\n",
        "\n",
        "def list_update():\n",
        "    from pathlib import Path\n",
        "\n",
        "    file_path= Path(\"./mini_list.txt\")\n",
        "\n",
        "    if file_path.is_file() == False:\n",
        "        f = open('mini_list.txt','w')\n",
        "        f.close()\n",
        "\n",
        "    f = open('./mini_list.txt','r')\n",
        "\n",
        "    while True:\n",
        "        line = f.readline()\n",
        "        if not line: break\n",
        "        temp=line.split()\n",
        "        item_dic[temp[0]] = temp[1]\n",
        "\n",
        "    f.close()\n",
        "\n",
        "    for item_key,item_name in item_dic.items() :\n",
        "        print(f'{item_key}={item_name}입니다')\n",
        "\n",
        "def write_file() :\n",
        "    f = open('./mini_list.txt','w')\n",
        "    temp_sting=\"\"\n",
        "    for key, value in item_dic.items() :\n",
        "        temp_sting+= f'{key} {value}\\n'\n",
        "    f.write(temp_sting)\n",
        "    f.close()\n",
        "\n",
        "\n",
        "\n",
        "menu_txt='''---- 선택메뉴---\n",
        "1. 항목 등록\n",
        "2. 항목 수정\n",
        "3. 항목 보기\n",
        "4. 항목 삭제\n",
        "5. 모든 항목 보기\n",
        "0. 종료하기\n",
        "---------------'''\n",
        "\n",
        "\n",
        "item_dic =dict()\n",
        "\n",
        "list_update()\n",
        "\n",
        "print(menu_txt)\n",
        "while True:\n",
        "    menu_sel = input('메뉴 선택(0~5):')\n",
        "\n",
        "    if menu_sel == '1':\n",
        "        menu_insert()\n",
        "    elif menu_sel == '2':\n",
        "        menu_modi()\n",
        "    elif menu_sel == '3':\n",
        "        menu_view()\n",
        "    elif menu_sel == '4':\n",
        "        menu_del()\n",
        "    elif menu_sel == '5':\n",
        "        menu_viewall()\n",
        "    elif menu_sel == '0':\n",
        "        write_file()\n",
        "        print(\"프로그램을 종료합니다\")\n",
        "        break\n",
        "    else :\n",
        "        print(\"잘못된 입력입니다. 다시 입력하세요\")\n",
        "\n"
      ]
    }
  ]
}